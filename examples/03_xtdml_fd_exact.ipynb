{
  "cells": [
    {
      "cell_type": "markdown",
      "metadata": {
        "id": "view-in-github",
        "colab_type": "text"
      },
      "source": [
        "<a href=\"https://colab.research.google.com/github/POLSEAN/XTDML/blob/main/examples/03_xtdml_fd_exact.ipynb\" target=\"_parent\"><img src=\"https://colab.research.google.com/assets/colab-badge.svg\" alt=\"Open In Colab\"/></a>"
      ]
    },
    {
      "cell_type": "markdown",
      "metadata": {
        "id": "0gwXsN9yOS0H"
      },
      "source": [
        "# **DML for panel data: FD (exact) approach**\n",
        "\n",
        "---\n",
        "\n",
        "*Description*\n",
        "\n",
        "Estimation of the structural parameter using double machine learning (DML) with partially linear regression (PLR) models in the context of panel data with fixed effects as in Clarke and Poselli(2023).\n",
        "\n",
        "The package `XTDML` allows the estimation of the nuisance functions by machine learning methods and  the computation of the Neyman orthogonal score functions. `XTDML` is built on the CRAN package `DoubleML` (Bach et al., 2024), which uses the `mlr3` ecosystem and the `R6` package."
      ]
    },
    {
      "cell_type": "markdown",
      "source": [
        "**References**\n",
        "\n",
        "[1] Bach, P., Chernozhukov, V., Kurz, M. S., Spindler, M. and Klaassen, S. (2024), DoubleML - An Object-Oriented Implementation of Double Machine Learning in R, *Journal of Statistical Software*, 108(3):1-56.\n",
        "\n",
        "[2] Chernozhukov, V., Chetverikov, D., Demirer, M., Duflo, E., Hansen, C., Newey, W., and Robins, J. (2018). Double/debiased machine learning for treatment and structural parameters. *The Econometrics Journal*, 21(1):C1-C68.\n",
        "\n",
        "[3] Clarke, P. and Polselli, A. (2023). Double machine learning for static panel models with fixed effects. *arXiv preprint*, arXiv:2312.08174.\n",
        "\n",
        "[4] Mundlak, Y. (1978). On the pooling of time series and cross section data. *Econometrica*, pages 69-85."
      ],
      "metadata": {
        "id": "zB8ghxL6TZOj"
      }
    },
    {
      "cell_type": "markdown",
      "source": [
        "*Overview Code*\n",
        "\n",
        "1. Installation of XTDML and other R packages\n",
        "2. Loading the data\n",
        "3. Data management with FD transformation\n",
        "4. Set up of DML data environment\n",
        "5. Set up of DML estimation environment\n",
        "6. Extraction of DML estimates\n"
      ],
      "metadata": {
        "id": "uyR7GwZXhGej"
      }
    },
    {
      "cell_type": "markdown",
      "source": [
        "### **The Installation of `XTDML` package**\n",
        "\n",
        "The `XTDML` package can be installed following either options below:\n",
        "\n",
        "1. **Installation directly from GitHub:**\n",
        "  ```\n",
        "    #install.packages(\"devtools\")\n",
        "    library(devtools)\n",
        "\n",
        "    install_github(\"POLSEAN/XTDML\")\n",
        "    library(XTDML)\n",
        "  ```\n",
        "  *Note this code works **ONLY with RStudio (desktop)**, but not with online platforms such as Google Colab or Kaggle.*\n",
        "\n",
        "\n",
        "2. **Download all folders in `XTDML`** from `https://github.com/POLSEAN/XTDML` pressing `<> CODE > Download ZIP`. Rename the downloaded .zip folder as `XTDML`, and upload it on Google Colab. Get the path and run the code `!unzip XTDML.zip` in Python, then change the RUNTIME to R and run\n",
        "   ```\n",
        "    #install.packages(\"devtools\")\n",
        "    library(devtools)\n",
        "\n",
        "    wd = \"~ your-directory/XTDML\"\n",
        "    devtools::load_all(wd)\n",
        "   ```\n",
        "\n",
        "For illustration purposes on Google Colab, we follow the second approach, but the first is recommended with RStudio (desktop).\n"
      ],
      "metadata": {
        "id": "BZ0bNRRmTb_t"
      }
    },
    {
      "cell_type": "markdown",
      "source": [
        "**Set RUNTIME > CHANGE RUNTIME TYPE > Python 3**\n",
        "\n",
        "The code below unzips the XTDML.zip folder that you have previously uploaded."
      ],
      "metadata": {
        "id": "tEQSwUnsTfPl"
      }
    },
    {
      "cell_type": "code",
      "source": [
        "!unzip XTDML.zip"
      ],
      "metadata": {
        "id": "UcnleM_uTYNK",
        "colab": {
          "base_uri": "https://localhost:8080/"
        },
        "outputId": "3a37e48d-89c8-4a40-fbf9-4bcc7dcdaf70"
      },
      "execution_count": null,
      "outputs": [
        {
          "output_type": "stream",
          "name": "stdout",
          "text": [
            "Archive:  XTDML.zip\n",
            " extracting: XTDML/.gitignore        \n",
            "  inflating: XTDML/.Rbuildignore     \n",
            "  inflating: XTDML/.RData            \n",
            "  inflating: XTDML/.Rhistory         \n",
            "   creating: XTDML/.Rproj.user/\n",
            "   creating: XTDML/.Rproj.user/22C44D20/\n",
            "   creating: XTDML/.Rproj.user/22C44D20/bibliography-index/\n",
            " extracting: XTDML/.Rproj.user/22C44D20/cpp-definition-cache  \n",
            "   creating: XTDML/.Rproj.user/22C44D20/ctx/\n",
            "   creating: XTDML/.Rproj.user/22C44D20/explorer-cache/\n",
            "   creating: XTDML/.Rproj.user/22C44D20/pcs/\n",
            "  inflating: XTDML/.Rproj.user/22C44D20/pcs/files-pane.pper  \n",
            " extracting: XTDML/.Rproj.user/22C44D20/pcs/source-pane.pper  \n",
            "  inflating: XTDML/.Rproj.user/22C44D20/pcs/windowlayoutstate.pper  \n",
            "  inflating: XTDML/.Rproj.user/22C44D20/pcs/workbench-pane.pper  \n",
            "   creating: XTDML/.Rproj.user/22C44D20/presentation/\n",
            "   creating: XTDML/.Rproj.user/22C44D20/profiles-cache/\n",
            " extracting: XTDML/.Rproj.user/22C44D20/rmd-outputs  \n",
            " extracting: XTDML/.Rproj.user/22C44D20/saved_source_markers  \n",
            "   creating: XTDML/.Rproj.user/22C44D20/sources/\n",
            "   creating: XTDML/.Rproj.user/22C44D20/sources/per/\n",
            "   creating: XTDML/.Rproj.user/22C44D20/sources/per/t/\n",
            "   creating: XTDML/.Rproj.user/22C44D20/sources/per/u/\n",
            "   creating: XTDML/.Rproj.user/22C44D20/tutorial/\n",
            "   creating: XTDML/.Rproj.user/22C44D20/viewer-cache/\n",
            "   creating: XTDML/.Rproj.user/EEF9BA3E/\n",
            "   creating: XTDML/.Rproj.user/EEF9BA3E/ctx/\n",
            "   creating: XTDML/.Rproj.user/EEF9BA3E/presentation/\n",
            "   creating: XTDML/.Rproj.user/EEF9BA3E/profiles-cache/\n",
            "   creating: XTDML/.Rproj.user/EEF9BA3E/sources/\n",
            "   creating: XTDML/.Rproj.user/EEF9BA3E/sources/session-029DDA3D/\n",
            " extracting: XTDML/.Rproj.user/EEF9BA3E/sources/session-029DDA3D/lock_file  \n",
            "   creating: XTDML/.Rproj.user/EEF9BA3E/tutorial/\n",
            "   creating: XTDML/.Rproj.user/shared/\n",
            "   creating: XTDML/.Rproj.user/shared/notebooks/\n",
            " extracting: XTDML/.Rproj.user/shared/notebooks/patch-chunk-names  \n",
            "  inflating: XTDML/DESCRIPTION       \n",
            "   creating: XTDML/man/\n",
            "  inflating: XTDML/man/dml_approx.Rd  \n",
            "  inflating: XTDML/man/dml_approx_data.Rd  \n",
            "  inflating: XTDML/man/dml_approx_data_from_data_frame.Rd  \n",
            "  inflating: XTDML/man/dml_approx_plr.Rd  \n",
            "  inflating: XTDML/man/dml_cre.Rd    \n",
            "  inflating: XTDML/man/dml_cre_data.Rd  \n",
            "  inflating: XTDML/man/dml_cre_data_from_data_frame.Rd  \n",
            "  inflating: XTDML/man/dml_cre_plr.Rd  \n",
            "  inflating: XTDML/man/dml_hybrid.Rd  \n",
            "  inflating: XTDML/man/dml_hybrid_data.Rd  \n",
            "  inflating: XTDML/man/dml_hybrid_data_from_data_frame.Rd  \n",
            "  inflating: XTDML/man/dml_hybrid_plr.Rd  \n",
            "  inflating: XTDML/NAMESPACE         \n",
            "   creating: XTDML/R/\n",
            "  inflating: XTDML/R/dml_approx_data.R  \n",
            "  inflating: XTDML/R/dml_cre_data.R  \n",
            "  inflating: XTDML/R/dml_hybrid_data.R  \n",
            "  inflating: XTDML/R/double_cre_ml.R  \n",
            "  inflating: XTDML/R/double_hybrid_ml.R  \n",
            "  inflating: XTDML/R/double_ml_approx.R  \n",
            "  inflating: XTDML/R/double_ml_approx_plr.R  \n",
            "  inflating: XTDML/R/double_ml_cre_plr.R  \n",
            "  inflating: XTDML/R/double_ml_hybrid_plr.R  \n",
            "  inflating: XTDML/R/helper.R        \n",
            "  inflating: XTDML/R/zzz.R           \n",
            "  inflating: XTDML/XTDML.Rproj       \n"
          ]
        }
      ]
    },
    {
      "cell_type": "markdown",
      "source": [
        "**From now change RUNTIME > SET RUNTIME TYPE > R**"
      ],
      "metadata": {
        "id": "N0WzbvMzTkiK"
      }
    },
    {
      "cell_type": "code",
      "execution_count": null,
      "metadata": {
        "colab": {
          "base_uri": "https://localhost:8080/"
        },
        "id": "XWH1eE7VCOP9",
        "outputId": "1c0a1a36-ea15-4fca-e62c-4f5b1d797e91",
        "collapsed": true
      },
      "outputs": [
        {
          "output_type": "stream",
          "name": "stderr",
          "text": [
            "Installing packages into ‘/usr/local/lib/R/site-library’\n",
            "(as ‘lib’ is unspecified)\n",
            "\n",
            "also installing the dependencies ‘bitops’, ‘gtools’, ‘caTools’, ‘globals’, ‘listenv’, ‘PRROC’, ‘gplots’, ‘insight’, ‘checkmate’, ‘future’, ‘future.apply’, ‘lgr’, ‘mlbench’, ‘mlr3measures’, ‘mlr3misc’, ‘parallelly’, ‘palmerpenguins’, ‘bbotk’, ‘RcppEigen’, ‘ROCR’\n",
            "\n",
            "\n",
            "Loading required package: usethis\n",
            "\n",
            "── \u001b[1mAttaching core tidyverse packages\u001b[22m ──────────────────────── tidyverse 2.0.0 ──\n",
            "\u001b[32m✔\u001b[39m \u001b[34mdplyr    \u001b[39m 1.1.4     \u001b[32m✔\u001b[39m \u001b[34mreadr    \u001b[39m 2.1.5\n",
            "\u001b[32m✔\u001b[39m \u001b[34mforcats  \u001b[39m 1.0.0     \u001b[32m✔\u001b[39m \u001b[34mstringr  \u001b[39m 1.5.1\n",
            "\u001b[32m✔\u001b[39m \u001b[34mggplot2  \u001b[39m 3.5.1     \u001b[32m✔\u001b[39m \u001b[34mtibble   \u001b[39m 3.2.1\n",
            "\u001b[32m✔\u001b[39m \u001b[34mlubridate\u001b[39m 1.9.3     \u001b[32m✔\u001b[39m \u001b[34mtidyr    \u001b[39m 1.3.1\n",
            "\u001b[32m✔\u001b[39m \u001b[34mpurrr    \u001b[39m 1.0.2     \n",
            "── \u001b[1mConflicts\u001b[22m ────────────────────────────────────────── tidyverse_conflicts() ──\n",
            "\u001b[31m✖\u001b[39m \u001b[34mdplyr\u001b[39m::\u001b[32mfilter()\u001b[39m masks \u001b[34mstats\u001b[39m::filter()\n",
            "\u001b[31m✖\u001b[39m \u001b[34mdplyr\u001b[39m::\u001b[32mlag()\u001b[39m    masks \u001b[34mstats\u001b[39m::lag()\n",
            "\u001b[36mℹ\u001b[39m Use the conflicted package (\u001b[3m\u001b[34m<http://conflicted.r-lib.org/>\u001b[39m\u001b[23m) to force all conflicts to become errors\n",
            "\n",
            "Attaching package: ‘data.table’\n",
            "\n",
            "\n",
            "The following objects are masked from ‘package:lubridate’:\n",
            "\n",
            "    hour, isoweek, mday, minute, month, quarter, second, wday, week,\n",
            "    yday, year\n",
            "\n",
            "\n",
            "The following objects are masked from ‘package:dplyr’:\n",
            "\n",
            "    between, first, last\n",
            "\n",
            "\n",
            "The following object is masked from ‘package:purrr’:\n",
            "\n",
            "    transpose\n",
            "\n",
            "\n",
            "\n",
            "Attaching package: ‘xgboost’\n",
            "\n",
            "\n",
            "The following object is masked from ‘package:dplyr’:\n",
            "\n",
            "    slice\n",
            "\n",
            "\n",
            "\n",
            "Attaching package: ‘mlr3misc’\n",
            "\n",
            "\n",
            "The following object is masked from ‘package:forcats’:\n",
            "\n",
            "    as_factor\n",
            "\n",
            "\n",
            "The following object is masked from ‘package:stringr’:\n",
            "\n",
            "    str_trunc\n",
            "\n",
            "\n",
            "The following object is masked from ‘package:dplyr’:\n",
            "\n",
            "    cross_join\n",
            "\n",
            "\n",
            "The following objects are masked from ‘package:purrr’:\n",
            "\n",
            "    compose, detect, discard, every, has_element, imap, imap_chr,\n",
            "    imap_dbl, imap_int, imap_lgl, invoke, iwalk, keep, map, map_at,\n",
            "    map_chr, map_dbl, map_if, map_int, map_lgl, modify_at, modify_if,\n",
            "    pmap, pmap_chr, pmap_dbl, pmap_int, pmap_lgl, pwalk, set_names,\n",
            "    some, walk\n",
            "\n",
            "\n",
            "The following object is masked from ‘package:tidyr’:\n",
            "\n",
            "    unnest\n",
            "\n",
            "\n",
            "The following objects are masked from ‘package:tibble’:\n",
            "\n",
            "    deframe, enframe\n",
            "\n",
            "\n",
            "Loading required package: paradox\n",
            "\n",
            "\n",
            "Attaching package: ‘MLmetrics’\n",
            "\n",
            "\n",
            "The following object is masked from ‘package:base’:\n",
            "\n",
            "    Recall\n",
            "\n",
            "\n"
          ]
        }
      ],
      "source": [
        "# 1. Install and import R packages\n",
        "# Install packages\n",
        "list.of.packages <- c(\"datawizard\",\"mlr3\",\"mlr3learners\",\"mlr3tuning\",\"paradox\",\"xgboost\",\"ranger\",\"MLmetrics\",\"devtools\",\"tidyverse\")\n",
        "new.packages <- list.of.packages[!(list.of.packages %in% installed.packages()[,\"Package\"])]\n",
        "if(length(new.packages)) install.packages(new.packages, repos = \"http://cran.us.r-project.org\")\n",
        "\n",
        "# Load general packages\n",
        "library(devtools)\n",
        "library(tidyverse)\n",
        "library(checkmate)\n",
        "library(dplyr)    # alternative installation of the %>%\n",
        "library(tibble)   # for add_column()\n",
        "library(datawizard)\n",
        "library(data.table)\n",
        "# ML packages\n",
        "library(mlr3)\n",
        "library(mlr3learners)\n",
        "library(rpart)\n",
        "library(xgboost)\n",
        "library(ranger)\n",
        "# Packages for HP tuning\n",
        "library(mlr3misc)\n",
        "library(mlr3tuning)\n",
        "library(paradox)\n",
        "library(MLmetrics)\n",
        "\n",
        "# Suppress error messages from ML packages\n",
        "lgr::get_logger(\"bbotk\")$set_threshold(\"warn\")\n",
        "lgr::get_logger(\"mlr3\")$set_threshold(\"warn\")"
      ]
    },
    {
      "cell_type": "code",
      "source": [
        "# Additional package required to install XTDML (not always necessary, depends on the R version)\n",
        "list.of.packages <- c(\"mvtnorm\",\"clusterGeneration\",\"readstata13\")\n",
        "new.packages <- list.of.packages[!(list.of.packages %in% installed.packages()[,\"Package\"])]\n",
        "if(length(new.packages)) install.packages(new.packages, repos = \"http://cran.us.r-project.org\")\n",
        "\n",
        "library(mvtnorm)\n",
        "library(clusterGeneration)\n",
        "library(readstata13)"
      ],
      "metadata": {
        "colab": {
          "base_uri": "https://localhost:8080/"
        },
        "collapsed": true,
        "id": "vh5Djm7soO0X",
        "outputId": "ac83cfaf-8233-4478-cf61-0b225868468c"
      },
      "execution_count": null,
      "outputs": [
        {
          "output_type": "stream",
          "name": "stderr",
          "text": [
            "Installing packages into ‘/usr/local/lib/R/site-library’\n",
            "(as ‘lib’ is unspecified)\n",
            "\n",
            "\n",
            "Attaching package: ‘mvtnorm’\n",
            "\n",
            "\n",
            "The following object is masked from ‘package:datawizard’:\n",
            "\n",
            "    standardize\n",
            "\n",
            "\n",
            "Loading required package: MASS\n",
            "\n",
            "\n",
            "Attaching package: ‘MASS’\n",
            "\n",
            "\n",
            "The following object is masked from ‘package:dplyr’:\n",
            "\n",
            "    select\n",
            "\n",
            "\n"
          ]
        }
      ]
    },
    {
      "cell_type": "code",
      "execution_count": null,
      "metadata": {
        "colab": {
          "base_uri": "https://localhost:8080/"
        },
        "collapsed": true,
        "id": "fx4BnCF1_daQ",
        "outputId": "c5d5f0a7-bdfc-4967-b6c7-6657800a7ec4"
      },
      "outputs": [
        {
          "output_type": "stream",
          "name": "stderr",
          "text": [
            "\u001b[1m\u001b[22m\u001b[36mℹ\u001b[39m Loading \u001b[34mXTDML\u001b[39m\n"
          ]
        }
      ],
      "source": [
        "# Install package\n",
        "wd = \"/content/XTDML\"\n",
        "devtools::load_all(wd)"
      ]
    },
    {
      "cell_type": "markdown",
      "metadata": {
        "id": "EszKC2AmNuGb"
      },
      "source": [
        "### **The Data**\n",
        "\n",
        "We use simulated data for DGP3 as in Clarke and Polselli (2023). We use a subsample (N=250) of the original dataset (with N=1,000,000), where each unit is observed over $T=10$ periods.\n",
        "\n",
        "In this dataset, the nuisance functions are generated as follows\n",
        "\n",
        "\\begin{align*}\n",
        "    l_0(x_{it}) & = b \\, (x_{it,1}\\cdot x_{it,3}) + a \\, (x_{it,3}\\cdot 1[x_{it,3}>0])\\\\\n",
        "    m_0(x_{it}) & = a \\, (x_{it,1}\\cdot 1[x_{it,1}>0]) + b \\, (x_{it,1}\\cdot x_{it,3})\n",
        "\\end{align*}\n",
        "\n",
        "where $a=0.25$ and $b=0.5$. The true structural effect is 0.5.\n",
        "\n",
        "\n",
        "Note that the FD (exact) approach requires to use **transformed** data\n",
        "* $\\Delta y_{it}$ is the transformed output variable\n",
        "* $\\Delta d_{it}$ is the transformed treatment variable\n",
        "* $\\mathbf{x}_{it} = (x_{it,1}, \\dots, x_{it,p}, x_{it-1,1}, \\dots, x_{it-1,p})'$ are the set of $p=30$ control variables, but only $s=2$ are relevant; $x_{it-1,k}$ is the lag of variable $k$\n",
        "\n",
        "where $\\Delta y_{it} = y_{it}-y_{it-1}.$\n",
        "\n"
      ]
    },
    {
      "cell_type": "code",
      "execution_count": null,
      "metadata": {
        "colab": {
          "base_uri": "https://localhost:8080/",
          "height": 321
        },
        "id": "5r8pU28vBjsp",
        "outputId": "542bb59b-d670-4896-a30c-16ff674f3d59",
        "collapsed": true
      },
      "outputs": [
        {
          "output_type": "display_data",
          "data": {
            "text/html": [
              "<style>\n",
              ".list-inline {list-style: none; margin:0; padding: 0}\n",
              ".list-inline>li {display: inline-block}\n",
              ".list-inline>li:not(:last-child)::after {content: \"\\00b7\"; padding: 0 .5ex}\n",
              "</style>\n",
              "<ol class=list-inline><li>'id'</li><li>'time'</li><li>'x1'</li><li>'x2'</li><li>'x3'</li><li>'x4'</li><li>'x5'</li><li>'x6'</li><li>'x7'</li><li>'x8'</li><li>'x9'</li><li>'x10'</li><li>'x11'</li><li>'x12'</li><li>'x13'</li><li>'x14'</li><li>'x15'</li><li>'x16'</li><li>'x17'</li><li>'x18'</li><li>'x19'</li><li>'x20'</li><li>'x21'</li><li>'x22'</li><li>'x23'</li><li>'x24'</li><li>'x25'</li><li>'x26'</li><li>'x27'</li><li>'x28'</li><li>'x29'</li><li>'x30'</li><li>'d'</li><li>'m_x1'</li><li>'m_x2'</li><li>'m_x3'</li><li>'m_x4'</li><li>'m_x5'</li><li>'m_x6'</li><li>'m_x7'</li><li>'m_x8'</li><li>'m_x9'</li><li>'m_x10'</li><li>'m_x11'</li><li>'m_x12'</li><li>'m_x13'</li><li>'m_x14'</li><li>'m_x15'</li><li>'m_x16'</li><li>'m_x17'</li><li>'m_x18'</li><li>'m_x19'</li><li>'m_x20'</li><li>'m_x21'</li><li>'m_x22'</li><li>'m_x23'</li><li>'m_x24'</li><li>'m_x25'</li><li>'m_x26'</li><li>'m_x27'</li><li>'m_x28'</li><li>'m_x29'</li><li>'m_x30'</li><li>'m_d'</li><li>'y'</li></ol>\n"
            ],
            "text/markdown": "1. 'id'\n2. 'time'\n3. 'x1'\n4. 'x2'\n5. 'x3'\n6. 'x4'\n7. 'x5'\n8. 'x6'\n9. 'x7'\n10. 'x8'\n11. 'x9'\n12. 'x10'\n13. 'x11'\n14. 'x12'\n15. 'x13'\n16. 'x14'\n17. 'x15'\n18. 'x16'\n19. 'x17'\n20. 'x18'\n21. 'x19'\n22. 'x20'\n23. 'x21'\n24. 'x22'\n25. 'x23'\n26. 'x24'\n27. 'x25'\n28. 'x26'\n29. 'x27'\n30. 'x28'\n31. 'x29'\n32. 'x30'\n33. 'd'\n34. 'm_x1'\n35. 'm_x2'\n36. 'm_x3'\n37. 'm_x4'\n38. 'm_x5'\n39. 'm_x6'\n40. 'm_x7'\n41. 'm_x8'\n42. 'm_x9'\n43. 'm_x10'\n44. 'm_x11'\n45. 'm_x12'\n46. 'm_x13'\n47. 'm_x14'\n48. 'm_x15'\n49. 'm_x16'\n50. 'm_x17'\n51. 'm_x18'\n52. 'm_x19'\n53. 'm_x20'\n54. 'm_x21'\n55. 'm_x22'\n56. 'm_x23'\n57. 'm_x24'\n58. 'm_x25'\n59. 'm_x26'\n60. 'm_x27'\n61. 'm_x28'\n62. 'm_x29'\n63. 'm_x30'\n64. 'm_d'\n65. 'y'\n\n\n",
            "text/latex": "\\begin{enumerate*}\n\\item 'id'\n\\item 'time'\n\\item 'x1'\n\\item 'x2'\n\\item 'x3'\n\\item 'x4'\n\\item 'x5'\n\\item 'x6'\n\\item 'x7'\n\\item 'x8'\n\\item 'x9'\n\\item 'x10'\n\\item 'x11'\n\\item 'x12'\n\\item 'x13'\n\\item 'x14'\n\\item 'x15'\n\\item 'x16'\n\\item 'x17'\n\\item 'x18'\n\\item 'x19'\n\\item 'x20'\n\\item 'x21'\n\\item 'x22'\n\\item 'x23'\n\\item 'x24'\n\\item 'x25'\n\\item 'x26'\n\\item 'x27'\n\\item 'x28'\n\\item 'x29'\n\\item 'x30'\n\\item 'd'\n\\item 'm\\_x1'\n\\item 'm\\_x2'\n\\item 'm\\_x3'\n\\item 'm\\_x4'\n\\item 'm\\_x5'\n\\item 'm\\_x6'\n\\item 'm\\_x7'\n\\item 'm\\_x8'\n\\item 'm\\_x9'\n\\item 'm\\_x10'\n\\item 'm\\_x11'\n\\item 'm\\_x12'\n\\item 'm\\_x13'\n\\item 'm\\_x14'\n\\item 'm\\_x15'\n\\item 'm\\_x16'\n\\item 'm\\_x17'\n\\item 'm\\_x18'\n\\item 'm\\_x19'\n\\item 'm\\_x20'\n\\item 'm\\_x21'\n\\item 'm\\_x22'\n\\item 'm\\_x23'\n\\item 'm\\_x24'\n\\item 'm\\_x25'\n\\item 'm\\_x26'\n\\item 'm\\_x27'\n\\item 'm\\_x28'\n\\item 'm\\_x29'\n\\item 'm\\_x30'\n\\item 'm\\_d'\n\\item 'y'\n\\end{enumerate*}\n",
            "text/plain": [
              " [1] \"id\"    \"time\"  \"x1\"    \"x2\"    \"x3\"    \"x4\"    \"x5\"    \"x6\"    \"x7\"   \n",
              "[10] \"x8\"    \"x9\"    \"x10\"   \"x11\"   \"x12\"   \"x13\"   \"x14\"   \"x15\"   \"x16\"  \n",
              "[19] \"x17\"   \"x18\"   \"x19\"   \"x20\"   \"x21\"   \"x22\"   \"x23\"   \"x24\"   \"x25\"  \n",
              "[28] \"x26\"   \"x27\"   \"x28\"   \"x29\"   \"x30\"   \"d\"     \"m_x1\"  \"m_x2\"  \"m_x3\" \n",
              "[37] \"m_x4\"  \"m_x5\"  \"m_x6\"  \"m_x7\"  \"m_x8\"  \"m_x9\"  \"m_x10\" \"m_x11\" \"m_x12\"\n",
              "[46] \"m_x13\" \"m_x14\" \"m_x15\" \"m_x16\" \"m_x17\" \"m_x18\" \"m_x19\" \"m_x20\" \"m_x21\"\n",
              "[55] \"m_x22\" \"m_x23\" \"m_x24\" \"m_x25\" \"m_x26\" \"m_x27\" \"m_x28\" \"m_x29\" \"m_x30\"\n",
              "[64] \"m_d\"   \"y\"    "
            ]
          },
          "metadata": {}
        },
        {
          "output_type": "display_data",
          "data": {
            "text/html": [
              "<table class=\"dataframe\">\n",
              "<caption>A data.frame: 6 × 65</caption>\n",
              "<thead>\n",
              "\t<tr><th></th><th scope=col>id</th><th scope=col>time</th><th scope=col>x1</th><th scope=col>x2</th><th scope=col>x3</th><th scope=col>x4</th><th scope=col>x5</th><th scope=col>x6</th><th scope=col>x7</th><th scope=col>x8</th><th scope=col>⋯</th><th scope=col>m_x23</th><th scope=col>m_x24</th><th scope=col>m_x25</th><th scope=col>m_x26</th><th scope=col>m_x27</th><th scope=col>m_x28</th><th scope=col>m_x29</th><th scope=col>m_x30</th><th scope=col>m_d</th><th scope=col>y</th></tr>\n",
              "\t<tr><th></th><th scope=col>&lt;int&gt;</th><th scope=col>&lt;int&gt;</th><th scope=col>&lt;dbl&gt;</th><th scope=col>&lt;dbl&gt;</th><th scope=col>&lt;dbl&gt;</th><th scope=col>&lt;dbl&gt;</th><th scope=col>&lt;dbl&gt;</th><th scope=col>&lt;dbl&gt;</th><th scope=col>&lt;dbl&gt;</th><th scope=col>&lt;dbl&gt;</th><th scope=col>⋯</th><th scope=col>&lt;dbl&gt;</th><th scope=col>&lt;dbl&gt;</th><th scope=col>&lt;dbl&gt;</th><th scope=col>&lt;dbl&gt;</th><th scope=col>&lt;dbl&gt;</th><th scope=col>&lt;dbl&gt;</th><th scope=col>&lt;dbl&gt;</th><th scope=col>&lt;dbl&gt;</th><th scope=col>&lt;dbl&gt;</th><th scope=col>&lt;dbl&gt;</th></tr>\n",
              "</thead>\n",
              "<tbody>\n",
              "\t<tr><th scope=row>1</th><td>1</td><td>1</td><td> 2.2286613</td><td> 1.6905339</td><td>-2.7940819</td><td>11.1143300</td><td> 8.826218</td><td>-3.9921484</td><td> 3.253239</td><td> 6.0599380</td><td>⋯</td><td>0.9233138</td><td>-0.1381521</td><td>4.3948</td><td>-1.040279</td><td>-0.7359572</td><td>2.131381</td><td>2.381721</td><td>-1.200919</td><td>0.7686889</td><td> -3.973063</td></tr>\n",
              "\t<tr><th scope=row>2</th><td>1</td><td>2</td><td> 7.4777365</td><td> 0.8922307</td><td>-2.0939696</td><td>-4.0721574</td><td> 3.936116</td><td> 5.9183326</td><td> 1.831009</td><td> 3.8444767</td><td>⋯</td><td>0.9233138</td><td>-0.1381521</td><td>4.3948</td><td>-1.040279</td><td>-0.7359572</td><td>2.131381</td><td>2.381721</td><td>-1.200919</td><td>0.7686889</td><td>-10.303778</td></tr>\n",
              "\t<tr><th scope=row>3</th><td>1</td><td>3</td><td>-6.7781310</td><td> 6.7881875</td><td>-1.8140866</td><td> 2.6128931</td><td> 8.065602</td><td> 3.3242040</td><td> 3.965238</td><td> 2.8951371</td><td>⋯</td><td>0.9233138</td><td>-0.1381521</td><td>4.3948</td><td>-1.040279</td><td>-0.7359572</td><td>2.131381</td><td>2.381721</td><td>-1.200919</td><td>0.7686889</td><td> 11.109933</td></tr>\n",
              "\t<tr><th scope=row>4</th><td>1</td><td>4</td><td>-0.3668897</td><td>-3.5370691</td><td> 1.8084828</td><td>-8.5668802</td><td> 9.544738</td><td>11.0767380</td><td> 2.877717</td><td> 2.4498920</td><td>⋯</td><td>0.9233138</td><td>-0.1381521</td><td>4.3948</td><td>-1.040279</td><td>-0.7359572</td><td>2.131381</td><td>2.381721</td><td>-1.200919</td><td>0.7686889</td><td>  2.730979</td></tr>\n",
              "\t<tr><th scope=row>5</th><td>1</td><td>5</td><td> 9.0546560</td><td> 1.4772189</td><td> 0.2424859</td><td>-0.5902931</td><td>-6.163388</td><td> 0.7534147</td><td>-3.353442</td><td>-0.4494378</td><td>⋯</td><td>0.9233138</td><td>-0.1381521</td><td>4.3948</td><td>-1.040279</td><td>-0.7359572</td><td>2.131381</td><td>2.381721</td><td>-1.200919</td><td>0.7686889</td><td>  2.967221</td></tr>\n",
              "\t<tr><th scope=row>6</th><td>1</td><td>6</td><td>-5.8348851</td><td> 5.7826090</td><td>-2.5719683</td><td> 1.9519805</td><td>-1.261380</td><td>-0.3874538</td><td>-4.370841</td><td> 7.7953877</td><td>⋯</td><td>0.9233138</td><td>-0.1381521</td><td>4.3948</td><td>-1.040279</td><td>-0.7359572</td><td>2.131381</td><td>2.381721</td><td>-1.200919</td><td>0.7686889</td><td> 11.993943</td></tr>\n",
              "</tbody>\n",
              "</table>\n"
            ],
            "text/markdown": "\nA data.frame: 6 × 65\n\n| <!--/--> | id &lt;int&gt; | time &lt;int&gt; | x1 &lt;dbl&gt; | x2 &lt;dbl&gt; | x3 &lt;dbl&gt; | x4 &lt;dbl&gt; | x5 &lt;dbl&gt; | x6 &lt;dbl&gt; | x7 &lt;dbl&gt; | x8 &lt;dbl&gt; | ⋯ ⋯ | m_x23 &lt;dbl&gt; | m_x24 &lt;dbl&gt; | m_x25 &lt;dbl&gt; | m_x26 &lt;dbl&gt; | m_x27 &lt;dbl&gt; | m_x28 &lt;dbl&gt; | m_x29 &lt;dbl&gt; | m_x30 &lt;dbl&gt; | m_d &lt;dbl&gt; | y &lt;dbl&gt; |\n|---|---|---|---|---|---|---|---|---|---|---|---|---|---|---|---|---|---|---|---|---|---|\n| 1 | 1 | 1 |  2.2286613 |  1.6905339 | -2.7940819 | 11.1143300 |  8.826218 | -3.9921484 |  3.253239 |  6.0599380 | ⋯ | 0.9233138 | -0.1381521 | 4.3948 | -1.040279 | -0.7359572 | 2.131381 | 2.381721 | -1.200919 | 0.7686889 |  -3.973063 |\n| 2 | 1 | 2 |  7.4777365 |  0.8922307 | -2.0939696 | -4.0721574 |  3.936116 |  5.9183326 |  1.831009 |  3.8444767 | ⋯ | 0.9233138 | -0.1381521 | 4.3948 | -1.040279 | -0.7359572 | 2.131381 | 2.381721 | -1.200919 | 0.7686889 | -10.303778 |\n| 3 | 1 | 3 | -6.7781310 |  6.7881875 | -1.8140866 |  2.6128931 |  8.065602 |  3.3242040 |  3.965238 |  2.8951371 | ⋯ | 0.9233138 | -0.1381521 | 4.3948 | -1.040279 | -0.7359572 | 2.131381 | 2.381721 | -1.200919 | 0.7686889 |  11.109933 |\n| 4 | 1 | 4 | -0.3668897 | -3.5370691 |  1.8084828 | -8.5668802 |  9.544738 | 11.0767380 |  2.877717 |  2.4498920 | ⋯ | 0.9233138 | -0.1381521 | 4.3948 | -1.040279 | -0.7359572 | 2.131381 | 2.381721 | -1.200919 | 0.7686889 |   2.730979 |\n| 5 | 1 | 5 |  9.0546560 |  1.4772189 |  0.2424859 | -0.5902931 | -6.163388 |  0.7534147 | -3.353442 | -0.4494378 | ⋯ | 0.9233138 | -0.1381521 | 4.3948 | -1.040279 | -0.7359572 | 2.131381 | 2.381721 | -1.200919 | 0.7686889 |   2.967221 |\n| 6 | 1 | 6 | -5.8348851 |  5.7826090 | -2.5719683 |  1.9519805 | -1.261380 | -0.3874538 | -4.370841 |  7.7953877 | ⋯ | 0.9233138 | -0.1381521 | 4.3948 | -1.040279 | -0.7359572 | 2.131381 | 2.381721 | -1.200919 | 0.7686889 |  11.993943 |\n\n",
            "text/latex": "A data.frame: 6 × 65\n\\begin{tabular}{r|lllllllllllllllllllll}\n  & id & time & x1 & x2 & x3 & x4 & x5 & x6 & x7 & x8 & ⋯ & m\\_x23 & m\\_x24 & m\\_x25 & m\\_x26 & m\\_x27 & m\\_x28 & m\\_x29 & m\\_x30 & m\\_d & y\\\\\n  & <int> & <int> & <dbl> & <dbl> & <dbl> & <dbl> & <dbl> & <dbl> & <dbl> & <dbl> & ⋯ & <dbl> & <dbl> & <dbl> & <dbl> & <dbl> & <dbl> & <dbl> & <dbl> & <dbl> & <dbl>\\\\\n\\hline\n\t1 & 1 & 1 &  2.2286613 &  1.6905339 & -2.7940819 & 11.1143300 &  8.826218 & -3.9921484 &  3.253239 &  6.0599380 & ⋯ & 0.9233138 & -0.1381521 & 4.3948 & -1.040279 & -0.7359572 & 2.131381 & 2.381721 & -1.200919 & 0.7686889 &  -3.973063\\\\\n\t2 & 1 & 2 &  7.4777365 &  0.8922307 & -2.0939696 & -4.0721574 &  3.936116 &  5.9183326 &  1.831009 &  3.8444767 & ⋯ & 0.9233138 & -0.1381521 & 4.3948 & -1.040279 & -0.7359572 & 2.131381 & 2.381721 & -1.200919 & 0.7686889 & -10.303778\\\\\n\t3 & 1 & 3 & -6.7781310 &  6.7881875 & -1.8140866 &  2.6128931 &  8.065602 &  3.3242040 &  3.965238 &  2.8951371 & ⋯ & 0.9233138 & -0.1381521 & 4.3948 & -1.040279 & -0.7359572 & 2.131381 & 2.381721 & -1.200919 & 0.7686889 &  11.109933\\\\\n\t4 & 1 & 4 & -0.3668897 & -3.5370691 &  1.8084828 & -8.5668802 &  9.544738 & 11.0767380 &  2.877717 &  2.4498920 & ⋯ & 0.9233138 & -0.1381521 & 4.3948 & -1.040279 & -0.7359572 & 2.131381 & 2.381721 & -1.200919 & 0.7686889 &   2.730979\\\\\n\t5 & 1 & 5 &  9.0546560 &  1.4772189 &  0.2424859 & -0.5902931 & -6.163388 &  0.7534147 & -3.353442 & -0.4494378 & ⋯ & 0.9233138 & -0.1381521 & 4.3948 & -1.040279 & -0.7359572 & 2.131381 & 2.381721 & -1.200919 & 0.7686889 &   2.967221\\\\\n\t6 & 1 & 6 & -5.8348851 &  5.7826090 & -2.5719683 &  1.9519805 & -1.261380 & -0.3874538 & -4.370841 &  7.7953877 & ⋯ & 0.9233138 & -0.1381521 & 4.3948 & -1.040279 & -0.7359572 & 2.131381 & 2.381721 & -1.200919 & 0.7686889 &  11.993943\\\\\n\\end{tabular}\n",
            "text/plain": [
              "  id time x1         x2         x3         x4         x5        x6        \n",
              "1 1  1     2.2286613  1.6905339 -2.7940819 11.1143300  8.826218 -3.9921484\n",
              "2 1  2     7.4777365  0.8922307 -2.0939696 -4.0721574  3.936116  5.9183326\n",
              "3 1  3    -6.7781310  6.7881875 -1.8140866  2.6128931  8.065602  3.3242040\n",
              "4 1  4    -0.3668897 -3.5370691  1.8084828 -8.5668802  9.544738 11.0767380\n",
              "5 1  5     9.0546560  1.4772189  0.2424859 -0.5902931 -6.163388  0.7534147\n",
              "6 1  6    -5.8348851  5.7826090 -2.5719683  1.9519805 -1.261380 -0.3874538\n",
              "  x7        x8         ⋯ m_x23     m_x24      m_x25  m_x26     m_x27     \n",
              "1  3.253239  6.0599380 ⋯ 0.9233138 -0.1381521 4.3948 -1.040279 -0.7359572\n",
              "2  1.831009  3.8444767 ⋯ 0.9233138 -0.1381521 4.3948 -1.040279 -0.7359572\n",
              "3  3.965238  2.8951371 ⋯ 0.9233138 -0.1381521 4.3948 -1.040279 -0.7359572\n",
              "4  2.877717  2.4498920 ⋯ 0.9233138 -0.1381521 4.3948 -1.040279 -0.7359572\n",
              "5 -3.353442 -0.4494378 ⋯ 0.9233138 -0.1381521 4.3948 -1.040279 -0.7359572\n",
              "6 -4.370841  7.7953877 ⋯ 0.9233138 -0.1381521 4.3948 -1.040279 -0.7359572\n",
              "  m_x28    m_x29    m_x30     m_d       y         \n",
              "1 2.131381 2.381721 -1.200919 0.7686889  -3.973063\n",
              "2 2.131381 2.381721 -1.200919 0.7686889 -10.303778\n",
              "3 2.131381 2.381721 -1.200919 0.7686889  11.109933\n",
              "4 2.131381 2.381721 -1.200919 0.7686889   2.730979\n",
              "5 2.131381 2.381721 -1.200919 0.7686889   2.967221\n",
              "6 2.131381 2.381721 -1.200919 0.7686889  11.993943"
            ]
          },
          "metadata": {}
        }
      ],
      "source": [
        "# 2. Load simulated data from GitHub\n",
        "df = read.csv(\"https://raw.githubusercontent.com/POLSEAN/XTDML/main/data/dgp4_cre_short.csv\")\n",
        "names(df)\n",
        "head(df)"
      ]
    },
    {
      "cell_type": "code",
      "source": [
        "# 3. Transform variables\n",
        "# keep variables to transform (no var means)\n",
        "\n",
        "# Create (a) lags of X and (b) Delta_y and Delta_d\n",
        "xvars = paste0(\"x\", 1:30)\n",
        "\n",
        "df.fd = df %>%\n",
        "  group_by(id) %>%\n",
        "  mutate(across(xvars, ~  lag(.x), .names = \"L.{col}\"))   %>%\n",
        "  mutate(across(starts_with(c(\"d\", \"y\")), ~ c(NA, diff(.x))))  %>%\n",
        "  ungroup()\n",
        "\n",
        "# Use complete.cases() to identify rows without missing values\n",
        "complete_rows <- complete.cases(df.fd)\n",
        "\n",
        "# Subset the data frame to keep only complete rows\n",
        "df.fd <- df.fd[complete_rows, ]\n",
        "df.fd = as.data.frame(df.fd)\n",
        "names(df.fd)"
      ],
      "metadata": {
        "id": "IwYPkkJ3e45C",
        "colab": {
          "base_uri": "https://localhost:8080/",
          "height": 69
        },
        "outputId": "1c0780ae-521f-47b0-8cbe-d56196616d3e"
      },
      "execution_count": null,
      "outputs": [
        {
          "output_type": "display_data",
          "data": {
            "text/html": [
              "<style>\n",
              ".list-inline {list-style: none; margin:0; padding: 0}\n",
              ".list-inline>li {display: inline-block}\n",
              ".list-inline>li:not(:last-child)::after {content: \"\\00b7\"; padding: 0 .5ex}\n",
              "</style>\n",
              "<ol class=list-inline><li>'id'</li><li>'time'</li><li>'x1'</li><li>'x2'</li><li>'x3'</li><li>'x4'</li><li>'x5'</li><li>'x6'</li><li>'x7'</li><li>'x8'</li><li>'x9'</li><li>'x10'</li><li>'x11'</li><li>'x12'</li><li>'x13'</li><li>'x14'</li><li>'x15'</li><li>'x16'</li><li>'x17'</li><li>'x18'</li><li>'x19'</li><li>'x20'</li><li>'x21'</li><li>'x22'</li><li>'x23'</li><li>'x24'</li><li>'x25'</li><li>'x26'</li><li>'x27'</li><li>'x28'</li><li>'x29'</li><li>'x30'</li><li>'d'</li><li>'m_x1'</li><li>'m_x2'</li><li>'m_x3'</li><li>'m_x4'</li><li>'m_x5'</li><li>'m_x6'</li><li>'m_x7'</li><li>'m_x8'</li><li>'m_x9'</li><li>'m_x10'</li><li>'m_x11'</li><li>'m_x12'</li><li>'m_x13'</li><li>'m_x14'</li><li>'m_x15'</li><li>'m_x16'</li><li>'m_x17'</li><li>'m_x18'</li><li>'m_x19'</li><li>'m_x20'</li><li>'m_x21'</li><li>'m_x22'</li><li>'m_x23'</li><li>'m_x24'</li><li>'m_x25'</li><li>'m_x26'</li><li>'m_x27'</li><li>'m_x28'</li><li>'m_x29'</li><li>'m_x30'</li><li>'m_d'</li><li>'y'</li><li>'L.x1'</li><li>'L.x2'</li><li>'L.x3'</li><li>'L.x4'</li><li>'L.x5'</li><li>'L.x6'</li><li>'L.x7'</li><li>'L.x8'</li><li>'L.x9'</li><li>'L.x10'</li><li>'L.x11'</li><li>'L.x12'</li><li>'L.x13'</li><li>'L.x14'</li><li>'L.x15'</li><li>'L.x16'</li><li>'L.x17'</li><li>'L.x18'</li><li>'L.x19'</li><li>'L.x20'</li><li>'L.x21'</li><li>'L.x22'</li><li>'L.x23'</li><li>'L.x24'</li><li>'L.x25'</li><li>'L.x26'</li><li>'L.x27'</li><li>'L.x28'</li><li>'L.x29'</li><li>'L.x30'</li></ol>\n"
            ],
            "text/markdown": "1. 'id'\n2. 'time'\n3. 'x1'\n4. 'x2'\n5. 'x3'\n6. 'x4'\n7. 'x5'\n8. 'x6'\n9. 'x7'\n10. 'x8'\n11. 'x9'\n12. 'x10'\n13. 'x11'\n14. 'x12'\n15. 'x13'\n16. 'x14'\n17. 'x15'\n18. 'x16'\n19. 'x17'\n20. 'x18'\n21. 'x19'\n22. 'x20'\n23. 'x21'\n24. 'x22'\n25. 'x23'\n26. 'x24'\n27. 'x25'\n28. 'x26'\n29. 'x27'\n30. 'x28'\n31. 'x29'\n32. 'x30'\n33. 'd'\n34. 'm_x1'\n35. 'm_x2'\n36. 'm_x3'\n37. 'm_x4'\n38. 'm_x5'\n39. 'm_x6'\n40. 'm_x7'\n41. 'm_x8'\n42. 'm_x9'\n43. 'm_x10'\n44. 'm_x11'\n45. 'm_x12'\n46. 'm_x13'\n47. 'm_x14'\n48. 'm_x15'\n49. 'm_x16'\n50. 'm_x17'\n51. 'm_x18'\n52. 'm_x19'\n53. 'm_x20'\n54. 'm_x21'\n55. 'm_x22'\n56. 'm_x23'\n57. 'm_x24'\n58. 'm_x25'\n59. 'm_x26'\n60. 'm_x27'\n61. 'm_x28'\n62. 'm_x29'\n63. 'm_x30'\n64. 'm_d'\n65. 'y'\n66. 'L.x1'\n67. 'L.x2'\n68. 'L.x3'\n69. 'L.x4'\n70. 'L.x5'\n71. 'L.x6'\n72. 'L.x7'\n73. 'L.x8'\n74. 'L.x9'\n75. 'L.x10'\n76. 'L.x11'\n77. 'L.x12'\n78. 'L.x13'\n79. 'L.x14'\n80. 'L.x15'\n81. 'L.x16'\n82. 'L.x17'\n83. 'L.x18'\n84. 'L.x19'\n85. 'L.x20'\n86. 'L.x21'\n87. 'L.x22'\n88. 'L.x23'\n89. 'L.x24'\n90. 'L.x25'\n91. 'L.x26'\n92. 'L.x27'\n93. 'L.x28'\n94. 'L.x29'\n95. 'L.x30'\n\n\n",
            "text/latex": "\\begin{enumerate*}\n\\item 'id'\n\\item 'time'\n\\item 'x1'\n\\item 'x2'\n\\item 'x3'\n\\item 'x4'\n\\item 'x5'\n\\item 'x6'\n\\item 'x7'\n\\item 'x8'\n\\item 'x9'\n\\item 'x10'\n\\item 'x11'\n\\item 'x12'\n\\item 'x13'\n\\item 'x14'\n\\item 'x15'\n\\item 'x16'\n\\item 'x17'\n\\item 'x18'\n\\item 'x19'\n\\item 'x20'\n\\item 'x21'\n\\item 'x22'\n\\item 'x23'\n\\item 'x24'\n\\item 'x25'\n\\item 'x26'\n\\item 'x27'\n\\item 'x28'\n\\item 'x29'\n\\item 'x30'\n\\item 'd'\n\\item 'm\\_x1'\n\\item 'm\\_x2'\n\\item 'm\\_x3'\n\\item 'm\\_x4'\n\\item 'm\\_x5'\n\\item 'm\\_x6'\n\\item 'm\\_x7'\n\\item 'm\\_x8'\n\\item 'm\\_x9'\n\\item 'm\\_x10'\n\\item 'm\\_x11'\n\\item 'm\\_x12'\n\\item 'm\\_x13'\n\\item 'm\\_x14'\n\\item 'm\\_x15'\n\\item 'm\\_x16'\n\\item 'm\\_x17'\n\\item 'm\\_x18'\n\\item 'm\\_x19'\n\\item 'm\\_x20'\n\\item 'm\\_x21'\n\\item 'm\\_x22'\n\\item 'm\\_x23'\n\\item 'm\\_x24'\n\\item 'm\\_x25'\n\\item 'm\\_x26'\n\\item 'm\\_x27'\n\\item 'm\\_x28'\n\\item 'm\\_x29'\n\\item 'm\\_x30'\n\\item 'm\\_d'\n\\item 'y'\n\\item 'L.x1'\n\\item 'L.x2'\n\\item 'L.x3'\n\\item 'L.x4'\n\\item 'L.x5'\n\\item 'L.x6'\n\\item 'L.x7'\n\\item 'L.x8'\n\\item 'L.x9'\n\\item 'L.x10'\n\\item 'L.x11'\n\\item 'L.x12'\n\\item 'L.x13'\n\\item 'L.x14'\n\\item 'L.x15'\n\\item 'L.x16'\n\\item 'L.x17'\n\\item 'L.x18'\n\\item 'L.x19'\n\\item 'L.x20'\n\\item 'L.x21'\n\\item 'L.x22'\n\\item 'L.x23'\n\\item 'L.x24'\n\\item 'L.x25'\n\\item 'L.x26'\n\\item 'L.x27'\n\\item 'L.x28'\n\\item 'L.x29'\n\\item 'L.x30'\n\\end{enumerate*}\n",
            "text/plain": [
              " [1] \"id\"    \"time\"  \"x1\"    \"x2\"    \"x3\"    \"x4\"    \"x5\"    \"x6\"    \"x7\"   \n",
              "[10] \"x8\"    \"x9\"    \"x10\"   \"x11\"   \"x12\"   \"x13\"   \"x14\"   \"x15\"   \"x16\"  \n",
              "[19] \"x17\"   \"x18\"   \"x19\"   \"x20\"   \"x21\"   \"x22\"   \"x23\"   \"x24\"   \"x25\"  \n",
              "[28] \"x26\"   \"x27\"   \"x28\"   \"x29\"   \"x30\"   \"d\"     \"m_x1\"  \"m_x2\"  \"m_x3\" \n",
              "[37] \"m_x4\"  \"m_x5\"  \"m_x6\"  \"m_x7\"  \"m_x8\"  \"m_x9\"  \"m_x10\" \"m_x11\" \"m_x12\"\n",
              "[46] \"m_x13\" \"m_x14\" \"m_x15\" \"m_x16\" \"m_x17\" \"m_x18\" \"m_x19\" \"m_x20\" \"m_x21\"\n",
              "[55] \"m_x22\" \"m_x23\" \"m_x24\" \"m_x25\" \"m_x26\" \"m_x27\" \"m_x28\" \"m_x29\" \"m_x30\"\n",
              "[64] \"m_d\"   \"y\"     \"L.x1\"  \"L.x2\"  \"L.x3\"  \"L.x4\"  \"L.x5\"  \"L.x6\"  \"L.x7\" \n",
              "[73] \"L.x8\"  \"L.x9\"  \"L.x10\" \"L.x11\" \"L.x12\" \"L.x13\" \"L.x14\" \"L.x15\" \"L.x16\"\n",
              "[82] \"L.x17\" \"L.x18\" \"L.x19\" \"L.x20\" \"L.x21\" \"L.x22\" \"L.x23\" \"L.x24\" \"L.x25\"\n",
              "[91] \"L.x26\" \"L.x27\" \"L.x28\" \"L.x29\" \"L.x30\""
            ]
          },
          "metadata": {}
        }
      ]
    },
    {
      "cell_type": "markdown",
      "metadata": {
        "id": "pG8ZSXDVNzBZ"
      },
      "source": [
        "## **Estimation and inference with DML for FD**\n",
        "\n",
        "The section below consists in setting up the DML data and estimation environments, and proceed with the actual estimation."
      ]
    },
    {
      "cell_type": "markdown",
      "metadata": {
        "id": "rKDgwrxWfoyo"
      },
      "source": [
        "### **4. Set up DML data environment**\n",
        "Initalization of `dml_approx_data`  from `data.frame`. Arguments to pass:\n",
        "\n",
        "```\n",
        "dml_approx_data_from_data_frame(data,\n",
        "                  x_cols = NULL,\n",
        "                  y_col = NULL,\n",
        "                  d_cols = NULL,\n",
        "                  z_cols = NULL,\n",
        "                  cluster_cols = NULL\n",
        "                  )\n",
        "\n",
        "```       "
      ]
    },
    {
      "cell_type": "code",
      "execution_count": null,
      "metadata": {
        "colab": {
          "base_uri": "https://localhost:8080/"
        },
        "id": "hzCmm5ufDMA2",
        "outputId": "d9d7491d-0d12-4c36-cc17-ab9510257afe",
        "collapsed": true
      },
      "outputs": [
        {
          "output_type": "stream",
          "name": "stdout",
          "text": [
            "================= DML-FE Object ==================\n",
            "\n",
            "\n",
            "------------------ Data summary ------------------\n",
            "Outcome variable: y\n",
            "Treatment variable(s): d\n",
            "Cluster variable(s): id\n",
            "Covariates: x1, x2, x3, x4, x5, x6, x7, x8, x9, x10, x11, x12, x13, x14, x15, x16, x17, x18, x19, x20, x21, x22, x23, x24, x25, x26, x27, x28, x29, x30, L.x1, L.x2, L.x3, L.x4, L.x5, L.x6, L.x7, L.x8, L.x9, L.x10, L.x11, L.x12, L.x13, L.x14, L.x15, L.x16, L.x17, L.x18, L.x19, L.x20, L.x21, L.x22, L.x23, L.x24, L.x25, L.x26, L.x27, L.x28, L.x29, L.x30\n",
            "Instrument(s): \n",
            "No. Observations: 2250\n"
          ]
        }
      ],
      "source": [
        "# 4. Set up DML data environment\n",
        "\n",
        "# get the names of the variables\n",
        "x_cols  = paste0(\"x\", 1:30)\n",
        "Lx_cols = paste0(\"L.x\", 1:30)\n",
        "xvars = c(x_cols, Lx_cols)\n",
        "\n",
        "# set up data for DML procedure\n",
        "obj_dml_data = dml_approx_data_from_data_frame(df.fd,\n",
        "                            x_cols = xvars,  y_col = \"y\", d_cols = \"d\",\n",
        "                            cluster_cols = \"id\")\n",
        "obj_dml_data$print()"
      ]
    },
    {
      "cell_type": "markdown",
      "metadata": {
        "id": "rFJ0mQy0ftPo"
      },
      "source": [
        "### **5. Set up DML estimation environment**\n",
        "\n",
        "Arguments to pass in `dml_approx_plr` function that Creates a new instance of this R6 class.\n",
        "\n",
        "```\n",
        " dml_approx_plr$new(data,\n",
        "      ml_l,\n",
        "      ml_m,\n",
        "      ml_g = NULL,\n",
        "      n_folds = 5,\n",
        "      n_rep = 1,\n",
        "      score = \"orth-PO\",               # or \"orth-IV\"\n",
        "      dml_procedure = \"dml2\",          # or \"dml1\"\n",
        "      draw_sample_splitting = TRUE,\n",
        "      apply_cross_fitting = TRUE\n",
        "      )\n",
        "\n",
        "```"
      ]
    },
    {
      "cell_type": "code",
      "execution_count": null,
      "metadata": {
        "colab": {
          "base_uri": "https://localhost:8080/"
        },
        "id": "DAET9x-QB1ps",
        "outputId": "b9ab0f07-d89c-4dfa-a741-e5d9657b121d"
      },
      "outputs": [
        {
          "output_type": "stream",
          "name": "stderr",
          "text": [
            "TuningInstanceSingleCrit is deprecated. Use TuningInstanceBatchSingleCrit instead.\n",
            "\n",
            "TuningInstanceSingleCrit is deprecated. Use TuningInstanceBatchSingleCrit instead.\n",
            "\n"
          ]
        },
        {
          "output_type": "stream",
          "name": "stdout",
          "text": [
            "[1] \"rmses in fold 1 : 38.2667513392526\"\n",
            "[1] \"theta_subsample_mean in fold 1: 1.22415427924618\"\n",
            "[1] \"rmses in fold 2 : 49.6052779583265\"\n",
            "[1] \"theta_subsample_mean in fold 2: 0.974890246309583\"\n",
            "[1] \"rmses in fold 3 : 30.8895024383384\"\n",
            "[1] \"theta_subsample_mean in fold 3: 1.10222928493362\"\n",
            "[1] \"rmses in fold 4 : 26.5752469964114\"\n",
            "[1] \"theta_subsample_mean in fold 4: 1.16282615119212\"\n",
            "[1] \"rmses in fold 5 : 44.0157121979217\"\n",
            "[1] \"theta_subsample_mean in fold 5: 1.21463747381288\"\n",
            "[1] \"theta in dml2: 1.21463747381288\"\n",
            "[1] \"rmse in dml2: 44.0157121979217\"\n",
            "================= dml_approx_plr Object ==================\n",
            "\n",
            "\n",
            "\n",
            "------------------ Data summary ------------------\n",
            "Outcome variable: y\n",
            "Treatment variable: d\n",
            "Covariates: x1, x2, x3, x4, x5, x6, x7, x8, x9, x10, x11, x12, x13, x14, x15, x16, x17, x18, x19, x20, x21, x22, x23, x24, x25, x26, x27, x28, x29, x30, L.x1, L.x2, L.x3, L.x4, L.x5, L.x6, L.x7, L.x8, L.x9, L.x10, L.x11, L.x12, L.x13, L.x14, L.x15, L.x16, L.x17, L.x18, L.x19, L.x20, L.x21, L.x22, L.x23, L.x24, L.x25, L.x26, L.x27, L.x28, L.x29, L.x30\n",
            "Cluster variables: id\n",
            "No. Observations: 2250\n",
            "No. Groups: 250\n",
            "\n",
            "------------------ Score & algorithm ------------------\n",
            "Score function: orth-PO\n",
            "DML algorithm: dml2\n",
            "DML approach: transformed variables \n",
            "\n",
            "------------------ Machine learner ------------------\n",
            "Learner of nuisance ml_l: regr.rpart\n",
            "RMSE of nuisance ml_l : 20.17328\n",
            "Learner of nuisance ml_m: regr.rpart\n",
            "RMSE of nuisance ml_m : 12.65226\n",
            "Model RMSE: 44.01571\n",
            "\n",
            "------------------ Resampling ------------------\n",
            "No. folds: 5\n",
            "No. folds per cluster: 5\n",
            "No. repeated sample splits: 1\n",
            "Apply cross-fitting: TRUE\n",
            "\n",
            "------------------ Fit summary ------------------\n",
            " Estimates and significance testing of the effect of target variables\n",
            "  Estimate. Std. Error t value Pr(>|t|)    \n",
            "d   1.21464    0.03714    32.7   <2e-16 ***\n",
            "---\n",
            "Signif. codes:  0 ‘***’ 0.001 ‘**’ 0.01 ‘*’ 0.05 ‘.’ 0.1 ‘ ’ 1\n",
            "\n",
            "\n",
            "$ml_l\n",
            "$ml_l[[1]]\n",
            "NULL\n",
            "\n",
            "$ml_l$d\n",
            "$ml_l$d$xval\n",
            "[1] 0\n",
            "\n",
            "$ml_l$d$cp\n",
            "[1] 0.01\n",
            "\n",
            "$ml_l$d$maxdepth\n",
            "[1] 10\n",
            "\n",
            "\n",
            "\n",
            "$ml_m\n",
            "$ml_m[[1]]\n",
            "NULL\n",
            "\n",
            "$ml_m$d\n",
            "$ml_m$d$xval\n",
            "[1] 0\n",
            "\n",
            "$ml_m$d$cp\n",
            "[1] 0.01\n",
            "\n",
            "$ml_m$d$maxdepth\n",
            "[1] 8\n",
            "\n",
            "\n",
            "\n"
          ]
        }
      ],
      "source": [
        "# 5. Set up DML estimation environment\n",
        "set.seed(1408)\n",
        "learner = lrn(\"regr.rpart\")\n",
        "ml_l = learner$clone()\n",
        "ml_m = learner$clone()\n",
        "\n",
        "dml_rpart = dml_approx_plr$new(obj_dml_data,\n",
        "                               ml_l = ml_l, ml_m = ml_m)\n",
        "\n",
        "# set up a list of parameter grids\n",
        "param_grid = list(\"ml_l\" = ps(cp = p_dbl(lower = 0.01, upper = 0.02),\n",
        "                              maxdepth = p_int(lower = 2, upper = 10)),\n",
        "                  \"ml_m\" = ps(cp = p_dbl(lower = 0.01, upper = 0.02),\n",
        "                              maxdepth = p_int(lower = 2, upper = 10)))\n",
        "\n",
        "tune_settings = list(terminator = mlr3tuning::trm(\"evals\", n_evals = 10),\n",
        "                      algorithm = tnr(\"grid_search\"), resolution = 20)\n",
        "\n",
        "dml_rpart$tune(param_set = param_grid, tune_settings = tune_settings)\n",
        "\n",
        "# Estimate target/causal parameter\n",
        "dml_rpart$fit()\n",
        "dml_rpart$print()\n",
        "print(dml_rpart$params)"
      ]
    },
    {
      "cell_type": "code",
      "source": [
        "# Display table with results\n",
        "library(xtable)\n",
        "\n",
        "table = matrix(0, 1, 6)\n",
        "table[1,] = cbind(dml_rpart$coef_theta,dml_rpart$se_theta,dml_rpart$pval_theta,dml_rpart$model_rmse,as.numeric(dml_rpart$rmses[\"ml_l\"]),as.numeric(dml_rpart$rmses[\"ml_m\"]))\n",
        "\n",
        "colnames(table)= c(\"Estimate\", \"Std. Error\", \"P-value\", \"Model RMSE\", \"MSE of l\", \"MSE of m\")\n",
        "rownames(table)= c(\"DML-CART\")\n",
        "tab = xtable(table)\n",
        "tab"
      ],
      "metadata": {
        "colab": {
          "base_uri": "https://localhost:8080/",
          "height": 129
        },
        "id": "Apxjc7znCxx8",
        "outputId": "66b10081-ddee-4f81-fbe1-7bb88a81fa5d"
      },
      "execution_count": null,
      "outputs": [
        {
          "output_type": "display_data",
          "data": {
            "text/html": [
              "<table class=\"dataframe\">\n",
              "<caption>A xtable: 1 × 6</caption>\n",
              "<thead>\n",
              "\t<tr><th></th><th scope=col>Estimate</th><th scope=col>Std. Error</th><th scope=col>P-value</th><th scope=col>Model RMSE</th><th scope=col>MSE of l</th><th scope=col>MSE of m</th></tr>\n",
              "\t<tr><th></th><th scope=col>&lt;dbl&gt;</th><th scope=col>&lt;dbl&gt;</th><th scope=col>&lt;dbl&gt;</th><th scope=col>&lt;dbl&gt;</th><th scope=col>&lt;dbl&gt;</th><th scope=col>&lt;dbl&gt;</th></tr>\n",
              "</thead>\n",
              "<tbody>\n",
              "\t<tr><th scope=row>DML-CART</th><td>1.214637</td><td>0.03714296</td><td>1.47784e-234</td><td>44.01571</td><td>20.17328</td><td>12.65226</td></tr>\n",
              "</tbody>\n",
              "</table>\n"
            ],
            "text/markdown": "\nA xtable: 1 × 6\n\n| <!--/--> | Estimate &lt;dbl&gt; | Std. Error &lt;dbl&gt; | P-value &lt;dbl&gt; | Model RMSE &lt;dbl&gt; | MSE of l &lt;dbl&gt; | MSE of m &lt;dbl&gt; |\n|---|---|---|---|---|---|---|\n| DML-CART | 1.214637 | 0.03714296 | 1.47784e-234 | 44.01571 | 20.17328 | 12.65226 |\n\n",
            "text/latex": "A xtable: 1 × 6\n\\begin{tabular}{r|llllll}\n  & Estimate & Std. Error & P-value & Model RMSE & MSE of l & MSE of m\\\\\n  & <dbl> & <dbl> & <dbl> & <dbl> & <dbl> & <dbl>\\\\\n\\hline\n\tDML-CART & 1.214637 & 0.03714296 & 1.47784e-234 & 44.01571 & 20.17328 & 12.65226\\\\\n\\end{tabular}\n",
            "text/plain": [
              "         Estimate Std. Error P-value      Model RMSE MSE of l MSE of m\n",
              "DML-CART 1.214637 0.03714296 1.47784e-234 44.01571   20.17328 12.65226"
            ]
          },
          "metadata": {}
        }
      ]
    }
  ],
  "metadata": {
    "colab": {
      "provenance": [],
      "authorship_tag": "ABX9TyNGk1Ab1IlnunhQIi90vZlz",
      "include_colab_link": true
    },
    "kernelspec": {
      "display_name": "R",
      "name": "ir"
    },
    "language_info": {
      "name": "R"
    }
  },
  "nbformat": 4,
  "nbformat_minor": 0
}