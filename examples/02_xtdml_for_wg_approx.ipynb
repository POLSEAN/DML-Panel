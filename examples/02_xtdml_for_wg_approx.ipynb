{
  "cells": [
    {
      "cell_type": "markdown",
      "metadata": {
        "id": "view-in-github",
        "colab_type": "text"
      },
      "source": [
        "<a href=\"https://colab.research.google.com/github/POLSEAN/XTDML/blob/main/examples/02_xtdml_for_wg_approx.ipynb\" target=\"_parent\"><img src=\"https://colab.research.google.com/assets/colab-badge.svg\" alt=\"Open In Colab\"/></a>"
      ]
    },
    {
      "cell_type": "markdown",
      "metadata": {
        "id": "0gwXsN9yOS0H"
      },
      "source": [
        "# **DML for panel data: WG (approximation) approach**\n",
        "\n",
        "---\n",
        "\n",
        "*Description*\n",
        "\n",
        "Estimation of the structural parameter using double machine learning (DML) with partially linear regression (PLR) models in the context of panel data with fixed effects as in Clarke and Poselli(2023).\n",
        "\n",
        "The package `XTDML` allows the estimation of the nuisance functions by machine learning methods and  the computation of the Neyman orthogonal score functions. `XTDML` is built on the CRAN package `DoubleML` (Bach et al., 2024), which uses the `mlr3` ecosystem and the `R6` package.\n",
        "\n",
        "\n"
      ]
    },
    {
      "cell_type": "markdown",
      "source": [
        "*References*\n",
        "\n",
        "[1] Bach, P., Chernozhukov, V., Kurz, M. S., Spindler, M. and Klaassen, S. (2024), DoubleML - An Object-Oriented Implementation of Double Machine Learning in R, *Journal of Statistical Software*, 108(3):1-56.\n",
        "\n",
        "[2] Chernozhukov, V., Chetverikov, D., Demirer, M., Duflo, E., Hansen, C., Newey, W., and Robins, J. (2018). Double/debiased machine learning for treatment and structural parameters. *The Econometrics Journal*, 21(1):C1-C68.\n",
        "\n",
        "[3] Clarke, P. and Polselli, A. (2023). Double machine learning for static panel models with fixed effects. *arXiv preprint*, arXiv:2312.08174.\n",
        "\n",
        "[4] Mundlak, Y. (1978). On the pooling of time series and cross section data. *Econometrica*, pages 69-85."
      ],
      "metadata": {
        "id": "pS0jk70LI_wo"
      }
    },
    {
      "cell_type": "markdown",
      "source": [
        "*Overview Code*\n",
        "\n",
        "1. Installation of XTDML and other R packages\n",
        "2. Loading the data\n",
        "3. Data management with WG transformation\n",
        "4. Set up of DML data environment\n",
        "5. Set up of DML estimation environment\n",
        "6. Extraction of DML estimates\n"
      ],
      "metadata": {
        "id": "OlFlV9IgnkL1"
      }
    },
    {
      "cell_type": "markdown",
      "source": [
        "### **The Installation of `XTDML` package**\n",
        "\n",
        "The `XTDML` package can be installed following either options below:\n",
        "\n",
        "1. **Installation directly from GitHub:**\n",
        "  ```\n",
        "    #install.packages(\"devtools\")\n",
        "    library(devtools)\n",
        "\n",
        "    install_github(\"POLSEAN/XTDML\")\n",
        "    library(XTDML)\n",
        "  ```\n",
        "  *Note this code works **ONLY with RStudio (desktop)**, but not with online platforms such as Google Colab or Kaggle.*\n",
        "\n",
        "\n",
        "2. **Download all folders in `XTDML`** from `https://github.com/POLSEAN/XTDML` pressing `<> CODE > Download ZIP`. Rename the downloaded .zip folder as `XTDML`, and upload it on Google Colab. Get the path and run the code `!unzip XTDML.zip` in Python, then change the RUNTIME to R and run\n",
        "   ```\n",
        "    #install.packages(\"devtools\")\n",
        "    library(devtools)\n",
        "\n",
        "    wd = \"~ your-directory/XTDML\"\n",
        "    devtools::load_all(wd)\n",
        "   ```\n",
        "\n",
        "For illustration purposes on Google Colab, we follow the second approach, but the first is recommended with RStudio (desktop)."
      ],
      "metadata": {
        "id": "ei81ZQONJI1_"
      }
    },
    {
      "cell_type": "markdown",
      "source": [
        "**Set RUNTIME > CHANGE RUNTIME TYPE > Python 3**\n",
        "\n",
        "The code below unzips the XTDML.zip folder that you have previously uploaded."
      ],
      "metadata": {
        "id": "0NZZXbz1Qtke"
      }
    },
    {
      "cell_type": "code",
      "source": [
        "!unzip XTDML.zip"
      ],
      "metadata": {
        "id": "TXf7b9x9QvkF",
        "colab": {
          "base_uri": "https://localhost:8080/"
        },
        "collapsed": true,
        "outputId": "a3ad1163-4e82-4af2-8c63-e3a75fe72a87"
      },
      "execution_count": null,
      "outputs": [
        {
          "output_type": "stream",
          "name": "stdout",
          "text": [
            "Archive:  XTDML.zip\n",
            " extracting: XTDML/.gitignore        \n",
            "  inflating: XTDML/.Rbuildignore     \n",
            "  inflating: XTDML/.RData            \n",
            "  inflating: XTDML/.Rhistory         \n",
            "   creating: XTDML/.Rproj.user/\n",
            "   creating: XTDML/.Rproj.user/22C44D20/\n",
            "   creating: XTDML/.Rproj.user/22C44D20/bibliography-index/\n",
            " extracting: XTDML/.Rproj.user/22C44D20/cpp-definition-cache  \n",
            "   creating: XTDML/.Rproj.user/22C44D20/ctx/\n",
            "   creating: XTDML/.Rproj.user/22C44D20/explorer-cache/\n",
            "   creating: XTDML/.Rproj.user/22C44D20/pcs/\n",
            "  inflating: XTDML/.Rproj.user/22C44D20/pcs/files-pane.pper  \n",
            " extracting: XTDML/.Rproj.user/22C44D20/pcs/source-pane.pper  \n",
            "  inflating: XTDML/.Rproj.user/22C44D20/pcs/windowlayoutstate.pper  \n",
            "  inflating: XTDML/.Rproj.user/22C44D20/pcs/workbench-pane.pper  \n",
            "   creating: XTDML/.Rproj.user/22C44D20/presentation/\n",
            "   creating: XTDML/.Rproj.user/22C44D20/profiles-cache/\n",
            " extracting: XTDML/.Rproj.user/22C44D20/rmd-outputs  \n",
            " extracting: XTDML/.Rproj.user/22C44D20/saved_source_markers  \n",
            "   creating: XTDML/.Rproj.user/22C44D20/sources/\n",
            "   creating: XTDML/.Rproj.user/22C44D20/sources/per/\n",
            "   creating: XTDML/.Rproj.user/22C44D20/sources/per/t/\n",
            "   creating: XTDML/.Rproj.user/22C44D20/sources/per/u/\n",
            "   creating: XTDML/.Rproj.user/22C44D20/tutorial/\n",
            "   creating: XTDML/.Rproj.user/22C44D20/viewer-cache/\n",
            "   creating: XTDML/.Rproj.user/EEF9BA3E/\n",
            "   creating: XTDML/.Rproj.user/EEF9BA3E/ctx/\n",
            "   creating: XTDML/.Rproj.user/EEF9BA3E/presentation/\n",
            "   creating: XTDML/.Rproj.user/EEF9BA3E/profiles-cache/\n",
            "   creating: XTDML/.Rproj.user/EEF9BA3E/sources/\n",
            "   creating: XTDML/.Rproj.user/EEF9BA3E/sources/session-029DDA3D/\n",
            " extracting: XTDML/.Rproj.user/EEF9BA3E/sources/session-029DDA3D/lock_file  \n",
            "   creating: XTDML/.Rproj.user/EEF9BA3E/tutorial/\n",
            "   creating: XTDML/.Rproj.user/shared/\n",
            "   creating: XTDML/.Rproj.user/shared/notebooks/\n",
            " extracting: XTDML/.Rproj.user/shared/notebooks/patch-chunk-names  \n",
            "  inflating: XTDML/DESCRIPTION       \n",
            "   creating: XTDML/man/\n",
            "  inflating: XTDML/man/dml_approx.Rd  \n",
            "  inflating: XTDML/man/dml_approx_data.Rd  \n",
            "  inflating: XTDML/man/dml_approx_data_from_data_frame.Rd  \n",
            "  inflating: XTDML/man/dml_approx_plr.Rd  \n",
            "  inflating: XTDML/man/dml_cre.Rd    \n",
            "  inflating: XTDML/man/dml_cre_data.Rd  \n",
            "  inflating: XTDML/man/dml_cre_data_from_data_frame.Rd  \n",
            "  inflating: XTDML/man/dml_cre_plr.Rd  \n",
            "  inflating: XTDML/man/dml_hybrid.Rd  \n",
            "  inflating: XTDML/man/dml_hybrid_data.Rd  \n",
            "  inflating: XTDML/man/dml_hybrid_data_from_data_frame.Rd  \n",
            "  inflating: XTDML/man/dml_hybrid_plr.Rd  \n",
            "  inflating: XTDML/NAMESPACE         \n",
            "   creating: XTDML/R/\n",
            "  inflating: XTDML/R/dml_approx_data.R  \n",
            "  inflating: XTDML/R/dml_cre_data.R  \n",
            "  inflating: XTDML/R/dml_hybrid_data.R  \n",
            "  inflating: XTDML/R/double_cre_ml.R  \n",
            "  inflating: XTDML/R/double_hybrid_ml.R  \n",
            "  inflating: XTDML/R/double_ml_approx.R  \n",
            "  inflating: XTDML/R/double_ml_approx_plr.R  \n",
            "  inflating: XTDML/R/double_ml_cre_plr.R  \n",
            "  inflating: XTDML/R/double_ml_hybrid_plr.R  \n",
            "  inflating: XTDML/R/helper.R        \n",
            "  inflating: XTDML/R/zzz.R           \n",
            "  inflating: XTDML/XTDML.Rproj       \n"
          ]
        }
      ]
    },
    {
      "cell_type": "markdown",
      "source": [
        "**From now set RUNTIME > CHANGE RUNTIME TYPE > R**"
      ],
      "metadata": {
        "id": "oGUuY8g2Qx6P"
      }
    },
    {
      "cell_type": "code",
      "execution_count": null,
      "metadata": {
        "id": "XWH1eE7VCOP9",
        "collapsed": true,
        "colab": {
          "base_uri": "https://localhost:8080/"
        },
        "outputId": "eb41c575-1537-4c32-83cc-253614a4facf"
      },
      "outputs": [
        {
          "output_type": "stream",
          "name": "stderr",
          "text": [
            "Installing packages into ‘/usr/local/lib/R/site-library’\n",
            "(as ‘lib’ is unspecified)\n",
            "\n",
            "also installing the dependencies ‘bitops’, ‘gtools’, ‘caTools’, ‘globals’, ‘listenv’, ‘PRROC’, ‘gplots’, ‘insight’, ‘checkmate’, ‘future’, ‘future.apply’, ‘lgr’, ‘mlbench’, ‘mlr3measures’, ‘mlr3misc’, ‘parallelly’, ‘palmerpenguins’, ‘bbotk’, ‘RcppEigen’, ‘ROCR’\n",
            "\n",
            "\n",
            "Loading required package: usethis\n",
            "\n",
            "── \u001b[1mAttaching core tidyverse packages\u001b[22m ──────────────────────── tidyverse 2.0.0 ──\n",
            "\u001b[32m✔\u001b[39m \u001b[34mdplyr    \u001b[39m 1.1.4     \u001b[32m✔\u001b[39m \u001b[34mreadr    \u001b[39m 2.1.5\n",
            "\u001b[32m✔\u001b[39m \u001b[34mforcats  \u001b[39m 1.0.0     \u001b[32m✔\u001b[39m \u001b[34mstringr  \u001b[39m 1.5.1\n",
            "\u001b[32m✔\u001b[39m \u001b[34mggplot2  \u001b[39m 3.5.1     \u001b[32m✔\u001b[39m \u001b[34mtibble   \u001b[39m 3.2.1\n",
            "\u001b[32m✔\u001b[39m \u001b[34mlubridate\u001b[39m 1.9.3     \u001b[32m✔\u001b[39m \u001b[34mtidyr    \u001b[39m 1.3.1\n",
            "\u001b[32m✔\u001b[39m \u001b[34mpurrr    \u001b[39m 1.0.2     \n",
            "── \u001b[1mConflicts\u001b[22m ────────────────────────────────────────── tidyverse_conflicts() ──\n",
            "\u001b[31m✖\u001b[39m \u001b[34mdplyr\u001b[39m::\u001b[32mfilter()\u001b[39m masks \u001b[34mstats\u001b[39m::filter()\n",
            "\u001b[31m✖\u001b[39m \u001b[34mdplyr\u001b[39m::\u001b[32mlag()\u001b[39m    masks \u001b[34mstats\u001b[39m::lag()\n",
            "\u001b[36mℹ\u001b[39m Use the conflicted package (\u001b[3m\u001b[34m<http://conflicted.r-lib.org/>\u001b[39m\u001b[23m) to force all conflicts to become errors\n",
            "\n",
            "Attaching package: ‘data.table’\n",
            "\n",
            "\n",
            "The following objects are masked from ‘package:lubridate’:\n",
            "\n",
            "    hour, isoweek, mday, minute, month, quarter, second, wday, week,\n",
            "    yday, year\n",
            "\n",
            "\n",
            "The following objects are masked from ‘package:dplyr’:\n",
            "\n",
            "    between, first, last\n",
            "\n",
            "\n",
            "The following object is masked from ‘package:purrr’:\n",
            "\n",
            "    transpose\n",
            "\n",
            "\n",
            "\n",
            "Attaching package: ‘xgboost’\n",
            "\n",
            "\n",
            "The following object is masked from ‘package:dplyr’:\n",
            "\n",
            "    slice\n",
            "\n",
            "\n",
            "\n",
            "Attaching package: ‘mlr3misc’\n",
            "\n",
            "\n",
            "The following object is masked from ‘package:forcats’:\n",
            "\n",
            "    as_factor\n",
            "\n",
            "\n",
            "The following object is masked from ‘package:stringr’:\n",
            "\n",
            "    str_trunc\n",
            "\n",
            "\n",
            "The following object is masked from ‘package:dplyr’:\n",
            "\n",
            "    cross_join\n",
            "\n",
            "\n",
            "The following objects are masked from ‘package:purrr’:\n",
            "\n",
            "    compose, detect, discard, every, has_element, imap, imap_chr,\n",
            "    imap_dbl, imap_int, imap_lgl, invoke, iwalk, keep, map, map_at,\n",
            "    map_chr, map_dbl, map_if, map_int, map_lgl, modify_at, modify_if,\n",
            "    pmap, pmap_chr, pmap_dbl, pmap_int, pmap_lgl, pwalk, set_names,\n",
            "    some, walk\n",
            "\n",
            "\n",
            "The following object is masked from ‘package:tidyr’:\n",
            "\n",
            "    unnest\n",
            "\n",
            "\n",
            "The following objects are masked from ‘package:tibble’:\n",
            "\n",
            "    deframe, enframe\n",
            "\n",
            "\n",
            "Loading required package: paradox\n",
            "\n",
            "\n",
            "Attaching package: ‘MLmetrics’\n",
            "\n",
            "\n",
            "The following object is masked from ‘package:base’:\n",
            "\n",
            "    Recall\n",
            "\n",
            "\n"
          ]
        }
      ],
      "source": [
        "# 1. Install and import R packages\n",
        "# Install packages\n",
        "list.of.packages <- c(\"datawizard\",\"mlr3\",\"mlr3learners\",\"mlr3tuning\",\"paradox\",\"xgboost\",\"ranger\",\"MLmetrics\",\"devtools\",\"tidyverse\")\n",
        "new.packages <- list.of.packages[!(list.of.packages %in% installed.packages()[,\"Package\"])]\n",
        "if(length(new.packages)) install.packages(new.packages, repos = \"http://cran.us.r-project.org\")\n",
        "\n",
        "# Load general packages\n",
        "library(devtools)\n",
        "library(tidyverse)\n",
        "library(checkmate)\n",
        "library(dplyr)\n",
        "library(tibble)  ##for add_column()\n",
        "library(datawizard)\n",
        "library(data.table)\n",
        "# ML packages\n",
        "library(mlr3)\n",
        "library(mlr3learners)\n",
        "library(rpart)\n",
        "library(xgboost)\n",
        "library(ranger)\n",
        "# Packages for HP tuning\n",
        "library(mlr3misc)\n",
        "library(mlr3tuning)\n",
        "library(paradox)\n",
        "library(MLmetrics)\n",
        "\n",
        "# Suppress error messages from ML packages\n",
        "lgr::get_logger(\"bbotk\")$set_threshold(\"warn\")\n",
        "lgr::get_logger(\"mlr3\")$set_threshold(\"warn\")"
      ]
    },
    {
      "cell_type": "code",
      "source": [
        "# Additional package required to install XTDML (not always necessary, depends on the R version)\n",
        "list.of.packages <- c(\"mvtnorm\",\"clusterGeneration\",\"readstata13\")\n",
        "new.packages <- list.of.packages[!(list.of.packages %in% installed.packages()[,\"Package\"])]\n",
        "if(length(new.packages)) install.packages(new.packages, repos = \"http://cran.us.r-project.org\")\n",
        "\n",
        "library(mvtnorm)\n",
        "library(clusterGeneration)\n",
        "library(readstata13)"
      ],
      "metadata": {
        "colab": {
          "base_uri": "https://localhost:8080/"
        },
        "collapsed": true,
        "id": "vh5Djm7soO0X",
        "outputId": "35042414-3f95-4045-c7c9-422c536b2abd"
      },
      "execution_count": null,
      "outputs": [
        {
          "output_type": "stream",
          "name": "stderr",
          "text": [
            "Installing packages into ‘/usr/local/lib/R/site-library’\n",
            "(as ‘lib’ is unspecified)\n",
            "\n",
            "\n",
            "Attaching package: ‘mvtnorm’\n",
            "\n",
            "\n",
            "The following object is masked from ‘package:datawizard’:\n",
            "\n",
            "    standardize\n",
            "\n",
            "\n",
            "Loading required package: MASS\n",
            "\n",
            "\n",
            "Attaching package: ‘MASS’\n",
            "\n",
            "\n",
            "The following object is masked from ‘package:dplyr’:\n",
            "\n",
            "    select\n",
            "\n",
            "\n"
          ]
        }
      ]
    },
    {
      "cell_type": "code",
      "execution_count": null,
      "metadata": {
        "colab": {
          "base_uri": "https://localhost:8080/"
        },
        "collapsed": true,
        "id": "fx4BnCF1_daQ",
        "outputId": "fdac97b6-892c-43d1-9596-5cc2bc311bef"
      },
      "outputs": [
        {
          "output_type": "stream",
          "name": "stderr",
          "text": [
            "\u001b[1m\u001b[22m\u001b[36mℹ\u001b[39m Loading \u001b[34mXTDML\u001b[39m\n"
          ]
        }
      ],
      "source": [
        "# Install XTDML package\n",
        "wd = \"/content/XTDML\"\n",
        "devtools::load_all(wd)\n"
      ]
    },
    {
      "cell_type": "markdown",
      "metadata": {
        "id": "EszKC2AmNuGb"
      },
      "source": [
        "### **The Data**\n",
        "\n",
        "We use simulated data for DGP3 as in Clarke and Polselli (2023). We use a subsample (N=250) of the original dataset (with N=1,000,000), where each unit is observed over $T=10$ periods.\n",
        "\n",
        "In this dataset, the nuisance functions are generated as follows\n",
        "\n",
        "\\begin{align*}\n",
        "    l_0(x_{it}) & = b \\, (x_{it,1}\\cdot x_{it,3}) + a \\, (x_{it,3}\\cdot 1[x_{it,3}>0])\\\\\n",
        "    m_0(x_{it}) & = a \\, (x_{it,1}\\cdot 1[x_{it,1}>0]) + b \\, (x_{it,1}\\cdot x_{it,3})\n",
        "\\end{align*}\n",
        "\n",
        "where $a=0.25$ and $b=0.5$. The true structural effect is 0.5.\n",
        "\n",
        "\n",
        "Note that the WG approach requires to use **transformed** data\n",
        "* $\\tilde{y}_{it} = y_{it} - \\sum_{t=1}^T {y}_{it}$ is the output variable (continuous or binary).\n",
        "* $\\tilde{d}_{it}  = d_{it} - \\sum_{t=1}^T {d}_{it}$ is the treatment variable (continuous or binary).\n",
        "* $\\tilde{x}_{it} = (\\tilde{x}_{it,1}, \\dots, \\tilde{x}_{it,p})'$, where $\\tilde{x}_{it,k} = x_{it,k} - \\sum_{t=1}^T {x}_{it,k}$, are the set of $p=30$ control variables, but only $s=2$ are relevant."
      ]
    },
    {
      "cell_type": "code",
      "execution_count": null,
      "metadata": {
        "colab": {
          "base_uri": "https://localhost:8080/",
          "height": 286
        },
        "id": "5r8pU28vBjsp",
        "outputId": "92712d3b-273d-4819-d03d-5b56c71e1cd8",
        "collapsed": true
      },
      "outputs": [
        {
          "output_type": "display_data",
          "data": {
            "text/html": [
              "<table class=\"dataframe\">\n",
              "<caption>A data.frame: 6 × 34</caption>\n",
              "<thead>\n",
              "\t<tr><th></th><th scope=col>x1</th><th scope=col>x2</th><th scope=col>x3</th><th scope=col>x4</th><th scope=col>x5</th><th scope=col>x6</th><th scope=col>x7</th><th scope=col>x8</th><th scope=col>x9</th><th scope=col>x10</th><th scope=col>⋯</th><th scope=col>x25</th><th scope=col>x26</th><th scope=col>x27</th><th scope=col>x28</th><th scope=col>x29</th><th scope=col>x30</th><th scope=col>y</th><th scope=col>d</th><th scope=col>id</th><th scope=col>time</th></tr>\n",
              "\t<tr><th></th><th scope=col>&lt;dbl&gt;</th><th scope=col>&lt;dbl&gt;</th><th scope=col>&lt;dbl&gt;</th><th scope=col>&lt;dbl&gt;</th><th scope=col>&lt;dbl&gt;</th><th scope=col>&lt;dbl&gt;</th><th scope=col>&lt;dbl&gt;</th><th scope=col>&lt;dbl&gt;</th><th scope=col>&lt;dbl&gt;</th><th scope=col>&lt;dbl&gt;</th><th scope=col>⋯</th><th scope=col>&lt;dbl&gt;</th><th scope=col>&lt;dbl&gt;</th><th scope=col>&lt;dbl&gt;</th><th scope=col>&lt;dbl&gt;</th><th scope=col>&lt;dbl&gt;</th><th scope=col>&lt;dbl&gt;</th><th scope=col>&lt;dbl&gt;</th><th scope=col>&lt;dbl&gt;</th><th scope=col>&lt;int&gt;</th><th scope=col>&lt;int&gt;</th></tr>\n",
              "</thead>\n",
              "<tbody>\n",
              "\t<tr><th scope=row>1</th><td> 1.207286</td><td>-0.1393181</td><td>-1.7420989</td><td>11.5612946</td><td> 7.657902</td><td>-5.766983</td><td> 3.315570</td><td> 2.8193932</td><td>-8.311597</td><td>-1.5291095</td><td>⋯</td><td>-2.2089016</td><td>-6.522599</td><td>-5.5568672</td><td>-1.8528365</td><td> 1.0801914</td><td> 2.8072718</td><td>-0.3297543</td><td>-0.7631192</td><td>1</td><td>1</td></tr>\n",
              "\t<tr><th scope=row>2</th><td> 6.456362</td><td>-0.9376213</td><td>-1.0419866</td><td>-3.6251928</td><td> 2.767801</td><td> 4.143498</td><td> 1.893340</td><td> 0.6039319</td><td> 2.802924</td><td> 2.4015315</td><td>⋯</td><td> 3.0280572</td><td> 3.250733</td><td>-3.3710752</td><td> 7.7339929</td><td> 9.8701270</td><td> 4.4161274</td><td>-6.6604693</td><td>-4.7479225</td><td>1</td><td>2</td></tr>\n",
              "\t<tr><th scope=row>3</th><td>-7.799506</td><td> 4.9583355</td><td>-0.7621036</td><td> 3.0598577</td><td> 6.897287</td><td> 1.549369</td><td> 4.027569</td><td>-0.3454077</td><td> 9.021499</td><td> 0.1900359</td><td>⋯</td><td>-0.1310073</td><td>-1.586182</td><td>-0.6777690</td><td> 0.3936301</td><td>-0.1313761</td><td> 1.4435891</td><td>14.7532417</td><td> 8.7176737</td><td>1</td><td>3</td></tr>\n",
              "\t<tr><th scope=row>4</th><td>-1.388265</td><td>-5.3669211</td><td> 2.8604658</td><td>-8.1199156</td><td> 8.376423</td><td> 9.301903</td><td> 2.940048</td><td>-0.7906528</td><td> 9.286537</td><td>-4.3100712</td><td>⋯</td><td>-1.2243048</td><td>12.425531</td><td>-0.2647207</td><td> 3.7781437</td><td> 6.0148416</td><td> 6.0582704</td><td> 6.3742881</td><td> 1.9074289</td><td>1</td><td>4</td></tr>\n",
              "\t<tr><th scope=row>5</th><td> 8.033281</td><td>-0.3526331</td><td> 1.2944688</td><td>-0.1433285</td><td>-7.331704</td><td>-1.021420</td><td>-3.291111</td><td>-3.6899825</td><td>-7.480111</td><td>-1.2449216</td><td>⋯</td><td>-0.8210450</td><td>-6.741179</td><td> 3.7456886</td><td>-2.5871991</td><td> 0.4788044</td><td> 0.2555598</td><td> 6.6105295</td><td> 6.0289840</td><td>1</td><td>5</td></tr>\n",
              "\t<tr><th scope=row>6</th><td>-6.856260</td><td> 3.9527570</td><td>-1.5199853</td><td> 2.3989451</td><td>-2.429696</td><td>-2.162288</td><td>-4.308510</td><td> 4.5548429</td><td> 3.380496</td><td> 0.4730454</td><td>⋯</td><td> 2.8901936</td><td> 4.782938</td><td> 4.8563051</td><td>-1.6722178</td><td>-1.7085113</td><td>-5.2948253</td><td>15.6372517</td><td> 8.9012970</td><td>1</td><td>6</td></tr>\n",
              "</tbody>\n",
              "</table>\n"
            ],
            "text/markdown": "\nA data.frame: 6 × 34\n\n| <!--/--> | x1 &lt;dbl&gt; | x2 &lt;dbl&gt; | x3 &lt;dbl&gt; | x4 &lt;dbl&gt; | x5 &lt;dbl&gt; | x6 &lt;dbl&gt; | x7 &lt;dbl&gt; | x8 &lt;dbl&gt; | x9 &lt;dbl&gt; | x10 &lt;dbl&gt; | ⋯ ⋯ | x25 &lt;dbl&gt; | x26 &lt;dbl&gt; | x27 &lt;dbl&gt; | x28 &lt;dbl&gt; | x29 &lt;dbl&gt; | x30 &lt;dbl&gt; | y &lt;dbl&gt; | d &lt;dbl&gt; | id &lt;int&gt; | time &lt;int&gt; |\n|---|---|---|---|---|---|---|---|---|---|---|---|---|---|---|---|---|---|---|---|---|---|\n| 1 |  1.207286 | -0.1393181 | -1.7420989 | 11.5612946 |  7.657902 | -5.766983 |  3.315570 |  2.8193932 | -8.311597 | -1.5291095 | ⋯ | -2.2089016 | -6.522599 | -5.5568672 | -1.8528365 |  1.0801914 |  2.8072718 | -0.3297543 | -0.7631192 | 1 | 1 |\n| 2 |  6.456362 | -0.9376213 | -1.0419866 | -3.6251928 |  2.767801 |  4.143498 |  1.893340 |  0.6039319 |  2.802924 |  2.4015315 | ⋯ |  3.0280572 |  3.250733 | -3.3710752 |  7.7339929 |  9.8701270 |  4.4161274 | -6.6604693 | -4.7479225 | 1 | 2 |\n| 3 | -7.799506 |  4.9583355 | -0.7621036 |  3.0598577 |  6.897287 |  1.549369 |  4.027569 | -0.3454077 |  9.021499 |  0.1900359 | ⋯ | -0.1310073 | -1.586182 | -0.6777690 |  0.3936301 | -0.1313761 |  1.4435891 | 14.7532417 |  8.7176737 | 1 | 3 |\n| 4 | -1.388265 | -5.3669211 |  2.8604658 | -8.1199156 |  8.376423 |  9.301903 |  2.940048 | -0.7906528 |  9.286537 | -4.3100712 | ⋯ | -1.2243048 | 12.425531 | -0.2647207 |  3.7781437 |  6.0148416 |  6.0582704 |  6.3742881 |  1.9074289 | 1 | 4 |\n| 5 |  8.033281 | -0.3526331 |  1.2944688 | -0.1433285 | -7.331704 | -1.021420 | -3.291111 | -3.6899825 | -7.480111 | -1.2449216 | ⋯ | -0.8210450 | -6.741179 |  3.7456886 | -2.5871991 |  0.4788044 |  0.2555598 |  6.6105295 |  6.0289840 | 1 | 5 |\n| 6 | -6.856260 |  3.9527570 | -1.5199853 |  2.3989451 | -2.429696 | -2.162288 | -4.308510 |  4.5548429 |  3.380496 |  0.4730454 | ⋯ |  2.8901936 |  4.782938 |  4.8563051 | -1.6722178 | -1.7085113 | -5.2948253 | 15.6372517 |  8.9012970 | 1 | 6 |\n\n",
            "text/latex": "A data.frame: 6 × 34\n\\begin{tabular}{r|lllllllllllllllllllll}\n  & x1 & x2 & x3 & x4 & x5 & x6 & x7 & x8 & x9 & x10 & ⋯ & x25 & x26 & x27 & x28 & x29 & x30 & y & d & id & time\\\\\n  & <dbl> & <dbl> & <dbl> & <dbl> & <dbl> & <dbl> & <dbl> & <dbl> & <dbl> & <dbl> & ⋯ & <dbl> & <dbl> & <dbl> & <dbl> & <dbl> & <dbl> & <dbl> & <dbl> & <int> & <int>\\\\\n\\hline\n\t1 &  1.207286 & -0.1393181 & -1.7420989 & 11.5612946 &  7.657902 & -5.766983 &  3.315570 &  2.8193932 & -8.311597 & -1.5291095 & ⋯ & -2.2089016 & -6.522599 & -5.5568672 & -1.8528365 &  1.0801914 &  2.8072718 & -0.3297543 & -0.7631192 & 1 & 1\\\\\n\t2 &  6.456362 & -0.9376213 & -1.0419866 & -3.6251928 &  2.767801 &  4.143498 &  1.893340 &  0.6039319 &  2.802924 &  2.4015315 & ⋯ &  3.0280572 &  3.250733 & -3.3710752 &  7.7339929 &  9.8701270 &  4.4161274 & -6.6604693 & -4.7479225 & 1 & 2\\\\\n\t3 & -7.799506 &  4.9583355 & -0.7621036 &  3.0598577 &  6.897287 &  1.549369 &  4.027569 & -0.3454077 &  9.021499 &  0.1900359 & ⋯ & -0.1310073 & -1.586182 & -0.6777690 &  0.3936301 & -0.1313761 &  1.4435891 & 14.7532417 &  8.7176737 & 1 & 3\\\\\n\t4 & -1.388265 & -5.3669211 &  2.8604658 & -8.1199156 &  8.376423 &  9.301903 &  2.940048 & -0.7906528 &  9.286537 & -4.3100712 & ⋯ & -1.2243048 & 12.425531 & -0.2647207 &  3.7781437 &  6.0148416 &  6.0582704 &  6.3742881 &  1.9074289 & 1 & 4\\\\\n\t5 &  8.033281 & -0.3526331 &  1.2944688 & -0.1433285 & -7.331704 & -1.021420 & -3.291111 & -3.6899825 & -7.480111 & -1.2449216 & ⋯ & -0.8210450 & -6.741179 &  3.7456886 & -2.5871991 &  0.4788044 &  0.2555598 &  6.6105295 &  6.0289840 & 1 & 5\\\\\n\t6 & -6.856260 &  3.9527570 & -1.5199853 &  2.3989451 & -2.429696 & -2.162288 & -4.308510 &  4.5548429 &  3.380496 &  0.4730454 & ⋯ &  2.8901936 &  4.782938 &  4.8563051 & -1.6722178 & -1.7085113 & -5.2948253 & 15.6372517 &  8.9012970 & 1 & 6\\\\\n\\end{tabular}\n",
            "text/plain": [
              "  x1        x2         x3         x4         x5        x6        x7       \n",
              "1  1.207286 -0.1393181 -1.7420989 11.5612946  7.657902 -5.766983  3.315570\n",
              "2  6.456362 -0.9376213 -1.0419866 -3.6251928  2.767801  4.143498  1.893340\n",
              "3 -7.799506  4.9583355 -0.7621036  3.0598577  6.897287  1.549369  4.027569\n",
              "4 -1.388265 -5.3669211  2.8604658 -8.1199156  8.376423  9.301903  2.940048\n",
              "5  8.033281 -0.3526331  1.2944688 -0.1433285 -7.331704 -1.021420 -3.291111\n",
              "6 -6.856260  3.9527570 -1.5199853  2.3989451 -2.429696 -2.162288 -4.308510\n",
              "  x8         x9        x10        ⋯ x25        x26       x27        x28       \n",
              "1  2.8193932 -8.311597 -1.5291095 ⋯ -2.2089016 -6.522599 -5.5568672 -1.8528365\n",
              "2  0.6039319  2.802924  2.4015315 ⋯  3.0280572  3.250733 -3.3710752  7.7339929\n",
              "3 -0.3454077  9.021499  0.1900359 ⋯ -0.1310073 -1.586182 -0.6777690  0.3936301\n",
              "4 -0.7906528  9.286537 -4.3100712 ⋯ -1.2243048 12.425531 -0.2647207  3.7781437\n",
              "5 -3.6899825 -7.480111 -1.2449216 ⋯ -0.8210450 -6.741179  3.7456886 -2.5871991\n",
              "6  4.5548429  3.380496  0.4730454 ⋯  2.8901936  4.782938  4.8563051 -1.6722178\n",
              "  x29        x30        y          d          id time\n",
              "1  1.0801914  2.8072718 -0.3297543 -0.7631192 1  1   \n",
              "2  9.8701270  4.4161274 -6.6604693 -4.7479225 1  2   \n",
              "3 -0.1313761  1.4435891 14.7532417  8.7176737 1  3   \n",
              "4  6.0148416  6.0582704  6.3742881  1.9074289 1  4   \n",
              "5  0.4788044  0.2555598  6.6105295  6.0289840 1  5   \n",
              "6 -1.7085113 -5.2948253 15.6372517  8.9012970 1  6   "
            ]
          },
          "metadata": {}
        }
      ],
      "source": [
        "# 2. Load simulated data from GitHub\n",
        "# The data is already TIME-DEAMED (below the code to apply the within-group transformation)\n",
        "df = read.csv(\"https://raw.githubusercontent.com/POLSEAN/XTDML/main/data/dgp3_wg_short.csv\")\n",
        "head(df)"
      ]
    },
    {
      "cell_type": "markdown",
      "source": [
        "**NOTE:** If your data is not time demeaned, you need to transform *all* data (outcomes, treatments, covariates, dummies). The uploaded dataset containes data that has been transformed previously. Below an example of code that allows you to apply the within-group transformation.\n",
        "\n",
        "Adapt the code below according to your dataset. Note that Google Colab does not allow the use of `select(df, starts_with(\"x\"))`.\n",
        "\n",
        "```\n",
        "# Load the dataset created for the CRE approach from GitHub\n",
        "df.git = read.csv(\"https://raw.githubusercontent.com/POLSEAN/XTDML/main/data/dgp4_cre_short.csv\")\n",
        "\n",
        "# Time-demean the data as follows:\n",
        "#     1. Calculate the individual means for each variable (xbar_i), and\n",
        "#     2. Calculate the grand means of each variable (xbar).\n",
        "\n",
        "# Keep meain variables without panel indices (id, time)\n",
        "df_no_idx  = select(df.git, starts_with(c(\"x\",\"y\",\"d\")))\n",
        "X = paste0(\"x\",1:30)\n",
        "\n",
        "# Calculate the grand means\n",
        "df_gm = df_no_idx %>%\n",
        "  mutate(across(c(X, d, y), ~ mean(.x)))\n",
        "gmX_list = as.list(select(df_gm[1,], starts_with(c(\"x\", \"d\", \"y\"))))\n",
        "\n",
        "# Calculate the individual means\n",
        "df_mi = df.git %>%\n",
        "  group_by(id) %>%\n",
        "  mutate(across(c(X, d, y), ~  mean(.x)))\n",
        "mX_list = as.list(select(df_mi, starts_with(c(\"x\", \"d\", \"y\"))))\n",
        "mX_list = mX_list[-1]\n",
        "\n",
        "# Calculate time-demeaned variables as: xtilde_it = x_it - xbar_i + xbar (the grand mean allows a consistent estimate of the constant term)\n",
        "df_dm = df_no_idx %>%\n",
        "  mutate(across(all_of(names(mX_list)), ~ .x - mX_list[[cur_column()]] + gmX_list[[cur_column()]]))\n",
        "df_dm$id = df.git$id\n",
        "df_dm$time = df.git$time\n",
        "\n",
        "# Save the .csv file with the transformed data\n",
        "write.csv(df_dm, file = \"~your_directory_here_to_export_file/dgp3_wg_short.csv\", row.names = FALSE)\n",
        "\n",
        "\n",
        "```"
      ],
      "metadata": {
        "id": "IZKreI6YUlr1"
      }
    },
    {
      "cell_type": "markdown",
      "metadata": {
        "id": "pG8ZSXDVNzBZ"
      },
      "source": [
        "## **Estimation and inference with DML for WG**\n",
        "\n",
        "The section below consists in setting up the DML data and estimation environments, and proceed with the actual estimation."
      ]
    },
    {
      "cell_type": "markdown",
      "metadata": {
        "id": "rKDgwrxWfoyo"
      },
      "source": [
        "### **4. Set up DML data environment**\n",
        "Initalization of `dml_approx_data`  from `data.frame`. Arguments to pass:\n",
        "\n",
        "```\n",
        "dml_approx_data_from_data_frame(data,\n",
        "                  x_cols = NULL,\n",
        "                  y_col = NULL,\n",
        "                  d_cols = NULL,\n",
        "                  z_cols = NULL,\n",
        "                  cluster_cols = NULL\n",
        "                  )\n",
        "\n",
        "```                             "
      ]
    },
    {
      "cell_type": "code",
      "execution_count": null,
      "metadata": {
        "colab": {
          "base_uri": "https://localhost:8080/"
        },
        "id": "hzCmm5ufDMA2",
        "outputId": "54effb5f-d487-4604-b40e-175b1fbe0174",
        "collapsed": true
      },
      "outputs": [
        {
          "output_type": "stream",
          "name": "stdout",
          "text": [
            "================= DML-FE Object ==================\n",
            "\n",
            "\n",
            "------------------ Data summary ------------------\n",
            "Outcome variable: y\n",
            "Treatment variable(s): d\n",
            "Cluster variable(s): id\n",
            "Covariates: x1, x2, x3, x4, x5, x6, x7, x8, x9, x10, x11, x12, x13, x14, x15, x16, x17, x18, x19, x20, x21, x22, x23, x24, x25, x26, x27, x28, x29, x30\n",
            "Instrument(s): \n",
            "No. Observations: 2500\n"
          ]
        }
      ],
      "source": [
        "# 3. Set up DML data environment\n",
        "x_cols <- paste0(\"x\", 1:30)\n",
        "\n",
        "# set up data for DML procedure\n",
        "obj_dml_data = dml_approx_data_from_data_frame(df,\n",
        "                            x_cols = x_cols,  y_col = \"y\", d_cols = \"d\",\n",
        "                            cluster_cols = \"id\")\n",
        "obj_dml_data$print()"
      ]
    },
    {
      "cell_type": "markdown",
      "metadata": {
        "id": "rFJ0mQy0ftPo"
      },
      "source": [
        "### **4. Set up DML estimation environment**\n",
        "\n",
        "Arguments to pass in `dml_approx_plr` function that Creates a new instance of this R6 class.\n",
        "\n",
        "```\n",
        " dml_approx_plr$new(data,\n",
        "      ml_l,\n",
        "      ml_m,\n",
        "      ml_g = NULL,\n",
        "      n_folds = 5,\n",
        "      n_rep = 1,\n",
        "      score = \"orth-PO\",               # or \"orth-IV\"\n",
        "      dml_procedure = \"dml2\",          # or \"dml1\"\n",
        "      draw_sample_splitting = TRUE,\n",
        "      apply_cross_fitting = TRUE\n",
        "      )\n",
        "\n",
        "```"
      ]
    },
    {
      "cell_type": "code",
      "execution_count": null,
      "metadata": {
        "colab": {
          "base_uri": "https://localhost:8080/"
        },
        "id": "DAET9x-QB1ps",
        "outputId": "8a4fa9e6-7ff0-4f2b-d97a-303cd8b6d928"
      },
      "outputs": [
        {
          "output_type": "stream",
          "name": "stderr",
          "text": [
            "TuningInstanceSingleCrit is deprecated. Use TuningInstanceBatchSingleCrit instead.\n",
            "\n",
            "TuningInstanceSingleCrit is deprecated. Use TuningInstanceBatchSingleCrit instead.\n",
            "\n"
          ]
        },
        {
          "output_type": "stream",
          "name": "stdout",
          "text": [
            "[1] \"rmses in fold 1 : 20.8425618528673\"\n",
            "[1] \"theta_subsample_mean in fold 1: 1.20967326152633\"\n",
            "[1] \"rmses in fold 2 : 21.6552961084982\"\n",
            "[1] \"theta_subsample_mean in fold 2: 1.26796763289583\"\n",
            "[1] \"rmses in fold 3 : 19.386253563844\"\n",
            "[1] \"theta_subsample_mean in fold 3: 1.29530566370593\"\n",
            "[1] \"rmses in fold 4 : 18.8041160665854\"\n",
            "[1] \"theta_subsample_mean in fold 4: 1.30031407414006\"\n",
            "[1] \"rmses in fold 5 : 19.6349951037836\"\n",
            "[1] \"theta_subsample_mean in fold 5: 1.27814720150453\"\n",
            "[1] \"theta in dml2: 1.27814720150453\"\n",
            "[1] \"rmse in dml2: 19.6349951037836\"\n",
            "================= dml_approx_plr Object ==================\n",
            "\n",
            "\n",
            "\n",
            "------------------ Data summary ------------------\n",
            "Outcome variable: y\n",
            "Treatment variable: d\n",
            "Covariates: x1, x2, x3, x4, x5, x6, x7, x8, x9, x10, x11, x12, x13, x14, x15, x16, x17, x18, x19, x20, x21, x22, x23, x24, x25, x26, x27, x28, x29, x30\n",
            "Cluster variables: id\n",
            "No. Observations: 2500\n",
            "No. Groups: 250\n",
            "\n",
            "------------------ Score & algorithm ------------------\n",
            "Score function: orth-PO\n",
            "DML algorithm: dml2\n",
            "DML approach: transformed variables \n",
            "\n",
            "------------------ Machine learner ------------------\n",
            "Learner of nuisance ml_l: regr.rpart\n",
            "RMSE of nuisance ml_l : 12.02336\n",
            "Learner of nuisance ml_m: regr.rpart\n",
            "RMSE of nuisance ml_m : 7.98281\n",
            "Model RMSE: 19.63500\n",
            "\n",
            "------------------ Resampling ------------------\n",
            "No. folds: 5\n",
            "No. folds per cluster: 5\n",
            "No. repeated sample splits: 1\n",
            "Apply cross-fitting: TRUE\n",
            "\n",
            "------------------ Fit summary ------------------\n",
            " Estimates and significance testing of the effect of target variables\n",
            "  Estimate. Std. Error t value Pr(>|t|)    \n",
            "d   1.27815    0.02435   52.48   <2e-16 ***\n",
            "---\n",
            "Signif. codes:  0 ‘***’ 0.001 ‘**’ 0.01 ‘*’ 0.05 ‘.’ 0.1 ‘ ’ 1\n",
            "\n",
            "\n",
            "$ml_l\n",
            "$ml_l[[1]]\n",
            "NULL\n",
            "\n",
            "$ml_l$d\n",
            "$ml_l$d$xval\n",
            "[1] 0\n",
            "\n",
            "$ml_l$d$cp\n",
            "[1] 0.003111111\n",
            "\n",
            "$ml_l$d$maxdepth\n",
            "[1] 8\n",
            "\n",
            "\n",
            "\n",
            "$ml_m\n",
            "$ml_m[[1]]\n",
            "NULL\n",
            "\n",
            "$ml_m$d\n",
            "$ml_m$d$xval\n",
            "[1] 0\n",
            "\n",
            "$ml_m$d$cp\n",
            "[1] 0.003111111\n",
            "\n",
            "$ml_m$d$maxdepth\n",
            "[1] 8\n",
            "\n",
            "\n",
            "\n"
          ]
        }
      ],
      "source": [
        "# 5. Set up DML estimation environment\n",
        "set.seed(1408)\n",
        "learner = lrn(\"regr.rpart\")\n",
        "ml_l = learner$clone()\n",
        "ml_m = learner$clone()\n",
        "\n",
        "dml_rpart = dml_approx_plr$new(obj_dml_data,\n",
        "                            ml_l = ml_l, ml_m = ml_m)\n",
        "\n",
        "# set up a list of parameter grids\n",
        "param_grid = list(\"ml_l\" = ps(cp = p_dbl(lower = 0.001, upper = 0.02),\n",
        "                              maxdepth = p_int(lower = 2, upper = 10)),\n",
        "                  \"ml_m\" = ps(cp = p_dbl(lower = 0.001, upper = 0.02),\n",
        "                              maxdepth = p_int(lower = 2, upper = 10)))\n",
        "\n",
        "tune_settings = list(terminator = mlr3tuning::trm(\"evals\", n_evals = 10),\n",
        "                      algorithm = tnr(\"grid_search\"), resolution = 20)\n",
        "\n",
        "dml_rpart$tune(param_set = param_grid, tune_settings = tune_settings)\n",
        "\n",
        "# Estimate target/causal parameter\n",
        "dml_rpart$fit()\n",
        "dml_rpart$print()\n",
        "print(dml_rpart$params)"
      ]
    }
  ],
  "metadata": {
    "colab": {
      "provenance": [],
      "authorship_tag": "ABX9TyOMbv1EJ1RMIZBy4km7TLqQ",
      "include_colab_link": true
    },
    "kernelspec": {
      "display_name": "R",
      "name": "ir"
    },
    "language_info": {
      "name": "R"
    }
  },
  "nbformat": 4,
  "nbformat_minor": 0
}