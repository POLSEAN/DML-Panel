{
  "cells": [
    {
      "cell_type": "markdown",
      "metadata": {
        "id": "view-in-github",
        "colab_type": "text"
      },
      "source": [
        "<a href=\"https://colab.research.google.com/github/POLSEAN/XTDML/blob/main/examples/01_xtdml_pliv_fd.ipynb\" target=\"_parent\"><img src=\"https://colab.research.google.com/assets/colab-badge.svg\" alt=\"Open In Colab\"/></a>"
      ]
    },
    {
      "cell_type": "markdown",
      "metadata": {
        "id": "0gwXsN9yOS0H"
      },
      "source": [
        "# **DML for panel data with IV: FD (exact) approach**\n",
        "\n",
        "---\n",
        "\n",
        "*Description*\n",
        "\n",
        "Estimation of the structural parameter using double machine learning (DML) with partially linear regression (PLR) models with instrumental variables (IV) in the context of panel data with fixed effects.\n",
        "\n",
        "The package `XTDML` allows the estimation of the nuisance functions by machine learning methods and  the computation of the Neyman orthogonal score functions. `XTDML` is built on the CRAN package `DoubleML` (Bach et al., 2024), which uses the `mlr3` ecosystem and the `R6` package."
      ]
    },
    {
      "cell_type": "markdown",
      "source": [
        "**References**\n",
        "\n",
        "[1] Bach, P., Chernozhukov, V., Kurz, M. S., Spindler, M. and Klaassen, S. (2024), DoubleML - An Object-Oriented Implementation of Double Machine Learning in R, *Journal of Statistical Software*, 108(3):1-56.\n",
        "\n",
        "[2] Chernozhukov, V., Chetverikov, D., Demirer, M., Duflo, E., Hansen, C., Newey, W., and Robins, J. (2018). Double/debiased machine learning for treatment and structural parameters. *The Econometrics Journal*, 21(1):C1-C68.\n",
        "\n",
        "[3] Clarke, P. and Polselli, A. (2023). Double machine learning for static panel models with fixed effects. *arXiv preprint*, arXiv:2312.08174.\n",
        "\n",
        "[4] Mundlak, Y. (1978). On the pooling of time series and cross section data. *Econometrica*, pages 69-85."
      ],
      "metadata": {
        "id": "zB8ghxL6TZOj"
      }
    },
    {
      "cell_type": "markdown",
      "source": [
        "*Overview Code*\n",
        "\n",
        "1. Installation of XTDML and other R packages\n",
        "2. Loading the data\n",
        "3. Data management with FD transformation\n",
        "4. Set up of DML data environment\n",
        "5. Set up of DML estimation environment\n",
        "6. Extraction of DML estimates\n"
      ],
      "metadata": {
        "id": "uyR7GwZXhGej"
      }
    },
    {
      "cell_type": "markdown",
      "source": [
        "### **The Installation of `XTDML` package**\n",
        "\n",
        "The `XTDML` package can be installed following either options below:\n",
        "\n",
        "1. **Installation directly from GitHub:**\n",
        "  ```\n",
        "    #install.packages(\"devtools\")\n",
        "    library(devtools)\n",
        "\n",
        "    install_github(\"POLSEAN/XTDML\")\n",
        "    library(XTDML)\n",
        "  ```\n",
        "  *Note this code works **ONLY with RStudio (desktop)**, but not with online platforms such as Google Colab or Kaggle.*\n",
        "\n",
        "\n",
        "2. **Download all folders in `XTDML`** from `https://github.com/POLSEAN/XTDML` pressing `<> CODE > Download ZIP`. Rename the downloaded .zip folder as `XTDML`, and upload it on Google Colab. Get the path and run the code `!unzip XTDML.zip` in Python, then change the RUNTIME to R and run\n",
        "   ```\n",
        "    #install.packages(\"devtools\")\n",
        "    library(devtools)\n",
        "\n",
        "    wd = \"~ your-directory/XTDML\"\n",
        "    devtools::load_all(wd)\n",
        "   ```\n",
        "\n",
        "For illustration purposes on Google Colab, we follow the second approach, but the first is recommended with RStudio (desktop).\n"
      ],
      "metadata": {
        "id": "BZ0bNRRmTb_t"
      }
    },
    {
      "cell_type": "markdown",
      "source": [
        "**Set RUNTIME > CHANGE RUNTIME TYPE > Python 3**\n",
        "\n",
        "The code below unzips the XTDML.zip folder that you have previously uploaded."
      ],
      "metadata": {
        "id": "tEQSwUnsTfPl"
      }
    },
    {
      "cell_type": "code",
      "source": [
        "!unzip XTDML.zip"
      ],
      "metadata": {
        "id": "UcnleM_uTYNK",
        "colab": {
          "base_uri": "https://localhost:8080/"
        },
        "outputId": "917c30fe-095d-4143-a2f1-ff5b4f7aaacd"
      },
      "execution_count": 1,
      "outputs": [
        {
          "output_type": "stream",
          "name": "stdout",
          "text": [
            "Archive:  XTDML.zip\n",
            " extracting: XTDML/.gitignore        \n",
            "  inflating: XTDML/.Rbuildignore     \n",
            "  inflating: XTDML/.RData            \n",
            "  inflating: XTDML/.Rhistory         \n",
            "   creating: XTDML/.Rproj.user/\n",
            "   creating: XTDML/.Rproj.user/22C44D20/\n",
            "   creating: XTDML/.Rproj.user/22C44D20/bibliography-index/\n",
            " extracting: XTDML/.Rproj.user/22C44D20/cpp-definition-cache  \n",
            "   creating: XTDML/.Rproj.user/22C44D20/ctx/\n",
            "   creating: XTDML/.Rproj.user/22C44D20/explorer-cache/\n",
            "   creating: XTDML/.Rproj.user/22C44D20/pcs/\n",
            "  inflating: XTDML/.Rproj.user/22C44D20/pcs/files-pane.pper  \n",
            " extracting: XTDML/.Rproj.user/22C44D20/pcs/source-pane.pper  \n",
            "  inflating: XTDML/.Rproj.user/22C44D20/pcs/windowlayoutstate.pper  \n",
            "  inflating: XTDML/.Rproj.user/22C44D20/pcs/workbench-pane.pper  \n",
            "   creating: XTDML/.Rproj.user/22C44D20/presentation/\n",
            "   creating: XTDML/.Rproj.user/22C44D20/profiles-cache/\n",
            " extracting: XTDML/.Rproj.user/22C44D20/rmd-outputs  \n",
            " extracting: XTDML/.Rproj.user/22C44D20/saved_source_markers  \n",
            "   creating: XTDML/.Rproj.user/22C44D20/sources/\n",
            "   creating: XTDML/.Rproj.user/22C44D20/sources/per/\n",
            "   creating: XTDML/.Rproj.user/22C44D20/sources/per/t/\n",
            "   creating: XTDML/.Rproj.user/22C44D20/sources/per/u/\n",
            "   creating: XTDML/.Rproj.user/22C44D20/tutorial/\n",
            "   creating: XTDML/.Rproj.user/22C44D20/viewer-cache/\n",
            "   creating: XTDML/.Rproj.user/EEF9BA3E/\n",
            "   creating: XTDML/.Rproj.user/EEF9BA3E/ctx/\n",
            "   creating: XTDML/.Rproj.user/EEF9BA3E/presentation/\n",
            "   creating: XTDML/.Rproj.user/EEF9BA3E/profiles-cache/\n",
            "   creating: XTDML/.Rproj.user/EEF9BA3E/sources/\n",
            "   creating: XTDML/.Rproj.user/EEF9BA3E/sources/session-029DDA3D/\n",
            " extracting: XTDML/.Rproj.user/EEF9BA3E/sources/session-029DDA3D/lock_file  \n",
            "   creating: XTDML/.Rproj.user/EEF9BA3E/tutorial/\n",
            "   creating: XTDML/.Rproj.user/shared/\n",
            "   creating: XTDML/.Rproj.user/shared/notebooks/\n",
            " extracting: XTDML/.Rproj.user/shared/notebooks/patch-chunk-names  \n",
            "  inflating: XTDML/DESCRIPTION       \n",
            "   creating: XTDML/man/\n",
            "  inflating: XTDML/man/dml_approx.Rd  \n",
            "  inflating: XTDML/man/dml_approx_data.Rd  \n",
            "  inflating: XTDML/man/dml_approx_data_from_data_frame.Rd  \n",
            "  inflating: XTDML/man/dml_approx_plr.Rd  \n",
            "  inflating: XTDML/man/dml_cre.Rd    \n",
            "  inflating: XTDML/man/dml_cre_data.Rd  \n",
            "  inflating: XTDML/man/dml_cre_data_from_data_frame.Rd  \n",
            "  inflating: XTDML/man/dml_cre_plr.Rd  \n",
            "  inflating: XTDML/man/dml_hybrid.Rd  \n",
            "  inflating: XTDML/man/dml_hybrid_data.Rd  \n",
            "  inflating: XTDML/man/dml_hybrid_data_from_data_frame.Rd  \n",
            "  inflating: XTDML/man/dml_hybrid_plr.Rd  \n",
            "  inflating: XTDML/NAMESPACE         \n",
            "   creating: XTDML/R/\n",
            "  inflating: XTDML/R/dml_approx_data.R  \n",
            "  inflating: XTDML/R/dml_cre_data.R  \n",
            "  inflating: XTDML/R/dml_hybrid_data.R  \n",
            "  inflating: XTDML/R/double_cre_ml.R  \n",
            "  inflating: XTDML/R/double_hybrid_ml.R  \n",
            "  inflating: XTDML/R/double_ml_approx.R  \n",
            "  inflating: XTDML/R/double_ml_approx_pliv.R  \n",
            "  inflating: XTDML/R/double_ml_approx_plr.R  \n",
            "  inflating: XTDML/R/double_ml_cre_plr.R  \n",
            "  inflating: XTDML/R/double_ml_hybrid_plr.R  \n",
            "  inflating: XTDML/R/helper.R        \n",
            "  inflating: XTDML/R/zzz.R           \n",
            "  inflating: XTDML/XTDML.Rproj       \n"
          ]
        }
      ]
    },
    {
      "cell_type": "markdown",
      "source": [
        "**From now change RUNTIME > SET RUNTIME TYPE > R**"
      ],
      "metadata": {
        "id": "N0WzbvMzTkiK"
      }
    },
    {
      "cell_type": "code",
      "execution_count": 2,
      "metadata": {
        "colab": {
          "base_uri": "https://localhost:8080/"
        },
        "id": "XWH1eE7VCOP9",
        "outputId": "9d72d2b4-142c-4939-a0fb-1041194e33bd",
        "collapsed": true
      },
      "outputs": [
        {
          "output_type": "stream",
          "name": "stderr",
          "text": [
            "Installing packages into ‘/usr/local/lib/R/site-library’\n",
            "(as ‘lib’ is unspecified)\n",
            "\n",
            "also installing the dependencies ‘bitops’, ‘gtools’, ‘caTools’, ‘globals’, ‘listenv’, ‘PRROC’, ‘gplots’, ‘insight’, ‘checkmate’, ‘future’, ‘future.apply’, ‘lgr’, ‘mlbench’, ‘mlr3measures’, ‘mlr3misc’, ‘parallelly’, ‘palmerpenguins’, ‘bbotk’, ‘RcppEigen’, ‘ROCR’\n",
            "\n",
            "\n",
            "Loading required package: usethis\n",
            "\n",
            "── \u001b[1mAttaching core tidyverse packages\u001b[22m ──────────────────────── tidyverse 2.0.0 ──\n",
            "\u001b[32m✔\u001b[39m \u001b[34mdplyr    \u001b[39m 1.1.4     \u001b[32m✔\u001b[39m \u001b[34mreadr    \u001b[39m 2.1.5\n",
            "\u001b[32m✔\u001b[39m \u001b[34mforcats  \u001b[39m 1.0.0     \u001b[32m✔\u001b[39m \u001b[34mstringr  \u001b[39m 1.5.1\n",
            "\u001b[32m✔\u001b[39m \u001b[34mggplot2  \u001b[39m 3.5.1     \u001b[32m✔\u001b[39m \u001b[34mtibble   \u001b[39m 3.2.1\n",
            "\u001b[32m✔\u001b[39m \u001b[34mlubridate\u001b[39m 1.9.3     \u001b[32m✔\u001b[39m \u001b[34mtidyr    \u001b[39m 1.3.1\n",
            "\u001b[32m✔\u001b[39m \u001b[34mpurrr    \u001b[39m 1.0.2     \n",
            "── \u001b[1mConflicts\u001b[22m ────────────────────────────────────────── tidyverse_conflicts() ──\n",
            "\u001b[31m✖\u001b[39m \u001b[34mdplyr\u001b[39m::\u001b[32mfilter()\u001b[39m masks \u001b[34mstats\u001b[39m::filter()\n",
            "\u001b[31m✖\u001b[39m \u001b[34mdplyr\u001b[39m::\u001b[32mlag()\u001b[39m    masks \u001b[34mstats\u001b[39m::lag()\n",
            "\u001b[36mℹ\u001b[39m Use the conflicted package (\u001b[3m\u001b[34m<http://conflicted.r-lib.org/>\u001b[39m\u001b[23m) to force all conflicts to become errors\n",
            "\n",
            "Attaching package: ‘data.table’\n",
            "\n",
            "\n",
            "The following objects are masked from ‘package:lubridate’:\n",
            "\n",
            "    hour, isoweek, mday, minute, month, quarter, second, wday, week,\n",
            "    yday, year\n",
            "\n",
            "\n",
            "The following objects are masked from ‘package:dplyr’:\n",
            "\n",
            "    between, first, last\n",
            "\n",
            "\n",
            "The following object is masked from ‘package:purrr’:\n",
            "\n",
            "    transpose\n",
            "\n",
            "\n",
            "\n",
            "Attaching package: ‘xgboost’\n",
            "\n",
            "\n",
            "The following object is masked from ‘package:dplyr’:\n",
            "\n",
            "    slice\n",
            "\n",
            "\n",
            "\n",
            "Attaching package: ‘mlr3misc’\n",
            "\n",
            "\n",
            "The following object is masked from ‘package:forcats’:\n",
            "\n",
            "    as_factor\n",
            "\n",
            "\n",
            "The following object is masked from ‘package:stringr’:\n",
            "\n",
            "    str_trunc\n",
            "\n",
            "\n",
            "The following object is masked from ‘package:dplyr’:\n",
            "\n",
            "    cross_join\n",
            "\n",
            "\n",
            "The following objects are masked from ‘package:purrr’:\n",
            "\n",
            "    compose, detect, discard, every, has_element, imap, imap_chr,\n",
            "    imap_dbl, imap_int, imap_lgl, invoke, iwalk, keep, map, map_at,\n",
            "    map_chr, map_dbl, map_if, map_int, map_lgl, modify_at, modify_if,\n",
            "    pmap, pmap_chr, pmap_dbl, pmap_int, pmap_lgl, pwalk, set_names,\n",
            "    some, walk\n",
            "\n",
            "\n",
            "The following object is masked from ‘package:tidyr’:\n",
            "\n",
            "    unnest\n",
            "\n",
            "\n",
            "The following objects are masked from ‘package:tibble’:\n",
            "\n",
            "    deframe, enframe\n",
            "\n",
            "\n",
            "Loading required package: paradox\n",
            "\n",
            "\n",
            "Attaching package: ‘MLmetrics’\n",
            "\n",
            "\n",
            "The following object is masked from ‘package:base’:\n",
            "\n",
            "    Recall\n",
            "\n",
            "\n"
          ]
        }
      ],
      "source": [
        "# 1. Install and import R packages\n",
        "# Install packages\n",
        "list.of.packages <- c(\"datawizard\",\"mlr3\",\"mlr3learners\",\"mlr3tuning\",\"paradox\",\"xgboost\",\"ranger\",\"MLmetrics\",\"devtools\",\"tidyverse\")\n",
        "new.packages <- list.of.packages[!(list.of.packages %in% installed.packages()[,\"Package\"])]\n",
        "if(length(new.packages)) install.packages(new.packages, repos = \"http://cran.us.r-project.org\")\n",
        "\n",
        "# Load general packages\n",
        "library(devtools)\n",
        "library(tidyverse)\n",
        "library(checkmate)\n",
        "library(dplyr)    # alternative installation of the %>%\n",
        "library(tibble)   # for add_column()\n",
        "library(datawizard)\n",
        "library(data.table)\n",
        "# ML packages\n",
        "library(mlr3)\n",
        "library(mlr3learners)\n",
        "library(rpart)\n",
        "library(xgboost)\n",
        "library(ranger)\n",
        "# Packages for HP tuning\n",
        "library(mlr3misc)\n",
        "library(mlr3tuning)\n",
        "library(paradox)\n",
        "library(MLmetrics)\n",
        "\n",
        "# Suppress error messages from ML packages\n",
        "lgr::get_logger(\"bbotk\")$set_threshold(\"warn\")\n",
        "lgr::get_logger(\"mlr3\")$set_threshold(\"warn\")"
      ]
    },
    {
      "cell_type": "code",
      "source": [
        "# Additional package required to install XTDML (not always necessary, depends on the R version)\n",
        "list.of.packages <- c(\"mvtnorm\",\"clusterGeneration\",\"readstata13\")\n",
        "new.packages <- list.of.packages[!(list.of.packages %in% installed.packages()[,\"Package\"])]\n",
        "if(length(new.packages)) install.packages(new.packages, repos = \"http://cran.us.r-project.org\")\n",
        "\n",
        "library(mvtnorm)\n",
        "library(clusterGeneration)\n",
        "library(readstata13)"
      ],
      "metadata": {
        "colab": {
          "base_uri": "https://localhost:8080/"
        },
        "collapsed": true,
        "id": "vh5Djm7soO0X",
        "outputId": "cf91edbe-03df-458e-f205-6c4c76770f02"
      },
      "execution_count": 3,
      "outputs": [
        {
          "output_type": "stream",
          "name": "stderr",
          "text": [
            "Installing packages into ‘/usr/local/lib/R/site-library’\n",
            "(as ‘lib’ is unspecified)\n",
            "\n",
            "\n",
            "Attaching package: ‘mvtnorm’\n",
            "\n",
            "\n",
            "The following object is masked from ‘package:datawizard’:\n",
            "\n",
            "    standardize\n",
            "\n",
            "\n",
            "Loading required package: MASS\n",
            "\n",
            "\n",
            "Attaching package: ‘MASS’\n",
            "\n",
            "\n",
            "The following object is masked from ‘package:dplyr’:\n",
            "\n",
            "    select\n",
            "\n",
            "\n"
          ]
        }
      ]
    },
    {
      "cell_type": "code",
      "execution_count": 4,
      "metadata": {
        "colab": {
          "base_uri": "https://localhost:8080/"
        },
        "collapsed": true,
        "id": "fx4BnCF1_daQ",
        "outputId": "e44b0f7b-5dfb-4ae2-9f81-b1f6ddb353a5"
      },
      "outputs": [
        {
          "output_type": "stream",
          "name": "stderr",
          "text": [
            "\u001b[1m\u001b[22m\u001b[36mℹ\u001b[39m Loading \u001b[34mXTDML\u001b[39m\n"
          ]
        }
      ],
      "source": [
        "# Install package\n",
        "wd = \"/content/XTDML\"\n",
        "devtools::load_all(wd)"
      ]
    },
    {
      "cell_type": "markdown",
      "metadata": {
        "id": "EszKC2AmNuGb"
      },
      "source": [
        "### **The Data**\n",
        "\n",
        "We use simulate the data for DGP3 as follows.\n",
        "\\begin{align}\n",
        "  & y_{it}  = d_{it}\\cdot 0.5 + l_0(x_{it}) + \\alpha_i + u_{it}\\\\\n",
        "  & d_{it}  = z_{it}\\cdot 0.8 + r_0(x_{it}) + \\eta_i + w_{it}\\\\\n",
        "  & z_{it}  = m_0(x_{it}) + \\xi_i + v_{it}\\\\\n",
        "  & x_{it}∼N(1,5), u_{it}∼N(0,1), v_{it}∼N(0,1), w_{it}∼N(0,1) \\\\\n",
        "  & \\alpha_i∼N(0,0.4),  \\eta_i∼N(0,0.4),  \\xi_i∼N(0,0.4)\\\\\n",
        "\\end{align}\n",
        "\n",
        "\n",
        "In this dataset, the nuisance functions are generated as follows\n",
        "\n",
        "\\begin{align*}\n",
        "    l_0(x_{it}) & =  0.5^j \\sum_{j=1}^{5} (x_{it,j}\\cdot1[x_{it,j}>0]) + 0.5^j \\sum_{j=1}^{5} (x_{it,j+5}\\cdot x_{it,j+4})\\\\\n",
        "    r_0(x_{it}) & = 0.5^j \\sum_{j=1}^{5} (x_{it,j+10}\\cdot 1[x_{it,j+10}>0]) +  0.5^j \\sum_{j=1}^{5} (x_{it,j+15}\\cdot x_{it,j+14})\\\\\n",
        "    m_0(x_{it}) & =  0.5^j \\sum_{j=1}^{5} (x_{it,j+20}\\cdot 1[x_{it,j+20}>0]) +  0.5^j \\sum_{j=1}^{5} (x_{it,j+25}\\cdot x_{it,j+24})\n",
        "\\end{align*}\n",
        "\n",
        "The true structural effect is 0.5; the number of control variables is $p=30$, but only $s=10$ are used to model the nuisance parameters $(l_0, m_0, r_0)$, there is no overlap.\n",
        "\n",
        "The original dataset comprises N=5,000 cross-sections observed over $T=10$ periods each; in this example we use a smaller dataset with the first $1,000$ units.\n",
        "\n",
        "\n",
        "Note that the FD (exact) approach requires to use **transformed** data\n",
        "* $\\Delta y_{it}$ is the transformed output variable\n",
        "* $\\Delta d_{it}$ is the transformed treatment variable\n",
        "* $\\mathbf{x}_{it} = (x_{it,1}, \\dots, x_{it,p}, x_{it-1,1}, \\dots, x_{it-1,p})'$ are the set of $p=30$ control variables, but only $s=2$ are relevant; $x_{it-1,k}$ is the lag of variable $k$\n",
        "\n",
        "where $\\Delta y_{it} = y_{it}-y_{it-1}.$\n",
        "\n"
      ]
    },
    {
      "cell_type": "code",
      "execution_count": 5,
      "metadata": {
        "colab": {
          "base_uri": "https://localhost:8080/",
          "height": 358
        },
        "id": "5r8pU28vBjsp",
        "outputId": "d44152e2-7643-4f49-c7a9-dd688df22843",
        "collapsed": true
      },
      "outputs": [
        {
          "output_type": "display_data",
          "data": {
            "text/html": [
              "<style>\n",
              ".list-inline {list-style: none; margin:0; padding: 0}\n",
              ".list-inline>li {display: inline-block}\n",
              ".list-inline>li:not(:last-child)::after {content: \"\\00b7\"; padding: 0 .5ex}\n",
              "</style>\n",
              "<ol class=list-inline><li>'id'</li><li>'time'</li><li>'X1'</li><li>'X2'</li><li>'X3'</li><li>'X4'</li><li>'X5'</li><li>'X6'</li><li>'X7'</li><li>'X8'</li><li>'X9'</li><li>'X10'</li><li>'X11'</li><li>'X12'</li><li>'X13'</li><li>'X14'</li><li>'X15'</li><li>'X16'</li><li>'X17'</li><li>'X18'</li><li>'X19'</li><li>'X20'</li><li>'X21'</li><li>'X22'</li><li>'X23'</li><li>'X24'</li><li>'X25'</li><li>'X26'</li><li>'X27'</li><li>'X28'</li><li>'X29'</li><li>'X30'</li><li>'z'</li><li>'d'</li><li>'y'</li><li>'L.X1'</li><li>'L.X2'</li><li>'L.X3'</li><li>'L.X4'</li><li>'L.X5'</li><li>'L.X6'</li><li>'L.X7'</li><li>'L.X8'</li><li>'L.X9'</li><li>'L.X10'</li><li>'L.X11'</li><li>'L.X12'</li><li>'L.X13'</li><li>'L.X14'</li><li>'L.X15'</li><li>'L.X16'</li><li>'L.X17'</li><li>'L.X18'</li><li>'L.X19'</li><li>'L.X20'</li><li>'L.X21'</li><li>'L.X22'</li><li>'L.X23'</li><li>'L.X24'</li><li>'L.X25'</li><li>'L.X26'</li><li>'L.X27'</li><li>'L.X28'</li><li>'L.X29'</li><li>'L.X30'</li></ol>\n"
            ],
            "text/markdown": "1. 'id'\n2. 'time'\n3. 'X1'\n4. 'X2'\n5. 'X3'\n6. 'X4'\n7. 'X5'\n8. 'X6'\n9. 'X7'\n10. 'X8'\n11. 'X9'\n12. 'X10'\n13. 'X11'\n14. 'X12'\n15. 'X13'\n16. 'X14'\n17. 'X15'\n18. 'X16'\n19. 'X17'\n20. 'X18'\n21. 'X19'\n22. 'X20'\n23. 'X21'\n24. 'X22'\n25. 'X23'\n26. 'X24'\n27. 'X25'\n28. 'X26'\n29. 'X27'\n30. 'X28'\n31. 'X29'\n32. 'X30'\n33. 'z'\n34. 'd'\n35. 'y'\n36. 'L.X1'\n37. 'L.X2'\n38. 'L.X3'\n39. 'L.X4'\n40. 'L.X5'\n41. 'L.X6'\n42. 'L.X7'\n43. 'L.X8'\n44. 'L.X9'\n45. 'L.X10'\n46. 'L.X11'\n47. 'L.X12'\n48. 'L.X13'\n49. 'L.X14'\n50. 'L.X15'\n51. 'L.X16'\n52. 'L.X17'\n53. 'L.X18'\n54. 'L.X19'\n55. 'L.X20'\n56. 'L.X21'\n57. 'L.X22'\n58. 'L.X23'\n59. 'L.X24'\n60. 'L.X25'\n61. 'L.X26'\n62. 'L.X27'\n63. 'L.X28'\n64. 'L.X29'\n65. 'L.X30'\n\n\n",
            "text/latex": "\\begin{enumerate*}\n\\item 'id'\n\\item 'time'\n\\item 'X1'\n\\item 'X2'\n\\item 'X3'\n\\item 'X4'\n\\item 'X5'\n\\item 'X6'\n\\item 'X7'\n\\item 'X8'\n\\item 'X9'\n\\item 'X10'\n\\item 'X11'\n\\item 'X12'\n\\item 'X13'\n\\item 'X14'\n\\item 'X15'\n\\item 'X16'\n\\item 'X17'\n\\item 'X18'\n\\item 'X19'\n\\item 'X20'\n\\item 'X21'\n\\item 'X22'\n\\item 'X23'\n\\item 'X24'\n\\item 'X25'\n\\item 'X26'\n\\item 'X27'\n\\item 'X28'\n\\item 'X29'\n\\item 'X30'\n\\item 'z'\n\\item 'd'\n\\item 'y'\n\\item 'L.X1'\n\\item 'L.X2'\n\\item 'L.X3'\n\\item 'L.X4'\n\\item 'L.X5'\n\\item 'L.X6'\n\\item 'L.X7'\n\\item 'L.X8'\n\\item 'L.X9'\n\\item 'L.X10'\n\\item 'L.X11'\n\\item 'L.X12'\n\\item 'L.X13'\n\\item 'L.X14'\n\\item 'L.X15'\n\\item 'L.X16'\n\\item 'L.X17'\n\\item 'L.X18'\n\\item 'L.X19'\n\\item 'L.X20'\n\\item 'L.X21'\n\\item 'L.X22'\n\\item 'L.X23'\n\\item 'L.X24'\n\\item 'L.X25'\n\\item 'L.X26'\n\\item 'L.X27'\n\\item 'L.X28'\n\\item 'L.X29'\n\\item 'L.X30'\n\\end{enumerate*}\n",
            "text/plain": [
              " [1] \"id\"    \"time\"  \"X1\"    \"X2\"    \"X3\"    \"X4\"    \"X5\"    \"X6\"    \"X7\"   \n",
              "[10] \"X8\"    \"X9\"    \"X10\"   \"X11\"   \"X12\"   \"X13\"   \"X14\"   \"X15\"   \"X16\"  \n",
              "[19] \"X17\"   \"X18\"   \"X19\"   \"X20\"   \"X21\"   \"X22\"   \"X23\"   \"X24\"   \"X25\"  \n",
              "[28] \"X26\"   \"X27\"   \"X28\"   \"X29\"   \"X30\"   \"z\"     \"d\"     \"y\"     \"L.X1\" \n",
              "[37] \"L.X2\"  \"L.X3\"  \"L.X4\"  \"L.X5\"  \"L.X6\"  \"L.X7\"  \"L.X8\"  \"L.X9\"  \"L.X10\"\n",
              "[46] \"L.X11\" \"L.X12\" \"L.X13\" \"L.X14\" \"L.X15\" \"L.X16\" \"L.X17\" \"L.X18\" \"L.X19\"\n",
              "[55] \"L.X20\" \"L.X21\" \"L.X22\" \"L.X23\" \"L.X24\" \"L.X25\" \"L.X26\" \"L.X27\" \"L.X28\"\n",
              "[64] \"L.X29\" \"L.X30\""
            ]
          },
          "metadata": {}
        },
        {
          "output_type": "display_data",
          "data": {
            "text/html": [
              "<table class=\"dataframe\">\n",
              "<caption>A data.frame: 6 × 65</caption>\n",
              "<thead>\n",
              "\t<tr><th></th><th scope=col>id</th><th scope=col>time</th><th scope=col>X1</th><th scope=col>X2</th><th scope=col>X3</th><th scope=col>X4</th><th scope=col>X5</th><th scope=col>X6</th><th scope=col>X7</th><th scope=col>X8</th><th scope=col>⋯</th><th scope=col>L.X21</th><th scope=col>L.X22</th><th scope=col>L.X23</th><th scope=col>L.X24</th><th scope=col>L.X25</th><th scope=col>L.X26</th><th scope=col>L.X27</th><th scope=col>L.X28</th><th scope=col>L.X29</th><th scope=col>L.X30</th></tr>\n",
              "\t<tr><th></th><th scope=col>&lt;int&gt;</th><th scope=col>&lt;int&gt;</th><th scope=col>&lt;dbl&gt;</th><th scope=col>&lt;dbl&gt;</th><th scope=col>&lt;dbl&gt;</th><th scope=col>&lt;dbl&gt;</th><th scope=col>&lt;dbl&gt;</th><th scope=col>&lt;dbl&gt;</th><th scope=col>&lt;dbl&gt;</th><th scope=col>&lt;dbl&gt;</th><th scope=col>⋯</th><th scope=col>&lt;dbl&gt;</th><th scope=col>&lt;dbl&gt;</th><th scope=col>&lt;dbl&gt;</th><th scope=col>&lt;dbl&gt;</th><th scope=col>&lt;dbl&gt;</th><th scope=col>&lt;dbl&gt;</th><th scope=col>&lt;dbl&gt;</th><th scope=col>&lt;dbl&gt;</th><th scope=col>&lt;dbl&gt;</th><th scope=col>&lt;dbl&gt;</th></tr>\n",
              "</thead>\n",
              "<tbody>\n",
              "\t<tr><th scope=row>1</th><td>1</td><td>2</td><td> 7.4777367</td><td> -5.446002</td><td> 4.39199968</td><td>-3.2461127</td><td> 3.794314</td><td>-4.426094</td><td>16.8874061</td><td>-10.2341614</td><td>⋯</td><td> 1.6905339</td><td> 0.6430322</td><td> 4.396504</td><td> 4.2673437</td><td> 2.489757</td><td>-1.9612030</td><td>-0.128617</td><td> 3.0831910</td><td> 0.9333028</td><td>-5.310279</td></tr>\n",
              "\t<tr><th scope=row>2</th><td>1</td><td>3</td><td>-6.7781311</td><td>  3.315232</td><td> 3.75811919</td><td> 0.7260812</td><td>-8.262780</td><td>-1.700011</td><td>-1.9899528</td><td> -4.6079425</td><td>⋯</td><td> 0.8922307</td><td> 7.6914944</td><td> 2.139750</td><td>-5.5626100</td><td>14.355202</td><td>-6.1346808</td><td> 3.114928</td><td> 7.1137866</td><td> 8.9281011</td><td> 5.349266</td></tr>\n",
              "\t<tr><th scope=row>3</th><td>1</td><td>4</td><td>-0.3668897</td><td> -1.859044</td><td>-0.65549110</td><td> 2.1514831</td><td> 3.723106</td><td>-2.695310</td><td>-5.1409043</td><td> -0.4343938</td><td>⋯</td><td> 6.7881877</td><td> 9.8232725</td><td> 4.151105</td><td> 1.8051773</td><td>-1.609558</td><td>-2.2304554</td><td> 3.288991</td><td> 1.7898408</td><td> 2.0453694</td><td> 7.180541</td></tr>\n",
              "\t<tr><th scope=row>4</th><td>1</td><td>5</td><td> 9.0546562</td><td> -1.089742</td><td> 0.04849561</td><td> 5.6580670</td><td>-1.364368</td><td>13.046264</td><td>-3.2134139</td><td>  2.0300912</td><td>⋯</td><td>-3.5370691</td><td>-2.0022870</td><td>-2.498460</td><td>-0.2531446</td><td>-7.821912</td><td>-0.2242888</td><td> 5.375563</td><td>-0.1968998</td><td>-1.6277743</td><td>-2.938278</td></tr>\n",
              "\t<tr><th scope=row>5</th><td>1</td><td>6</td><td>-5.8348850</td><td>  7.151937</td><td>-3.45005203</td><td> 2.6761822</td><td> 1.932599</td><td>-6.833742</td><td>-2.2764379</td><td>  5.1125790</td><td>⋯</td><td> 1.4772189</td><td>-5.7426569</td><td>-1.964576</td><td> 7.9143860</td><td>11.071879</td><td>-2.7011820</td><td>-5.433439</td><td>10.9298117</td><td>-4.5348186</td><td>-2.796325</td></tr>\n",
              "\t<tr><th scope=row>6</th><td>1</td><td>7</td><td> 1.9302234</td><td>-10.552830</td><td>-9.71377632</td><td> 3.1437344</td><td> 2.304083</td><td> 5.816848</td><td>-0.4529628</td><td> -6.4481636</td><td>⋯</td><td> 5.7826088</td><td> 7.1433220</td><td> 2.134571</td><td> 5.1742646</td><td>-1.099541</td><td>-1.4696217</td><td>-2.349695</td><td>-5.0704696</td><td> 4.1020889</td><td>-2.526907</td></tr>\n",
              "</tbody>\n",
              "</table>\n"
            ],
            "text/markdown": "\nA data.frame: 6 × 65\n\n| <!--/--> | id &lt;int&gt; | time &lt;int&gt; | X1 &lt;dbl&gt; | X2 &lt;dbl&gt; | X3 &lt;dbl&gt; | X4 &lt;dbl&gt; | X5 &lt;dbl&gt; | X6 &lt;dbl&gt; | X7 &lt;dbl&gt; | X8 &lt;dbl&gt; | ⋯ ⋯ | L.X21 &lt;dbl&gt; | L.X22 &lt;dbl&gt; | L.X23 &lt;dbl&gt; | L.X24 &lt;dbl&gt; | L.X25 &lt;dbl&gt; | L.X26 &lt;dbl&gt; | L.X27 &lt;dbl&gt; | L.X28 &lt;dbl&gt; | L.X29 &lt;dbl&gt; | L.X30 &lt;dbl&gt; |\n|---|---|---|---|---|---|---|---|---|---|---|---|---|---|---|---|---|---|---|---|---|---|\n| 1 | 1 | 2 |  7.4777367 |  -5.446002 |  4.39199968 | -3.2461127 |  3.794314 | -4.426094 | 16.8874061 | -10.2341614 | ⋯ |  1.6905339 |  0.6430322 |  4.396504 |  4.2673437 |  2.489757 | -1.9612030 | -0.128617 |  3.0831910 |  0.9333028 | -5.310279 |\n| 2 | 1 | 3 | -6.7781311 |   3.315232 |  3.75811919 |  0.7260812 | -8.262780 | -1.700011 | -1.9899528 |  -4.6079425 | ⋯ |  0.8922307 |  7.6914944 |  2.139750 | -5.5626100 | 14.355202 | -6.1346808 |  3.114928 |  7.1137866 |  8.9281011 |  5.349266 |\n| 3 | 1 | 4 | -0.3668897 |  -1.859044 | -0.65549110 |  2.1514831 |  3.723106 | -2.695310 | -5.1409043 |  -0.4343938 | ⋯ |  6.7881877 |  9.8232725 |  4.151105 |  1.8051773 | -1.609558 | -2.2304554 |  3.288991 |  1.7898408 |  2.0453694 |  7.180541 |\n| 4 | 1 | 5 |  9.0546562 |  -1.089742 |  0.04849561 |  5.6580670 | -1.364368 | 13.046264 | -3.2134139 |   2.0300912 | ⋯ | -3.5370691 | -2.0022870 | -2.498460 | -0.2531446 | -7.821912 | -0.2242888 |  5.375563 | -0.1968998 | -1.6277743 | -2.938278 |\n| 5 | 1 | 6 | -5.8348850 |   7.151937 | -3.45005203 |  2.6761822 |  1.932599 | -6.833742 | -2.2764379 |   5.1125790 | ⋯ |  1.4772189 | -5.7426569 | -1.964576 |  7.9143860 | 11.071879 | -2.7011820 | -5.433439 | 10.9298117 | -4.5348186 | -2.796325 |\n| 6 | 1 | 7 |  1.9302234 | -10.552830 | -9.71377632 |  3.1437344 |  2.304083 |  5.816848 | -0.4529628 |  -6.4481636 | ⋯ |  5.7826088 |  7.1433220 |  2.134571 |  5.1742646 | -1.099541 | -1.4696217 | -2.349695 | -5.0704696 |  4.1020889 | -2.526907 |\n\n",
            "text/latex": "A data.frame: 6 × 65\n\\begin{tabular}{r|lllllllllllllllllllll}\n  & id & time & X1 & X2 & X3 & X4 & X5 & X6 & X7 & X8 & ⋯ & L.X21 & L.X22 & L.X23 & L.X24 & L.X25 & L.X26 & L.X27 & L.X28 & L.X29 & L.X30\\\\\n  & <int> & <int> & <dbl> & <dbl> & <dbl> & <dbl> & <dbl> & <dbl> & <dbl> & <dbl> & ⋯ & <dbl> & <dbl> & <dbl> & <dbl> & <dbl> & <dbl> & <dbl> & <dbl> & <dbl> & <dbl>\\\\\n\\hline\n\t1 & 1 & 2 &  7.4777367 &  -5.446002 &  4.39199968 & -3.2461127 &  3.794314 & -4.426094 & 16.8874061 & -10.2341614 & ⋯ &  1.6905339 &  0.6430322 &  4.396504 &  4.2673437 &  2.489757 & -1.9612030 & -0.128617 &  3.0831910 &  0.9333028 & -5.310279\\\\\n\t2 & 1 & 3 & -6.7781311 &   3.315232 &  3.75811919 &  0.7260812 & -8.262780 & -1.700011 & -1.9899528 &  -4.6079425 & ⋯ &  0.8922307 &  7.6914944 &  2.139750 & -5.5626100 & 14.355202 & -6.1346808 &  3.114928 &  7.1137866 &  8.9281011 &  5.349266\\\\\n\t3 & 1 & 4 & -0.3668897 &  -1.859044 & -0.65549110 &  2.1514831 &  3.723106 & -2.695310 & -5.1409043 &  -0.4343938 & ⋯ &  6.7881877 &  9.8232725 &  4.151105 &  1.8051773 & -1.609558 & -2.2304554 &  3.288991 &  1.7898408 &  2.0453694 &  7.180541\\\\\n\t4 & 1 & 5 &  9.0546562 &  -1.089742 &  0.04849561 &  5.6580670 & -1.364368 & 13.046264 & -3.2134139 &   2.0300912 & ⋯ & -3.5370691 & -2.0022870 & -2.498460 & -0.2531446 & -7.821912 & -0.2242888 &  5.375563 & -0.1968998 & -1.6277743 & -2.938278\\\\\n\t5 & 1 & 6 & -5.8348850 &   7.151937 & -3.45005203 &  2.6761822 &  1.932599 & -6.833742 & -2.2764379 &   5.1125790 & ⋯ &  1.4772189 & -5.7426569 & -1.964576 &  7.9143860 & 11.071879 & -2.7011820 & -5.433439 & 10.9298117 & -4.5348186 & -2.796325\\\\\n\t6 & 1 & 7 &  1.9302234 & -10.552830 & -9.71377632 &  3.1437344 &  2.304083 &  5.816848 & -0.4529628 &  -6.4481636 & ⋯ &  5.7826088 &  7.1433220 &  2.134571 &  5.1742646 & -1.099541 & -1.4696217 & -2.349695 & -5.0704696 &  4.1020889 & -2.526907\\\\\n\\end{tabular}\n",
            "text/plain": [
              "  id time X1         X2         X3          X4         X5        X6       \n",
              "1 1  2     7.4777367  -5.446002  4.39199968 -3.2461127  3.794314 -4.426094\n",
              "2 1  3    -6.7781311   3.315232  3.75811919  0.7260812 -8.262780 -1.700011\n",
              "3 1  4    -0.3668897  -1.859044 -0.65549110  2.1514831  3.723106 -2.695310\n",
              "4 1  5     9.0546562  -1.089742  0.04849561  5.6580670 -1.364368 13.046264\n",
              "5 1  6    -5.8348850   7.151937 -3.45005203  2.6761822  1.932599 -6.833742\n",
              "6 1  7     1.9302234 -10.552830 -9.71377632  3.1437344  2.304083  5.816848\n",
              "  X7         X8          ⋯ L.X21      L.X22      L.X23     L.X24      L.X25    \n",
              "1 16.8874061 -10.2341614 ⋯  1.6905339  0.6430322  4.396504  4.2673437  2.489757\n",
              "2 -1.9899528  -4.6079425 ⋯  0.8922307  7.6914944  2.139750 -5.5626100 14.355202\n",
              "3 -5.1409043  -0.4343938 ⋯  6.7881877  9.8232725  4.151105  1.8051773 -1.609558\n",
              "4 -3.2134139   2.0300912 ⋯ -3.5370691 -2.0022870 -2.498460 -0.2531446 -7.821912\n",
              "5 -2.2764379   5.1125790 ⋯  1.4772189 -5.7426569 -1.964576  7.9143860 11.071879\n",
              "6 -0.4529628  -6.4481636 ⋯  5.7826088  7.1433220  2.134571  5.1742646 -1.099541\n",
              "  L.X26      L.X27     L.X28      L.X29      L.X30    \n",
              "1 -1.9612030 -0.128617  3.0831910  0.9333028 -5.310279\n",
              "2 -6.1346808  3.114928  7.1137866  8.9281011  5.349266\n",
              "3 -2.2304554  3.288991  1.7898408  2.0453694  7.180541\n",
              "4 -0.2242888  5.375563 -0.1968998 -1.6277743 -2.938278\n",
              "5 -2.7011820 -5.433439 10.9298117 -4.5348186 -2.796325\n",
              "6 -1.4696217 -2.349695 -5.0704696  4.1020889 -2.526907"
            ]
          },
          "metadata": {}
        }
      ],
      "source": [
        "# 2. Load simulated data from GitHub\n",
        "df = read.csv(\"https://raw.githubusercontent.com/POLSEAN/XTDML/main/data/dgp3_fd_iv_short.csv\")\n",
        "names(df)\n",
        "head(df)"
      ]
    },
    {
      "cell_type": "markdown",
      "source": [
        "### **3. Transform variables**\n",
        "\n",
        "Transform the variables in the dataset in a suitable way for FD approach, if necessary. A sample code below\n",
        "\n",
        "```\n",
        "# keep variables to transform (no var means)\n",
        "\n",
        "# Create (a) lags of X and (b) Delta_y and Delta_d\n",
        "xvars = paste0(\"x\", 1:30)\n",
        "\n",
        "df.fd = df %>%\n",
        "  group_by(id) %>%\n",
        "  mutate(across(xvars, ~  lag(.x), .names = \"L.{col}\"))   %>%\n",
        "  mutate(across(starts_with(c(\"d\", \"y\")), ~ c(NA, diff(.x))))  %>%\n",
        "  ungroup()\n",
        "\n",
        "# Use complete.cases() to identify rows without missing values\n",
        "complete_rows <- complete.cases(df.fd)\n",
        "\n",
        "# Subset the data frame to keep only complete rows\n",
        "df.fd <- df.fd[complete_rows, ]\n",
        "df.fd = as.data.frame(df.fd)\n",
        "names(df.fd)\n",
        "\n",
        "```\n",
        "\n",
        "The loaded dataset does not require any transformation because $(Y,D,Z)$ are alreadu first-differenced, and the matrix $X$ contains $p$ control variables at time $t$ and $t-1$."
      ],
      "metadata": {
        "id": "LS4bRAKyljL3"
      }
    },
    {
      "cell_type": "markdown",
      "metadata": {
        "id": "pG8ZSXDVNzBZ"
      },
      "source": [
        "## **Estimation and inference with DML for FD**\n",
        "\n",
        "The section below consists in setting up the DML data and estimation environments, and proceed with the actual estimation."
      ]
    },
    {
      "cell_type": "markdown",
      "metadata": {
        "id": "rKDgwrxWfoyo"
      },
      "source": [
        "### **4. Set up DML data environment**\n",
        "Initalization of `dml_approx_data`  from `data.frame`. Arguments to pass:\n",
        "\n",
        "```\n",
        "dml_approx_data_from_data_frame(data,\n",
        "                  x_cols = NULL,\n",
        "                  y_col = NULL,\n",
        "                  d_cols = NULL,\n",
        "                  z_cols = NULL,\n",
        "                  cluster_cols = NULL\n",
        "                  )\n",
        "\n",
        "```       "
      ]
    },
    {
      "cell_type": "code",
      "execution_count": 9,
      "metadata": {
        "colab": {
          "base_uri": "https://localhost:8080/"
        },
        "id": "hzCmm5ufDMA2",
        "outputId": "0584aa6e-d66c-45a0-9d28-413b49efd7e6",
        "collapsed": true
      },
      "outputs": [
        {
          "output_type": "stream",
          "name": "stdout",
          "text": [
            "================= DML-FE Object ==================\n",
            "\n",
            "\n",
            "------------------ Data summary ------------------\n",
            "Outcome variable: y\n",
            "Treatment variable(s): d\n",
            "Cluster variable(s): id\n",
            "Covariates: X1, X2, X3, X4, X5, X6, X7, X8, X9, X10, X11, X12, X13, X14, X15, X16, X17, X18, X19, X20, X21, X22, X23, X24, X25, X26, X27, X28, X29, X30, L.X1, L.X2, L.X3, L.X4, L.X5, L.X6, L.X7, L.X8, L.X9, L.X10, L.X11, L.X12, L.X13, L.X14, L.X15, L.X16, L.X17, L.X18, L.X19, L.X20, L.X21, L.X22, L.X23, L.X24, L.X25, L.X26, L.X27, L.X28, L.X29, L.X30\n",
            "Instrument(s): z\n",
            "No. Observations: 10000\n"
          ]
        }
      ],
      "source": [
        "# 4. Set up DML data environment\n",
        "# Get the names of the variables\n",
        "x_cols  = paste0(\"X\", 1:30)\n",
        "Lx_cols = paste0(\"L.X\", 1:30)\n",
        "xvars = c(x_cols, Lx_cols)\n",
        "\n",
        "# set up data for DML procedure\n",
        "obj_dml_data = dml_approx_data_from_data_frame(df,\n",
        "                            x_cols = xvars,  y_col = \"y\", d_cols = \"d\", z_cols = \"z\",\n",
        "                            cluster_cols = \"id\")\n",
        "obj_dml_data$print()"
      ]
    },
    {
      "cell_type": "markdown",
      "metadata": {
        "id": "rFJ0mQy0ftPo"
      },
      "source": [
        "### **5. Set up DML estimation environment**\n",
        "\n",
        "Arguments to pass in `dml_approx_plr` function that Creates a new instance of this R6 class.\n",
        "\n",
        "```\n",
        " dml_approx_plr$new(data,\n",
        "      ml_l,\n",
        "      ml_m,\n",
        "      ml_g = NULL,\n",
        "      n_folds = 5,\n",
        "      n_rep = 1,\n",
        "      score = \"partialling out\",               # or \"IV-type\"\n",
        "      dml_procedure = \"dml2\",          # or \"dml1\"\n",
        "      draw_sample_splitting = TRUE,\n",
        "      apply_cross_fitting = TRUE\n",
        "      )\n",
        "\n",
        "```"
      ]
    },
    {
      "cell_type": "code",
      "source": [
        "install.packages(\"glmnet\")\n",
        "install.packages(\"rpart\")\n",
        "install.packages(\"xgboost\")\n",
        "library(glmnet)\n",
        "library(rpart)\n",
        "library(xgboost)"
      ],
      "metadata": {
        "colab": {
          "base_uri": "https://localhost:8080/"
        },
        "id": "vX_Pmd_n5r-j",
        "outputId": "7a6db5c9-1ef2-47cb-9e62-3fc36dde9f01"
      },
      "execution_count": 12,
      "outputs": [
        {
          "output_type": "stream",
          "name": "stderr",
          "text": [
            "Installing package into ‘/usr/local/lib/R/site-library’\n",
            "(as ‘lib’ is unspecified)\n",
            "\n",
            "also installing the dependencies ‘iterators’, ‘foreach’, ‘shape’\n",
            "\n",
            "\n",
            "Installing package into ‘/usr/local/lib/R/site-library’\n",
            "(as ‘lib’ is unspecified)\n",
            "\n",
            "Installing package into ‘/usr/local/lib/R/site-library’\n",
            "(as ‘lib’ is unspecified)\n",
            "\n",
            "Loading required package: Matrix\n",
            "\n",
            "\n",
            "Attaching package: ‘Matrix’\n",
            "\n",
            "\n",
            "The following objects are masked from ‘package:tidyr’:\n",
            "\n",
            "    expand, pack, unpack\n",
            "\n",
            "\n",
            "Loaded glmnet 4.1-8\n",
            "\n"
          ]
        }
      ]
    },
    {
      "cell_type": "code",
      "source": [
        "# 5. Set up DML estimation environment\n",
        "# Lasso w/t dictionary for fast computing\n",
        "set.seed(1408)\n",
        "learner = lrn(\"regr.cv_glmnet\", s=\"lambda.min\")\n",
        "ml_l = learner$clone()\n",
        "ml_m = learner$clone()\n",
        "ml_r = learner$clone()\n",
        "\n",
        "dml_lasso = dml_approx_pliv$new(obj_dml_data,\n",
        "               ml_l = ml_l, ml_m = ml_m, ml_r = ml_r,\n",
        "               partialX = TRUE, partialZ = FALSE,\n",
        "               n_folds = 3,\n",
        "               score = \"partialling out\")\n",
        "\n",
        "# Estimate target/causal parameter\n",
        "dml_lasso$fit()\n",
        "dml_lasso$print()"
      ],
      "metadata": {
        "colab": {
          "base_uri": "https://localhost:8080/"
        },
        "id": "hoQT_h__5TbO",
        "outputId": "9b21d53b-b1de-44ca-8254-fc569bc1b631"
      },
      "execution_count": 14,
      "outputs": [
        {
          "output_type": "stream",
          "name": "stderr",
          "text": [
            "No parameters provided for learners. Default values are used.\n",
            "\n",
            "No parameters provided for learners. Default values are used.\n",
            "\n",
            "No parameters provided for learners. Default values are used.\n",
            "\n"
          ]
        },
        {
          "output_type": "stream",
          "name": "stdout",
          "text": [
            "================= dml_approx_pliv Object ==================\n",
            "\n",
            "\n",
            "\n",
            "------------------ Data summary ------------------\n",
            "Outcome variable: y\n",
            "Treatment variable: d\n",
            "Covariates: X1, X2, X3, X4, X5, X6, X7, X8, X9, X10, X11, X12, X13, X14, X15, X16, X17, X18, X19, X20, X21, X22, X23, X24, X25, X26, X27, X28, X29, X30, L.X1, L.X2, L.X3, L.X4, L.X5, L.X6, L.X7, L.X8, L.X9, L.X10, L.X11, L.X12, L.X13, L.X14, L.X15, L.X16, L.X17, L.X18, L.X19, L.X20, L.X21, L.X22, L.X23, L.X24, L.X25, L.X26, L.X27, L.X28, L.X29, L.X30\n",
            "Instrument(s): z\n",
            "Cluster variables: id\n",
            "No. Observations: 10000\n",
            "No. Groups: 1112\n",
            "\n",
            "------------------ Score & algorithm ------------------\n",
            "Score function: partialling out\n",
            "DML algorithm: dml2\n",
            "DML approach: transformed variables \n",
            "\n",
            "------------------ Machine learner ------------------\n",
            "Learner of ml_l: regr.cv_glmnet\n",
            "Learner of ml_m: regr.cv_glmnet\n",
            "Learner of ml_r: regr.cv_glmnet\n",
            "RMSE of ml_l : 2.120\n",
            "RMSE of ml_m : 1.759\n",
            "RMSE of ml_r : 2.307\n",
            "Model RMSE: 5.357\n",
            "\n",
            "------------------ Resampling ------------------\n",
            "No. folds: 3\n",
            "No. folds per cluster: 3\n",
            "No. repeated sample splits: 1\n",
            "Apply cross-fitting: TRUE\n",
            "\n",
            "------------------ Fit summary ------------------\n",
            " Estimates and significance testing of the effect of target variables\n",
            "  Estimate. Std. Error t value Pr(>|t|)    \n",
            "d   0.51844    0.01486   34.89   <2e-16 ***\n",
            "---\n",
            "Signif. codes:  0 ‘***’ 0.001 ‘**’ 0.01 ‘*’ 0.05 ‘.’ 0.1 ‘ ’ 1\n",
            "\n",
            "\n"
          ]
        }
      ]
    },
    {
      "cell_type": "code",
      "execution_count": 18,
      "metadata": {
        "colab": {
          "base_uri": "https://localhost:8080/"
        },
        "id": "DAET9x-QB1ps",
        "outputId": "c93392ea-8bd9-4000-8db8-8a4a6edac8bb"
      },
      "outputs": [
        {
          "output_type": "stream",
          "name": "stderr",
          "text": [
            "TuningInstanceSingleCrit is deprecated. Use TuningInstanceBatchSingleCrit instead.\n",
            "\n",
            "TuningInstanceSingleCrit is deprecated. Use TuningInstanceBatchSingleCrit instead.\n",
            "\n",
            "TuningInstanceSingleCrit is deprecated. Use TuningInstanceBatchSingleCrit instead.\n",
            "\n"
          ]
        },
        {
          "output_type": "stream",
          "name": "stdout",
          "text": [
            "================= dml_approx_pliv Object ==================\n",
            "\n",
            "\n",
            "\n",
            "------------------ Data summary ------------------\n",
            "Outcome variable: y\n",
            "Treatment variable: d\n",
            "Covariates: X1, X2, X3, X4, X5, X6, X7, X8, X9, X10, X11, X12, X13, X14, X15, X16, X17, X18, X19, X20, X21, X22, X23, X24, X25, X26, X27, X28, X29, X30, L.X1, L.X2, L.X3, L.X4, L.X5, L.X6, L.X7, L.X8, L.X9, L.X10, L.X11, L.X12, L.X13, L.X14, L.X15, L.X16, L.X17, L.X18, L.X19, L.X20, L.X21, L.X22, L.X23, L.X24, L.X25, L.X26, L.X27, L.X28, L.X29, L.X30\n",
            "Instrument(s): z\n",
            "Cluster variables: id\n",
            "No. Observations: 10000\n",
            "No. Groups: 1112\n",
            "\n",
            "------------------ Score & algorithm ------------------\n",
            "Score function: partialling out\n",
            "DML algorithm: dml2\n",
            "DML approach: transformed variables \n",
            "\n",
            "------------------ Machine learner ------------------\n",
            "Learner of ml_l: regr.rpart\n",
            "Learner of ml_m: regr.rpart\n",
            "Learner of ml_r: regr.rpart\n",
            "RMSE of ml_l : 2.088\n",
            "RMSE of ml_m : 1.647\n",
            "RMSE of ml_r : 2.273\n",
            "Model RMSE: 5.472\n",
            "\n",
            "------------------ Resampling ------------------\n",
            "No. folds: 3\n",
            "No. folds per cluster: 3\n",
            "No. repeated sample splits: 1\n",
            "Apply cross-fitting: TRUE\n",
            "\n",
            "------------------ Fit summary ------------------\n",
            " Estimates and significance testing of the effect of target variables\n",
            "  Estimate. Std. Error t value Pr(>|t|)    \n",
            "d   0.51678    0.01527   33.84   <2e-16 ***\n",
            "---\n",
            "Signif. codes:  0 ‘***’ 0.001 ‘**’ 0.01 ‘*’ 0.05 ‘.’ 0.1 ‘ ’ 1\n",
            "\n",
            "\n",
            "$ml_l\n",
            "$ml_l$d\n",
            "$ml_l$d$xval\n",
            "[1] 0\n",
            "\n",
            "$ml_l$d$cp\n",
            "[1] 0.001\n",
            "\n",
            "$ml_l$d$maxdepth\n",
            "[1] 7\n",
            "\n",
            "\n",
            "\n",
            "$ml_m\n",
            "$ml_m$d\n",
            "$ml_m$d$xval\n",
            "[1] 0\n",
            "\n",
            "$ml_m$d$cp\n",
            "[1] 0.001\n",
            "\n",
            "$ml_m$d$maxdepth\n",
            "[1] 5\n",
            "\n",
            "\n",
            "\n",
            "$ml_r\n",
            "$ml_r$d\n",
            "$ml_r$d$xval\n",
            "[1] 0\n",
            "\n",
            "$ml_r$d$cp\n",
            "[1] 0.001\n",
            "\n",
            "$ml_r$d$maxdepth\n",
            "[1] 5\n",
            "\n",
            "\n",
            "\n"
          ]
        }
      ],
      "source": [
        "# 5. Set up DML estimation environment\n",
        "# Regression tree\n",
        "set.seed(1408)\n",
        "learner = lrn(\"regr.rpart\")\n",
        "ml_l = learner$clone()\n",
        "ml_m = learner$clone()\n",
        "ml_r = learner$clone()\n",
        "\n",
        "dml_rpart = dml_approx_pliv$new(obj_dml_data,\n",
        "               ml_l = ml_l, ml_m = ml_m, ml_r = ml_r,\n",
        "               partialX = TRUE, partialZ = FALSE,\n",
        "               n_folds = 3,\n",
        "               score = \"partialling out\")\n",
        "\n",
        "# set up a list of parameter grids\n",
        "param_grid = list(\"ml_l\" = ps(cp = p_dbl(lower = 0.001, upper = 0.02),\n",
        "                              maxdepth = p_int(lower = 2, upper = 10)),\n",
        "                  \"ml_m\" = ps(cp = p_dbl(lower = 0.001, upper = 0.02),\n",
        "                              maxdepth = p_int(lower = 2, upper = 10)),\n",
        "                  \"ml_r\" = ps(cp = p_dbl(lower = 0.001, upper = 0.02),\n",
        "                              maxdepth = p_int(lower = 2, upper = 10)))\n",
        "\n",
        "tune_settings = list(terminator = mlr3tuning::trm(\"evals\", n_evals = 5),\n",
        "                      algorithm = tnr(\"grid_search\"), resolution = 5)\n",
        "\n",
        "dml_rpart$tune(param_set = param_grid, tune_settings = tune_settings)\n",
        "\n",
        "# Estimate target/causal parameter\n",
        "dml_rpart$fit()\n",
        "dml_rpart$print()\n",
        "print(dml_rpart$params)"
      ]
    },
    {
      "cell_type": "code",
      "source": [
        "# 5. Set up DML estimation environment\n",
        "# Boosted trees; just 10 trees for fast computing\n",
        "set.seed(1408)\n",
        "learner = lrn(\"regr.xgboost\", nrounds = 10)\n",
        "ml_l = learner$clone()\n",
        "ml_m = learner$clone()\n",
        "ml_r = learner$clone()\n",
        "\n",
        "dml_xgboost = dml_approx_pliv$new(obj_dml_data,\n",
        "               ml_l = ml_l, ml_m = ml_m, ml_r = ml_r,\n",
        "               partialX = TRUE, partialZ = FALSE,\n",
        "               n_folds = 3,\n",
        "               score = \"partialling out\")\n",
        "\n",
        "# set up a list of parameter grids\n",
        "param_grid = list(\"ml_l\" = ps(max_depth = p_int(lower = 2, upper = 10),\n",
        "                              lambda = p_dbl(lower = 0, upper = 2)),\n",
        "                  \"ml_m\" = ps(max_depth = p_int(lower = 2, upper = 10),\n",
        "                              lambda = p_dbl(lower = 0, upper = 2)),\n",
        "                  \"ml_r\" = ps(max_depth = p_int(lower = 2, upper = 10),\n",
        "                              lambda = p_dbl(lower = 0, upper = 2)))\n",
        "\n",
        "tune_settings = list(terminator = mlr3tuning::trm(\"evals\", n_evals = 5),\n",
        "                      algorithm = tnr(\"grid_search\"), resolution= 5)\n",
        "\n",
        "\n",
        "# Estimate target/causal parameter\n",
        "dml_xgboost$fit()\n",
        "dml_xgboost$print()\n",
        "print(dml_xgboost$params)"
      ],
      "metadata": {
        "colab": {
          "base_uri": "https://localhost:8080/"
        },
        "id": "GQWNUIQm6T4i",
        "outputId": "5cf827ec-ab75-4ee3-8502-f9461d0379c5"
      },
      "execution_count": 23,
      "outputs": [
        {
          "output_type": "stream",
          "name": "stderr",
          "text": [
            "No parameters provided for learners. Default values are used.\n",
            "\n",
            "No parameters provided for learners. Default values are used.\n",
            "\n",
            "No parameters provided for learners. Default values are used.\n",
            "\n"
          ]
        },
        {
          "output_type": "stream",
          "name": "stdout",
          "text": [
            "================= dml_approx_pliv Object ==================\n",
            "\n",
            "\n",
            "\n",
            "------------------ Data summary ------------------\n",
            "Outcome variable: y\n",
            "Treatment variable: d\n",
            "Covariates: X1, X2, X3, X4, X5, X6, X7, X8, X9, X10, X11, X12, X13, X14, X15, X16, X17, X18, X19, X20, X21, X22, X23, X24, X25, X26, X27, X28, X29, X30, L.X1, L.X2, L.X3, L.X4, L.X5, L.X6, L.X7, L.X8, L.X9, L.X10, L.X11, L.X12, L.X13, L.X14, L.X15, L.X16, L.X17, L.X18, L.X19, L.X20, L.X21, L.X22, L.X23, L.X24, L.X25, L.X26, L.X27, L.X28, L.X29, L.X30\n",
            "Instrument(s): z\n",
            "Cluster variables: id\n",
            "No. Observations: 10000\n",
            "No. Groups: 1112\n",
            "\n",
            "------------------ Score & algorithm ------------------\n",
            "Score function: partialling out\n",
            "DML algorithm: dml2\n",
            "DML approach: transformed variables \n",
            "\n",
            "------------------ Machine learner ------------------\n",
            "Learner of ml_l: regr.xgboost\n",
            "Learner of ml_m: regr.xgboost\n",
            "Learner of ml_r: regr.xgboost\n",
            "RMSE of ml_l : 1.942\n",
            "RMSE of ml_m : 1.508\n",
            "RMSE of ml_r : 2.077\n",
            "Model RMSE: 4.917\n",
            "\n",
            "------------------ Resampling ------------------\n",
            "No. folds: 3\n",
            "No. folds per cluster: 3\n",
            "No. repeated sample splits: 1\n",
            "Apply cross-fitting: TRUE\n",
            "\n",
            "------------------ Fit summary ------------------\n",
            " Estimates and significance testing of the effect of target variables\n",
            "  Estimate. Std. Error t value Pr(>|t|)    \n",
            "d   0.53906    0.01556   34.65   <2e-16 ***\n",
            "---\n",
            "Signif. codes:  0 ‘***’ 0.001 ‘**’ 0.01 ‘*’ 0.05 ‘.’ 0.1 ‘ ’ 1\n",
            "\n",
            "\n",
            "$ml_l\n",
            "$ml_l$d\n",
            "NULL\n",
            "\n",
            "\n",
            "$ml_m\n",
            "$ml_m$d\n",
            "NULL\n",
            "\n",
            "\n",
            "$ml_r\n",
            "$ml_r$d\n",
            "NULL\n",
            "\n",
            "\n"
          ]
        }
      ]
    },
    {
      "cell_type": "code",
      "source": [
        "# Display table with results\n",
        "library(xtable)\n",
        "\n",
        "table = matrix(0, 3, 7)\n",
        "table[1,] = cbind(dml_lasso$coef_theta,dml_lasso$se_theta,dml_lasso$pval_theta,dml_lasso$model_rmse,\n",
        "                  as.numeric(dml_lasso$rmses[\"ml_l\"]),as.numeric(dml_lasso$rmses[\"ml_m\"]),as.numeric(dml_lasso$rmses[\"ml_r\"]))\n",
        "table[2,] = cbind(dml_rpart$coef_theta,dml_rpart$se_theta,dml_rpart$pval_theta,dml_rpart$model_rmse,\n",
        "                  as.numeric(dml_rpart$rmses[\"ml_l\"]),as.numeric(dml_rpart$rmses[\"ml_m\"]),as.numeric(dml_rpart$rmses[\"ml_r\"]))\n",
        "table[3,] = cbind(dml_xgboost$coef_theta,dml_xgboost$se_theta,dml_xgboost$pval_theta,dml_xgboost$model_rmse,\n",
        "                  as.numeric(dml_xgboost$rmses[\"ml_l\"]),as.numeric(dml_xgboost$rmses[\"ml_m\"]),as.numeric(dml_xgboost$rmses[\"ml_r\"]))\n",
        "\n",
        "colnames(table)= c(\"Estimate\", \"Std. Error\", \"P-value\", \"Model RMSE\", \"MSE of l\", \"MSE of m\", \"MSE of r\")\n",
        "rownames(table)= c(\"DML-Lasso\",\"DML-CART\",\"DML-XGBOOST\")\n",
        "tab = xtable(table)\n",
        "tab"
      ],
      "metadata": {
        "colab": {
          "base_uri": "https://localhost:8080/",
          "height": 192
        },
        "id": "Apxjc7znCxx8",
        "outputId": "5b13e460-b9c8-434c-b1c4-40644d5e6963"
      },
      "execution_count": 25,
      "outputs": [
        {
          "output_type": "display_data",
          "data": {
            "text/html": [
              "<table class=\"dataframe\">\n",
              "<caption>A xtable: 3 × 7</caption>\n",
              "<thead>\n",
              "\t<tr><th></th><th scope=col>Estimate</th><th scope=col>Std. Error</th><th scope=col>P-value</th><th scope=col>Model RMSE</th><th scope=col>MSE of l</th><th scope=col>MSE of m</th><th scope=col>MSE of r</th></tr>\n",
              "\t<tr><th></th><th scope=col>&lt;dbl&gt;</th><th scope=col>&lt;dbl&gt;</th><th scope=col>&lt;dbl&gt;</th><th scope=col>&lt;dbl&gt;</th><th scope=col>&lt;dbl&gt;</th><th scope=col>&lt;dbl&gt;</th><th scope=col>&lt;dbl&gt;</th></tr>\n",
              "</thead>\n",
              "<tbody>\n",
              "\t<tr><th scope=row>DML-Lasso</th><td>0.5184393</td><td>0.01485917</td><td>1.046908e-266</td><td>5.356925</td><td>2.120211</td><td>1.759345</td><td>2.306805</td></tr>\n",
              "\t<tr><th scope=row>DML-CART</th><td>0.5167774</td><td>0.01526903</td><td>4.328994e-251</td><td>5.472200</td><td>2.088471</td><td>1.647033</td><td>2.273001</td></tr>\n",
              "\t<tr><th scope=row>DML-XGBOOST</th><td>0.5390583</td><td>0.01555880</td><td>5.038701e-263</td><td>4.917116</td><td>1.941636</td><td>1.508097</td><td>2.076735</td></tr>\n",
              "</tbody>\n",
              "</table>\n"
            ],
            "text/markdown": "\nA xtable: 3 × 7\n\n| <!--/--> | Estimate &lt;dbl&gt; | Std. Error &lt;dbl&gt; | P-value &lt;dbl&gt; | Model RMSE &lt;dbl&gt; | MSE of l &lt;dbl&gt; | MSE of m &lt;dbl&gt; | MSE of r &lt;dbl&gt; |\n|---|---|---|---|---|---|---|---|\n| DML-Lasso | 0.5184393 | 0.01485917 | 1.046908e-266 | 5.356925 | 2.120211 | 1.759345 | 2.306805 |\n| DML-CART | 0.5167774 | 0.01526903 | 4.328994e-251 | 5.472200 | 2.088471 | 1.647033 | 2.273001 |\n| DML-XGBOOST | 0.5390583 | 0.01555880 | 5.038701e-263 | 4.917116 | 1.941636 | 1.508097 | 2.076735 |\n\n",
            "text/latex": "A xtable: 3 × 7\n\\begin{tabular}{r|lllllll}\n  & Estimate & Std. Error & P-value & Model RMSE & MSE of l & MSE of m & MSE of r\\\\\n  & <dbl> & <dbl> & <dbl> & <dbl> & <dbl> & <dbl> & <dbl>\\\\\n\\hline\n\tDML-Lasso & 0.5184393 & 0.01485917 & 1.046908e-266 & 5.356925 & 2.120211 & 1.759345 & 2.306805\\\\\n\tDML-CART & 0.5167774 & 0.01526903 & 4.328994e-251 & 5.472200 & 2.088471 & 1.647033 & 2.273001\\\\\n\tDML-XGBOOST & 0.5390583 & 0.01555880 & 5.038701e-263 & 4.917116 & 1.941636 & 1.508097 & 2.076735\\\\\n\\end{tabular}\n",
            "text/plain": [
              "            Estimate  Std. Error P-value       Model RMSE MSE of l MSE of m\n",
              "DML-Lasso   0.5184393 0.01485917 1.046908e-266 5.356925   2.120211 1.759345\n",
              "DML-CART    0.5167774 0.01526903 4.328994e-251 5.472200   2.088471 1.647033\n",
              "DML-XGBOOST 0.5390583 0.01555880 5.038701e-263 4.917116   1.941636 1.508097\n",
              "            MSE of r\n",
              "DML-Lasso   2.306805\n",
              "DML-CART    2.273001\n",
              "DML-XGBOOST 2.076735"
            ]
          },
          "metadata": {}
        }
      ]
    }
  ],
  "metadata": {
    "colab": {
      "provenance": [],
      "authorship_tag": "ABX9TyNODkluGPQfHPuxVX3i/lrp",
      "include_colab_link": true
    },
    "kernelspec": {
      "display_name": "R",
      "name": "ir"
    },
    "language_info": {
      "name": "R"
    }
  },
  "nbformat": 4,
  "nbformat_minor": 0
}