{
  "cells": [
    {
      "cell_type": "markdown",
      "metadata": {
        "id": "view-in-github",
        "colab_type": "text"
      },
      "source": [
        "<a href=\"https://colab.research.google.com/github/POLSEAN/XTDML/blob/main/examples/01_xtdml_for_cre.ipynb\" target=\"_parent\"><img src=\"https://colab.research.google.com/assets/colab-badge.svg\" alt=\"Open In Colab\"/></a>"
      ]
    },
    {
      "cell_type": "markdown",
      "metadata": {
        "id": "0gwXsN9yOS0H"
      },
      "source": [
        "# **DML for panel data: CRE approach**\n",
        "\n",
        "---\n",
        "\n",
        "*Description*\n",
        "\n",
        "Estimation of the structural parameter using double machine learning (DML) with partially linear regression (PLR) models in the context of panel data with fixed effects as in Clarke and Poselli(2023).\n",
        "\n",
        "The package `XTDML` allows the estimation of the nuisance functions by machine learning methods and  the computation of the Neyman orthogonal score functions. `XTDML` is built on the CRAN package `DoubleML` (Bach et al., 2024), which uses the `mlr3` ecosystem and the `R6` package.\n"
      ]
    },
    {
      "cell_type": "markdown",
      "source": [
        "*References*\n",
        "\n",
        "[1] Bach, P., Chernozhukov, V., Kurz, M. S., Spindler, M. and Klaassen, S. (2024), DoubleML - An Object-Oriented Implementation of Double Machine Learning in R, *Journal of Statistical Software*, 108(3):1-56.\n",
        "\n",
        "[2] Chernozhukov, V., Chetverikov, D., Demirer, M., Duflo, E., Hansen, C., Newey, W., and Robins, J. (2018). Double/debiased machine learning for treatment and structural parameters. *The Econometrics Journal*, 21(1):C1-C68.\n",
        "\n",
        "[3] Clarke, P. and Polselli, A. (2023). Double machine learning for static panel models with fixed effects. *arXiv preprint*, arXiv:2312.08174.\n",
        "\n",
        "[4] Mundlak, Y. (1978). On the pooling of time series and cross section data. *Econometrica*, pages 69-85."
      ],
      "metadata": {
        "id": "5F0oWe4ezAaA"
      }
    },
    {
      "cell_type": "code",
      "source": [
        "\n",
        "\n",
        "*Overview*\n",
        "\n",
        "1. Installation of XTDML and other R packages\n",
        "2. Loading the data\n",
        "3. Data management: inclusion of individual means\n",
        "4. Set up of DML data environment\n",
        "5. Set up of DML estimation environment\n",
        "6. Extraction of DML estimates"
      ],
      "metadata": {
        "id": "cO131rIiyQXk"
      },
      "execution_count": null,
      "outputs": []
    },
    {
      "cell_type": "markdown",
      "source": [
        "### **The Installation of `XTDML` package**\n",
        "The `XTDML` package can be installed following either options below:\n",
        "\n",
        "1. **Installation directly from GitHub:**\n",
        "  ```\n",
        "    #install.packages(\"devtools\")\n",
        "    library(devtools)\n",
        "\n",
        "    install_github(\"POLSEAN/XTDML\")\n",
        "    library(XTDML)\n",
        "  ```\n",
        "  *Note this code works **ONLY with RStudio (desktop)**, but not with online platforms such as Google Colab or Kaggle.*\n",
        "\n",
        "\n",
        "2. **Download all folders in `XTDML`** from `https://github.com/POLSEAN/XTDML` pressing `<> CODE > Download ZIP`. Rename the downloaded .zip folder as `XTDML`, and upload it on Google Colab. Get the path and run the code `!unzip XTDML.zip` in Python, then change the RUNTIME to R and run\n",
        "   ```\n",
        "    #install.packages(\"devtools\")\n",
        "    library(devtools)\n",
        "\n",
        "    wd = \"~ your-directory/XTDML\"\n",
        "    devtools::load_all(wd)\n",
        "   ```\n",
        "\n",
        "For illustration purposes on Google Colab, we follow the second approach, but the first is recommended with RStudio (desktop)."
      ],
      "metadata": {
        "id": "Xbj3Gl55JFRd"
      }
    },
    {
      "cell_type": "markdown",
      "source": [
        "**Set RUNTIME > CHANGE RUNTIME TYPE > Python 3**\n",
        "\n",
        "The code below unzips the XTDML.zip folder that you have previously uploaded."
      ],
      "metadata": {
        "id": "kST4lHl0Kx8q"
      }
    },
    {
      "cell_type": "code",
      "source": [
        "!unzip XTDML.zip"
      ],
      "metadata": {
        "id": "IrwHCoBmKhUx",
        "colab": {
          "base_uri": "https://localhost:8080/"
        },
        "outputId": "4fc78628-dbcb-477a-b608-6f044cf4d454"
      },
      "execution_count": null,
      "outputs": [
        {
          "output_type": "stream",
          "name": "stdout",
          "text": [
            "Archive:  XTDML.zip\n",
            " extracting: XTDML/.gitignore        \n",
            "  inflating: XTDML/.Rbuildignore     \n",
            "  inflating: XTDML/.RData            \n",
            "  inflating: XTDML/.Rhistory         \n",
            "   creating: XTDML/.Rproj.user/\n",
            "   creating: XTDML/.Rproj.user/22C44D20/\n",
            "   creating: XTDML/.Rproj.user/22C44D20/bibliography-index/\n",
            " extracting: XTDML/.Rproj.user/22C44D20/cpp-definition-cache  \n",
            "   creating: XTDML/.Rproj.user/22C44D20/ctx/\n",
            "   creating: XTDML/.Rproj.user/22C44D20/explorer-cache/\n",
            "   creating: XTDML/.Rproj.user/22C44D20/pcs/\n",
            "  inflating: XTDML/.Rproj.user/22C44D20/pcs/files-pane.pper  \n",
            " extracting: XTDML/.Rproj.user/22C44D20/pcs/source-pane.pper  \n",
            "  inflating: XTDML/.Rproj.user/22C44D20/pcs/windowlayoutstate.pper  \n",
            "  inflating: XTDML/.Rproj.user/22C44D20/pcs/workbench-pane.pper  \n",
            "   creating: XTDML/.Rproj.user/22C44D20/presentation/\n",
            "   creating: XTDML/.Rproj.user/22C44D20/profiles-cache/\n",
            " extracting: XTDML/.Rproj.user/22C44D20/rmd-outputs  \n",
            " extracting: XTDML/.Rproj.user/22C44D20/saved_source_markers  \n",
            "   creating: XTDML/.Rproj.user/22C44D20/sources/\n",
            "   creating: XTDML/.Rproj.user/22C44D20/sources/per/\n",
            "   creating: XTDML/.Rproj.user/22C44D20/sources/per/t/\n",
            "   creating: XTDML/.Rproj.user/22C44D20/sources/per/u/\n",
            "   creating: XTDML/.Rproj.user/22C44D20/tutorial/\n",
            "   creating: XTDML/.Rproj.user/22C44D20/viewer-cache/\n",
            "   creating: XTDML/.Rproj.user/EEF9BA3E/\n",
            "   creating: XTDML/.Rproj.user/EEF9BA3E/ctx/\n",
            "   creating: XTDML/.Rproj.user/EEF9BA3E/presentation/\n",
            "   creating: XTDML/.Rproj.user/EEF9BA3E/profiles-cache/\n",
            "   creating: XTDML/.Rproj.user/EEF9BA3E/sources/\n",
            "   creating: XTDML/.Rproj.user/EEF9BA3E/sources/session-029DDA3D/\n",
            " extracting: XTDML/.Rproj.user/EEF9BA3E/sources/session-029DDA3D/lock_file  \n",
            "   creating: XTDML/.Rproj.user/EEF9BA3E/tutorial/\n",
            "   creating: XTDML/.Rproj.user/shared/\n",
            "   creating: XTDML/.Rproj.user/shared/notebooks/\n",
            " extracting: XTDML/.Rproj.user/shared/notebooks/patch-chunk-names  \n",
            "  inflating: XTDML/DESCRIPTION       \n",
            "   creating: XTDML/man/\n",
            "  inflating: XTDML/man/dml_approx.Rd  \n",
            "  inflating: XTDML/man/dml_approx_data.Rd  \n",
            "  inflating: XTDML/man/dml_approx_data_from_data_frame.Rd  \n",
            "  inflating: XTDML/man/dml_approx_plr.Rd  \n",
            "  inflating: XTDML/man/dml_cre.Rd    \n",
            "  inflating: XTDML/man/dml_cre_data.Rd  \n",
            "  inflating: XTDML/man/dml_cre_data_from_data_frame.Rd  \n",
            "  inflating: XTDML/man/dml_cre_plr.Rd  \n",
            "  inflating: XTDML/man/dml_hybrid.Rd  \n",
            "  inflating: XTDML/man/dml_hybrid_data.Rd  \n",
            "  inflating: XTDML/man/dml_hybrid_data_from_data_frame.Rd  \n",
            "  inflating: XTDML/man/dml_hybrid_plr.Rd  \n",
            "  inflating: XTDML/NAMESPACE         \n",
            "   creating: XTDML/R/\n",
            "  inflating: XTDML/R/dml_approx_data.R  \n",
            "  inflating: XTDML/R/dml_cre_data.R  \n",
            "  inflating: XTDML/R/dml_hybrid_data.R  \n",
            "  inflating: XTDML/R/double_cre_ml.R  \n",
            "  inflating: XTDML/R/double_hybrid_ml.R  \n",
            "  inflating: XTDML/R/double_ml_approx.R  \n",
            "  inflating: XTDML/R/double_ml_approx_plr.R  \n",
            "  inflating: XTDML/R/double_ml_cre_plr.R  \n",
            "  inflating: XTDML/R/double_ml_hybrid_plr.R  \n",
            "  inflating: XTDML/R/helper.R        \n",
            "  inflating: XTDML/R/zzz.R           \n",
            "  inflating: XTDML/XTDML.Rproj       \n"
          ]
        }
      ]
    },
    {
      "cell_type": "markdown",
      "source": [
        "**From now set RUNTIME > CHANGE RUNTIME TYPE > R**"
      ],
      "metadata": {
        "id": "nozEX15TKi5l"
      }
    },
    {
      "cell_type": "code",
      "execution_count": null,
      "metadata": {
        "colab": {
          "base_uri": "https://localhost:8080/"
        },
        "id": "XWH1eE7VCOP9",
        "outputId": "dc9c4dfe-cc2c-45d3-e7dc-db857a0a9f1c",
        "collapsed": true
      },
      "outputs": [
        {
          "output_type": "stream",
          "name": "stderr",
          "text": [
            "Installing packages into ‘/usr/local/lib/R/site-library’\n",
            "(as ‘lib’ is unspecified)\n",
            "\n",
            "also installing the dependencies ‘bitops’, ‘gtools’, ‘caTools’, ‘globals’, ‘listenv’, ‘PRROC’, ‘iterators’, ‘gplots’, ‘insight’, ‘checkmate’, ‘future’, ‘future.apply’, ‘lgr’, ‘mlbench’, ‘mlr3measures’, ‘mlr3misc’, ‘parallelly’, ‘palmerpenguins’, ‘bbotk’, ‘RcppEigen’, ‘foreach’, ‘shape’, ‘ROCR’\n",
            "\n",
            "\n",
            "Loading required package: usethis\n",
            "\n",
            "\n",
            "Attaching package: ‘dplyr’\n",
            "\n",
            "\n",
            "The following object is masked from ‘package:MASS’:\n",
            "\n",
            "    select\n",
            "\n",
            "\n",
            "The following objects are masked from ‘package:stats’:\n",
            "\n",
            "    filter, lag\n",
            "\n",
            "\n",
            "The following objects are masked from ‘package:base’:\n",
            "\n",
            "    intersect, setdiff, setequal, union\n",
            "\n",
            "\n",
            "\n",
            "Attaching package: ‘datawizard’\n",
            "\n",
            "\n",
            "The following object is masked from ‘package:mvtnorm’:\n",
            "\n",
            "    standardize\n",
            "\n",
            "\n",
            "\n",
            "Attaching package: ‘data.table’\n",
            "\n",
            "\n",
            "The following objects are masked from ‘package:dplyr’:\n",
            "\n",
            "    between, first, last\n",
            "\n",
            "\n",
            "\n",
            "Attaching package: ‘xgboost’\n",
            "\n",
            "\n",
            "The following object is masked from ‘package:dplyr’:\n",
            "\n",
            "    slice\n",
            "\n",
            "\n",
            "Loading required package: Matrix\n",
            "\n",
            "Loaded glmnet 4.1-8\n",
            "\n",
            "\n",
            "Attaching package: ‘mlr3misc’\n",
            "\n",
            "\n",
            "The following objects are masked from ‘package:tibble’:\n",
            "\n",
            "    deframe, enframe\n",
            "\n",
            "\n",
            "The following object is masked from ‘package:dplyr’:\n",
            "\n",
            "    cross_join\n",
            "\n",
            "\n",
            "Loading required package: paradox\n",
            "\n",
            "\n",
            "Attaching package: ‘MLmetrics’\n",
            "\n",
            "\n",
            "The following object is masked from ‘package:base’:\n",
            "\n",
            "    Recall\n",
            "\n",
            "\n"
          ]
        }
      ],
      "source": [
        "# 1. Install and import R packages\n",
        "# Install packages\n",
        "list.of.packages <- c(\"datawizard\",\"mlr3\",\"mlr3learners\",\"mlr3tuning\",\"paradox\",\"xgboost\",\"ranger\",\"glmnet\",\"MLmetrics\",\"devtools\")\n",
        "new.packages <- list.of.packages[!(list.of.packages %in% installed.packages()[,\"Package\"])]\n",
        "if(length(new.packages)) install.packages(new.packages, repos = \"http://cran.us.r-project.org\")\n",
        "\n",
        "# Load general packages\n",
        "library(devtools)\n",
        "library(checkmate)\n",
        "library(dplyr)\n",
        "library(tibble)  ##for add_column()\n",
        "library(datawizard)\n",
        "library(data.table)\n",
        "\n",
        "# ML packages\n",
        "library(mlr3)\n",
        "library(mlr3learners)\n",
        "library(rpart)\n",
        "library(xgboost)\n",
        "library(ranger)\n",
        "library(glmnet)\n",
        "\n",
        "# Packages for HP tuning\n",
        "library(mlr3misc)\n",
        "library(mlr3tuning)\n",
        "library(paradox)\n",
        "library(MLmetrics)\n",
        "\n",
        "# Suppress error messages from ML packages\n",
        "lgr::get_logger(\"bbotk\")$set_threshold(\"warn\")\n",
        "lgr::get_logger(\"mlr3\")$set_threshold(\"warn\")"
      ]
    },
    {
      "cell_type": "code",
      "source": [
        "# Additional package required to install XTDML (not always necessary, depends on the R version)\n",
        "list.of.packages <- c(\"mvtnorm\",\"clusterGeneration\",\"readstata13\")\n",
        "new.packages <- list.of.packages[!(list.of.packages %in% installed.packages()[,\"Package\"])]\n",
        "if(length(new.packages)) install.packages(new.packages, repos = \"http://cran.us.r-project.org\")\n",
        "\n",
        "library(mvtnorm)\n",
        "library(clusterGeneration)\n",
        "library(readstata13)"
      ],
      "metadata": {
        "colab": {
          "base_uri": "https://localhost:8080/"
        },
        "collapsed": true,
        "id": "vh5Djm7soO0X",
        "outputId": "bde60a66-354d-46c5-91f0-4bd86bf75f54"
      },
      "execution_count": null,
      "outputs": [
        {
          "output_type": "stream",
          "name": "stderr",
          "text": [
            "Installing packages into ‘/usr/local/lib/R/site-library’\n",
            "(as ‘lib’ is unspecified)\n",
            "\n",
            "Loading required package: MASS\n",
            "\n"
          ]
        }
      ]
    },
    {
      "cell_type": "code",
      "execution_count": null,
      "metadata": {
        "colab": {
          "base_uri": "https://localhost:8080/"
        },
        "collapsed": true,
        "id": "fx4BnCF1_daQ",
        "outputId": "98889c2d-6916-43b9-e4db-d400a8de8fc4"
      },
      "outputs": [
        {
          "output_type": "stream",
          "name": "stderr",
          "text": [
            "\u001b[1m\u001b[22m\u001b[36mℹ\u001b[39m Loading \u001b[34mXTDML\u001b[39m\n"
          ]
        }
      ],
      "source": [
        "# Install package\n",
        "wd = \"/content/XTDML\"\n",
        "devtools::load_all(wd)"
      ]
    },
    {
      "cell_type": "markdown",
      "metadata": {
        "id": "EszKC2AmNuGb"
      },
      "source": [
        "### **The Data**\n",
        "\n",
        "We use simulated data for DGP3 as in Clarke and Polselli (2023). We use a subsample (N=250) of the original dataset (with N=1,000,000), where each unit is observed over $T=10$ periods.\n",
        "\n",
        "In this dataset, the nuisance functions are generated as follows\n",
        "\n",
        "\\begin{align*}\n",
        "    m(x_{it}) & = a \\, (x_{it,1}\\cdot 1[x_{it,1}>0]) + b \\, (x_{it,1}\\cdot x_{it,3})\\\\\n",
        "    l(x_{it}) & = b \\, (x_{it,1}\\cdot x_{it,3}) + a \\, (x_{it,3}\\cdot 1[x_{it,3}>0])\n",
        "\\end{align*}\n",
        "\n",
        "where $a=0.25$ and $b=0.5$.\n",
        "\n",
        "* $y_{it}$ is the continuous treatment.\n",
        "* $d_{it}$ is the continuous treatment variable.\n",
        "* $\\mathbf{x}_{it} = (x_{it,1}, \\dots, x_{it,p}, \\overline{x}_{i,1}, \\dots, \\overline{x}_{i,p})'$ are the set of $p=30$ control variables, but only $s=2$ are relevant; $\\overline{x}_{i,k} = T^{-1}\\sum_{t=1}^Tx_{it,k}$ is the individual mean of variable $p$.\n",
        "* $\\overline{d}_{i}$ is the mean of the treatment variable.\n",
        "\n"
      ]
    },
    {
      "cell_type": "code",
      "execution_count": null,
      "metadata": {
        "colab": {
          "base_uri": "https://localhost:8080/",
          "height": 52
        },
        "id": "5r8pU28vBjsp",
        "outputId": "ea913259-3c01-4a6d-9484-f85467d4a199",
        "collapsed": true
      },
      "outputs": [
        {
          "output_type": "display_data",
          "data": {
            "text/html": [
              "<style>\n",
              ".list-inline {list-style: none; margin:0; padding: 0}\n",
              ".list-inline>li {display: inline-block}\n",
              ".list-inline>li:not(:last-child)::after {content: \"\\00b7\"; padding: 0 .5ex}\n",
              "</style>\n",
              "<ol class=list-inline><li>'id'</li><li>'time'</li><li>'x1'</li><li>'x2'</li><li>'x3'</li><li>'x4'</li><li>'x5'</li><li>'x6'</li><li>'x7'</li><li>'x8'</li><li>'x9'</li><li>'x10'</li><li>'x11'</li><li>'x12'</li><li>'x13'</li><li>'x14'</li><li>'x15'</li><li>'x16'</li><li>'x17'</li><li>'x18'</li><li>'x19'</li><li>'x20'</li><li>'x21'</li><li>'x22'</li><li>'x23'</li><li>'x24'</li><li>'x25'</li><li>'x26'</li><li>'x27'</li><li>'x28'</li><li>'x29'</li><li>'x30'</li><li>'d'</li><li>'m_x1'</li><li>'m_x2'</li><li>'m_x3'</li><li>'m_x4'</li><li>'m_x5'</li><li>'m_x6'</li><li>'m_x7'</li><li>'m_x8'</li><li>'m_x9'</li><li>'m_x10'</li><li>'m_x11'</li><li>'m_x12'</li><li>'m_x13'</li><li>'m_x14'</li><li>'m_x15'</li><li>'m_x16'</li><li>'m_x17'</li><li>'m_x18'</li><li>'m_x19'</li><li>'m_x20'</li><li>'m_x21'</li><li>'m_x22'</li><li>'m_x23'</li><li>'m_x24'</li><li>'m_x25'</li><li>'m_x26'</li><li>'m_x27'</li><li>'m_x28'</li><li>'m_x29'</li><li>'m_x30'</li><li>'m_d'</li><li>'y'</li></ol>\n"
            ],
            "text/markdown": "1. 'id'\n2. 'time'\n3. 'x1'\n4. 'x2'\n5. 'x3'\n6. 'x4'\n7. 'x5'\n8. 'x6'\n9. 'x7'\n10. 'x8'\n11. 'x9'\n12. 'x10'\n13. 'x11'\n14. 'x12'\n15. 'x13'\n16. 'x14'\n17. 'x15'\n18. 'x16'\n19. 'x17'\n20. 'x18'\n21. 'x19'\n22. 'x20'\n23. 'x21'\n24. 'x22'\n25. 'x23'\n26. 'x24'\n27. 'x25'\n28. 'x26'\n29. 'x27'\n30. 'x28'\n31. 'x29'\n32. 'x30'\n33. 'd'\n34. 'm_x1'\n35. 'm_x2'\n36. 'm_x3'\n37. 'm_x4'\n38. 'm_x5'\n39. 'm_x6'\n40. 'm_x7'\n41. 'm_x8'\n42. 'm_x9'\n43. 'm_x10'\n44. 'm_x11'\n45. 'm_x12'\n46. 'm_x13'\n47. 'm_x14'\n48. 'm_x15'\n49. 'm_x16'\n50. 'm_x17'\n51. 'm_x18'\n52. 'm_x19'\n53. 'm_x20'\n54. 'm_x21'\n55. 'm_x22'\n56. 'm_x23'\n57. 'm_x24'\n58. 'm_x25'\n59. 'm_x26'\n60. 'm_x27'\n61. 'm_x28'\n62. 'm_x29'\n63. 'm_x30'\n64. 'm_d'\n65. 'y'\n\n\n",
            "text/latex": "\\begin{enumerate*}\n\\item 'id'\n\\item 'time'\n\\item 'x1'\n\\item 'x2'\n\\item 'x3'\n\\item 'x4'\n\\item 'x5'\n\\item 'x6'\n\\item 'x7'\n\\item 'x8'\n\\item 'x9'\n\\item 'x10'\n\\item 'x11'\n\\item 'x12'\n\\item 'x13'\n\\item 'x14'\n\\item 'x15'\n\\item 'x16'\n\\item 'x17'\n\\item 'x18'\n\\item 'x19'\n\\item 'x20'\n\\item 'x21'\n\\item 'x22'\n\\item 'x23'\n\\item 'x24'\n\\item 'x25'\n\\item 'x26'\n\\item 'x27'\n\\item 'x28'\n\\item 'x29'\n\\item 'x30'\n\\item 'd'\n\\item 'm\\_x1'\n\\item 'm\\_x2'\n\\item 'm\\_x3'\n\\item 'm\\_x4'\n\\item 'm\\_x5'\n\\item 'm\\_x6'\n\\item 'm\\_x7'\n\\item 'm\\_x8'\n\\item 'm\\_x9'\n\\item 'm\\_x10'\n\\item 'm\\_x11'\n\\item 'm\\_x12'\n\\item 'm\\_x13'\n\\item 'm\\_x14'\n\\item 'm\\_x15'\n\\item 'm\\_x16'\n\\item 'm\\_x17'\n\\item 'm\\_x18'\n\\item 'm\\_x19'\n\\item 'm\\_x20'\n\\item 'm\\_x21'\n\\item 'm\\_x22'\n\\item 'm\\_x23'\n\\item 'm\\_x24'\n\\item 'm\\_x25'\n\\item 'm\\_x26'\n\\item 'm\\_x27'\n\\item 'm\\_x28'\n\\item 'm\\_x29'\n\\item 'm\\_x30'\n\\item 'm\\_d'\n\\item 'y'\n\\end{enumerate*}\n",
            "text/plain": [
              " [1] \"id\"    \"time\"  \"x1\"    \"x2\"    \"x3\"    \"x4\"    \"x5\"    \"x6\"    \"x7\"   \n",
              "[10] \"x8\"    \"x9\"    \"x10\"   \"x11\"   \"x12\"   \"x13\"   \"x14\"   \"x15\"   \"x16\"  \n",
              "[19] \"x17\"   \"x18\"   \"x19\"   \"x20\"   \"x21\"   \"x22\"   \"x23\"   \"x24\"   \"x25\"  \n",
              "[28] \"x26\"   \"x27\"   \"x28\"   \"x29\"   \"x30\"   \"d\"     \"m_x1\"  \"m_x2\"  \"m_x3\" \n",
              "[37] \"m_x4\"  \"m_x5\"  \"m_x6\"  \"m_x7\"  \"m_x8\"  \"m_x9\"  \"m_x10\" \"m_x11\" \"m_x12\"\n",
              "[46] \"m_x13\" \"m_x14\" \"m_x15\" \"m_x16\" \"m_x17\" \"m_x18\" \"m_x19\" \"m_x20\" \"m_x21\"\n",
              "[55] \"m_x22\" \"m_x23\" \"m_x24\" \"m_x25\" \"m_x26\" \"m_x27\" \"m_x28\" \"m_x29\" \"m_x30\"\n",
              "[64] \"m_d\"   \"y\"    "
            ]
          },
          "metadata": {}
        }
      ],
      "source": [
        "# 2. Load simulated data from GitHub\n",
        "# The dataset already includes the individual means (m_x)\n",
        "df = read.csv(\"https://raw.githubusercontent.com/POLSEAN/XTDML/main/data/dgp4_cre_short.csv\")\n",
        "names(df)"
      ]
    },
    {
      "cell_type": "markdown",
      "source": [
        "**N.B.** If the dataset does *not* include the individual means of each variable (excluding the outcome variable), these needs to be generated. In this case the dataset already includes the means of the variables (labelled `m_`).\n",
        "\n",
        "A sample code to calculate the means and add them to the dataset is shown below:\n",
        "\n",
        "```\n",
        "# Get the names of the covariates\n",
        "x_vars = paste0(\"x\", 1:30)\n",
        "\n",
        "# Calculate the individual means for {X,D}\n",
        "df = df %>%\n",
        "       group_by(id) %>%\n",
        "       mutate(across(c(x,d), ~  mean(.x), .names = \"m_{col}\"))\n",
        "```"
      ],
      "metadata": {
        "id": "Alm4SfBaJbzx"
      }
    },
    {
      "cell_type": "markdown",
      "metadata": {
        "id": "pG8ZSXDVNzBZ"
      },
      "source": [
        "## **Estimation and inference with DML for CRE**\n",
        "\n",
        "The section below consists in setting up the DML data and estimation environments, and proceed with the actual estimation."
      ]
    },
    {
      "cell_type": "markdown",
      "metadata": {
        "id": "rKDgwrxWfoyo"
      },
      "source": [
        "### **3. Set up DML data environment**\n",
        "Initalization of `dml_cre_data`  from `data.frame`. Arguments to pass:\n",
        "\n",
        "```\n",
        "dml_approx_data_from_data_frame(data,\n",
        "                  x_cols = NULL,\n",
        "                  y_col = NULL,\n",
        "                  d_cols = NULL,\n",
        "                  xbar_cols = NULL,\n",
        "                  dbar_cols = NULL,\n",
        "                  cluster_cols = NULL\n",
        "                  )\n",
        "\n",
        "```              "
      ]
    },
    {
      "cell_type": "code",
      "execution_count": null,
      "metadata": {
        "colab": {
          "base_uri": "https://localhost:8080/"
        },
        "id": "hzCmm5ufDMA2",
        "outputId": "e92b2897-c243-415d-89c7-74ffd5f17dfc",
        "collapsed": true
      },
      "outputs": [
        {
          "output_type": "stream",
          "name": "stdout",
          "text": [
            "================= DML-CRE Object ==================\n",
            "\n",
            "\n",
            "------------------ Data summary ------------------\n",
            "Outcome variable: y\n",
            "Treatment variable(s): d\n",
            "Cluster variable(s): id\n",
            "Covariates: x1, x2, x3, x4, x5, x6, x7, x8, x9, x10, x11, x12, x13, x14, x15, x16, x17, x18, x19, x20, x21, x22, x23, x24, x25, x26, x27, x28, x29, x30\n",
            "Mean covariates: m_x1, m_x2, m_x3, m_x4, m_x5, m_x6, m_x7, m_x8, m_x9, m_x10, m_x11, m_x12, m_x13, m_x14, m_x15, m_x16, m_x17, m_x18, m_x19, m_x20, m_x21, m_x22, m_x23, m_x24, m_x25, m_x26, m_x27, m_x28, m_x29, m_x30, m_d\n",
            "No. Observations: 2500\n"
          ]
        }
      ],
      "source": [
        "# 3. Set up DML data environment\n",
        "x_cols <- paste0(\"x\", 1:30)\n",
        "xbar_cols <- paste0(\"m_x\", 1:30)\n",
        "\n",
        "# set up data for DML procedure\n",
        "obj_dml_data = dml_cre_data_from_data_frame(df,\n",
        "                            x_cols = x_cols,  y_col = \"y\", d_cols = \"d\",\n",
        "                            xbar_cols = xbar_cols, dbar_cols = \"m_d\",\n",
        "                            cluster_cols = \"id\")\n",
        "obj_dml_data$print()"
      ]
    },
    {
      "cell_type": "markdown",
      "metadata": {
        "id": "rFJ0mQy0ftPo"
      },
      "source": [
        "### **4. Set up DML estimation environment**\n",
        "\n",
        "Arguments to pass in `dml_approx_plr` function that Creates a new instance of this R6 class.\n",
        "\n",
        "```\n",
        " dml_approx_plr$new(data,\n",
        "      ml_l,\n",
        "      ml_m,\n",
        "      ml_g = NULL,\n",
        "      ml_lbar = NULL,\n",
        "      ml_mbar = NULL,\n",
        "      ml_gbar = NULL,\n",
        "      n_folds = 5,\n",
        "      n_rep = 1,\n",
        "      score = \"orth-PO\",                 # or \"orth-IV\"\n",
        "      dml_procedure = \"dml2\",            # or \"dml1\"\n",
        "      dml_approach  = \"cre\",             # or \"hybrid\"\n",
        "      dml_type      = \"non-separable\",   # or \"separable\"\n",
        "      dml_transform = \"wg\",              # or \"fd\"\n",
        "      draw_sample_splitting = TRUE,\n",
        "      apply_cross_fitting = TRUE\n",
        "      )\n",
        "\n",
        "```\n",
        "We use four base learners: regression tree, random forest, gradient boosting, and Lasso with a dictionary of nonlinear terms.\n",
        "\n"
      ]
    },
    {
      "cell_type": "markdown",
      "source": [
        "**4.1 CART for learning nuisance parameters**"
      ],
      "metadata": {
        "id": "WMQJ48pu0M34"
      }
    },
    {
      "cell_type": "code",
      "execution_count": null,
      "metadata": {
        "colab": {
          "base_uri": "https://localhost:8080/"
        },
        "id": "DAET9x-QB1ps",
        "outputId": "5499d286-3e57-48d3-ea8a-0aadfad76f10"
      },
      "outputs": [
        {
          "output_type": "stream",
          "name": "stderr",
          "text": [
            "TuningInstanceSingleCrit is deprecated. Use TuningInstanceBatchSingleCrit instead.\n",
            "\n",
            "TuningInstanceSingleCrit is deprecated. Use TuningInstanceBatchSingleCrit instead.\n",
            "\n"
          ]
        },
        {
          "output_type": "stream",
          "name": "stdout",
          "text": [
            "================= dml_cre_plr Object ==================\n",
            "\n",
            "\n",
            "\n",
            "------------------ Data summary ------------------\n",
            "Outcome variable: y\n",
            "Treatment variable: d\n",
            "Covariates: x1, x2, x3, x4, x5, x6, x7, x8, x9, x10, x11, x12, x13, x14, x15, x16, x17, x18, x19, x20, x21, x22, x23, x24, x25, x26, x27, x28, x29, x30\n",
            "Means of covariates: m_x1, m_x2, m_x3, m_x4, m_x5, m_x6, m_x7, m_x8, m_x9, m_x10, m_x11, m_x12, m_x13, m_x14, m_x15, m_x16, m_x17, m_x18, m_x19, m_x20, m_x21, m_x22, m_x23, m_x24, m_x25, m_x26, m_x27, m_x28, m_x29, m_x30, m_d\n",
            "Cluster variables: id\n",
            "No. Observations: 2500\n",
            "No. Groups: 250\n",
            "\n",
            "------------------ Score & algorithm ------------------\n",
            "Score function: orth-PO\n",
            "DML algorithm: dml2\n",
            "DML approach: cre\n",
            "DML approach type: non-separable\n",
            "\n",
            "------------------ Machine learner ------------------\n",
            "Learner of nuisance ml_l: regr.rpart\n",
            "RMSE of nuisance ml_l : 7.36675\n",
            "Learner of nuisance ml_m: regr.rpart\n",
            "RMSE of nuisance ml_m : 6.42942\n",
            "Model RMSE: 22.27747\n",
            "\n",
            "------------------ Resampling ------------------\n",
            "No. folds: 5\n",
            "No. folds per cluster: 5\n",
            "No. repeated sample splits: 1\n",
            "Apply cross-fitting: TRUE\n",
            "\n",
            "------------------ Fit summary ------------------\n",
            " Estimates and significance testing of the effect of target variables\n",
            "  Estimate. Std. Error t value Pr(>|t|)    \n",
            "d   0.44819    0.04535   9.882   <2e-16 ***\n",
            "---\n",
            "Signif. codes:  0 ‘***’ 0.001 ‘**’ 0.01 ‘*’ 0.05 ‘.’ 0.1 ‘ ’ 1\n",
            "\n",
            "\n",
            "$ml_l\n",
            "$ml_l$d\n",
            "$ml_l$d$xval\n",
            "[1] 0\n",
            "\n",
            "$ml_l$d$cp\n",
            "[1] 0.003111111\n",
            "\n",
            "$ml_l$d$maxdepth\n",
            "[1] 8\n",
            "\n",
            "\n",
            "\n",
            "$ml_m\n",
            "$ml_m$d\n",
            "$ml_m$d$xval\n",
            "[1] 0\n",
            "\n",
            "$ml_m$d$cp\n",
            "[1] 0.003111111\n",
            "\n",
            "$ml_m$d$maxdepth\n",
            "[1] 8\n",
            "\n",
            "\n",
            "\n"
          ]
        }
      ],
      "source": [
        "# 4. Set up DML estimation environment\n",
        "set.seed(1408)\n",
        "learner = lrn(\"regr.rpart\")\n",
        "ml_l = learner$clone()\n",
        "ml_m = learner$clone()\n",
        "\n",
        "dml_rpart = dml_cre_plr$new(obj_dml_data, ml_l = ml_l, ml_m = ml_m)\n",
        "\n",
        "# set up a list of parameter grids\n",
        "param_grid = list(\"ml_l\" = ps(cp = p_dbl(lower = 0.001, upper = 0.02),\n",
        "                              maxdepth = p_int(lower = 2, upper = 10)),\n",
        "                  \"ml_m\" = ps(cp = p_dbl(lower = 0.001, upper = 0.02),\n",
        "                              maxdepth = p_int(lower = 2, upper = 10)))\n",
        "\n",
        "tune_settings = list(terminator = mlr3tuning::trm(\"evals\", n_evals = 10),\n",
        "                      algorithm = tnr(\"grid_search\"), resolution = 20)\n",
        "\n",
        "dml_rpart$tune(param_set = param_grid, tune_settings = tune_settings)\n",
        "\n",
        "# Estimate target/causal parameter\n",
        "dml_rpart$fit()\n",
        "dml_rpart$print()\n",
        "print(dml_rpart$params)"
      ]
    },
    {
      "cell_type": "markdown",
      "metadata": {
        "id": "oZWH180IgZMA"
      },
      "source": [
        "**4.2 Random forest for learning nuisance parameters**"
      ]
    },
    {
      "cell_type": "code",
      "execution_count": null,
      "metadata": {
        "colab": {
          "base_uri": "https://localhost:8080/"
        },
        "id": "7iaiOIfJOLS2",
        "collapsed": true,
        "outputId": "4e6d5c01-ddaa-4f1b-b16f-b26cecf46c19"
      },
      "outputs": [
        {
          "output_type": "stream",
          "name": "stderr",
          "text": [
            "TuningInstanceSingleCrit is deprecated. Use TuningInstanceBatchSingleCrit instead.\n",
            "\n",
            "TuningInstanceSingleCrit is deprecated. Use TuningInstanceBatchSingleCrit instead.\n",
            "\n"
          ]
        },
        {
          "output_type": "stream",
          "name": "stdout",
          "text": [
            "================= dml_cre_plr Object ==================\n",
            "\n",
            "\n",
            "\n",
            "------------------ Data summary ------------------\n",
            "Outcome variable: y\n",
            "Treatment variable: d\n",
            "Covariates: x1, x2, x3, x4, x5, x6, x7, x8, x9, x10, x11, x12, x13, x14, x15, x16, x17, x18, x19, x20, x21, x22, x23, x24, x25, x26, x27, x28, x29, x30\n",
            "Means of covariates: m_x1, m_x2, m_x3, m_x4, m_x5, m_x6, m_x7, m_x8, m_x9, m_x10, m_x11, m_x12, m_x13, m_x14, m_x15, m_x16, m_x17, m_x18, m_x19, m_x20, m_x21, m_x22, m_x23, m_x24, m_x25, m_x26, m_x27, m_x28, m_x29, m_x30, m_d\n",
            "Cluster variables: id\n",
            "No. Observations: 2500\n",
            "No. Groups: 250\n",
            "\n",
            "------------------ Score & algorithm ------------------\n",
            "Score function: orth-PO\n",
            "DML algorithm: dml2\n",
            "DML approach: cre\n",
            "DML approach type: non-separable\n",
            "\n",
            "------------------ Machine learner ------------------\n",
            "Learner of nuisance ml_l: regr.ranger\n",
            "RMSE of nuisance ml_l : 4.93698\n",
            "Learner of nuisance ml_m: regr.ranger\n",
            "RMSE of nuisance ml_m : 3.24057\n",
            "Model RMSE: 9.98544\n",
            "\n",
            "------------------ Resampling ------------------\n",
            "No. folds: 5\n",
            "No. folds per cluster: 5\n",
            "No. repeated sample splits: 1\n",
            "Apply cross-fitting: TRUE\n",
            "\n",
            "------------------ Fit summary ------------------\n",
            " Estimates and significance testing of the effect of target variables\n",
            "  Estimate. Std. Error t value Pr(>|t|)    \n",
            "d    1.1037     0.0712    15.5   <2e-16 ***\n",
            "---\n",
            "Signif. codes:  0 ‘***’ 0.001 ‘**’ 0.01 ‘*’ 0.05 ‘.’ 0.1 ‘ ’ 1\n",
            "\n",
            "\n",
            "$ml_l\n",
            "$ml_l$d\n",
            "$ml_l$d$mtry\n",
            "[1] 60\n",
            "\n",
            "$ml_l$d$num.threads\n",
            "[1] 1\n",
            "\n",
            "$ml_l$d$num.trees\n",
            "[1] 100\n",
            "\n",
            "$ml_l$d$max.depth\n",
            "[1] 16\n",
            "\n",
            "\n",
            "\n",
            "$ml_m\n",
            "$ml_m$d\n",
            "$ml_m$d$mtry\n",
            "[1] 61\n",
            "\n",
            "$ml_m$d$num.threads\n",
            "[1] 1\n",
            "\n",
            "$ml_m$d$num.trees\n",
            "[1] 100\n",
            "\n",
            "$ml_m$d$max.depth\n",
            "[1] 20\n",
            "\n",
            "\n",
            "\n"
          ]
        }
      ],
      "source": [
        "# RF\n",
        "set.seed(1408)\n",
        "\n",
        "vars = c(x_cols,xbar_cols)\n",
        "K = length(vars)\n",
        "\n",
        "learner = lrn(\"regr.ranger\",  mtry = K, num.trees = 100)  # better 1000 but requires more computational time\n",
        "ml_l = learner$clone()\n",
        "learner = lrn(\"regr.ranger\",  mtry = K+1, num.trees =  100)\n",
        "ml_m = learner$clone()\n",
        "\n",
        "# Set up DML environment\n",
        "dml_rf = dml_cre_plr$new(obj_dml_data,\n",
        "                          ml_l = ml_l, ml_m = ml_m,\n",
        "                          score = \"orth-PO\",\n",
        "                          dml_procedure = \"dml2\",\n",
        "                          dml_approach  = \"cre\")\n",
        "\n",
        "# Hyperparameter tuning\n",
        "param_grid = list(\"ml_l\" = ps(max.depth = p_int(lower = 2, upper = 20)),\n",
        "                  \"ml_m\" = ps(max.depth = p_int(lower = 2, upper = 20)))\n",
        "\n",
        "tune_settings = list(terminator = mlr3tuning::trm(\"evals\", n_evals = 10),\n",
        "                      algorithm = tnr(\"grid_search\"), resolution = 20)\n",
        "\n",
        "dml_rf$tune(param_set = param_grid, tune_settings = tune_settings)\n",
        "\n",
        "# Estimate target/causal parameter\n",
        "dml_rf$fit()\n",
        "dml_rf$print()\n",
        "print(dml_rf$params)"
      ]
    },
    {
      "cell_type": "markdown",
      "metadata": {
        "id": "Wte0WsOPgb15"
      },
      "source": [
        "**4.3 Gradient boosting for learning nuisance parameters**"
      ]
    },
    {
      "cell_type": "code",
      "execution_count": null,
      "metadata": {
        "colab": {
          "base_uri": "https://localhost:8080/"
        },
        "id": "pbMIszOUXw7y",
        "outputId": "8fa22a32-7a3c-4503-f459-b0750dafaf0a"
      },
      "outputs": [
        {
          "output_type": "stream",
          "name": "stderr",
          "text": [
            "TuningInstanceSingleCrit is deprecated. Use TuningInstanceBatchSingleCrit instead.\n",
            "\n",
            "TuningInstanceSingleCrit is deprecated. Use TuningInstanceBatchSingleCrit instead.\n",
            "\n"
          ]
        },
        {
          "output_type": "stream",
          "name": "stdout",
          "text": [
            "================= dml_cre_plr Object ==================\n",
            "\n",
            "\n",
            "\n",
            "------------------ Data summary ------------------\n",
            "Outcome variable: y\n",
            "Treatment variable: d\n",
            "Covariates: x1, x2, x3, x4, x5, x6, x7, x8, x9, x10, x11, x12, x13, x14, x15, x16, x17, x18, x19, x20, x21, x22, x23, x24, x25, x26, x27, x28, x29, x30\n",
            "Means of covariates: m_x1, m_x2, m_x3, m_x4, m_x5, m_x6, m_x7, m_x8, m_x9, m_x10, m_x11, m_x12, m_x13, m_x14, m_x15, m_x16, m_x17, m_x18, m_x19, m_x20, m_x21, m_x22, m_x23, m_x24, m_x25, m_x26, m_x27, m_x28, m_x29, m_x30, m_d\n",
            "Cluster variables: id\n",
            "No. Observations: 2500\n",
            "No. Groups: 250\n",
            "\n",
            "------------------ Score & algorithm ------------------\n",
            "Score function: orth-PO\n",
            "DML algorithm: dml2\n",
            "DML approach: cre\n",
            "DML approach type: non-separable\n",
            "\n",
            "------------------ Machine learner ------------------\n",
            "Learner of nuisance ml_l: regr.xgboost\n",
            "RMSE of nuisance ml_l : 5.32430\n",
            "Learner of nuisance ml_m: regr.xgboost\n",
            "RMSE of nuisance ml_m : 3.52113\n",
            "Model RMSE: 11.82180\n",
            "\n",
            "------------------ Resampling ------------------\n",
            "No. folds: 5\n",
            "No. folds per cluster: 5\n",
            "No. repeated sample splits: 1\n",
            "Apply cross-fitting: TRUE\n",
            "\n",
            "------------------ Fit summary ------------------\n",
            " Estimates and significance testing of the effect of target variables\n",
            "  Estimate. Std. Error t value Pr(>|t|)    \n",
            "d   0.76860    0.08556   8.983   <2e-16 ***\n",
            "---\n",
            "Signif. codes:  0 ‘***’ 0.001 ‘**’ 0.01 ‘*’ 0.05 ‘.’ 0.1 ‘ ’ 1\n",
            "\n",
            "\n",
            "$ml_l\n",
            "$ml_l$d\n",
            "$ml_l$d$nrounds\n",
            "[1] 100\n",
            "\n",
            "$ml_l$d$nthread\n",
            "[1] 1\n",
            "\n",
            "$ml_l$d$verbose\n",
            "[1] 0\n",
            "\n",
            "$ml_l$d$max_depth\n",
            "[1] 7\n",
            "\n",
            "$ml_l$d$lambda\n",
            "[1] 0\n",
            "\n",
            "\n",
            "\n",
            "$ml_m\n",
            "$ml_m$d\n",
            "$ml_m$d$nrounds\n",
            "[1] 100\n",
            "\n",
            "$ml_m$d$nthread\n",
            "[1] 1\n",
            "\n",
            "$ml_m$d$verbose\n",
            "[1] 0\n",
            "\n",
            "$ml_m$d$max_depth\n",
            "[1] 10\n",
            "\n",
            "$ml_m$d$lambda\n",
            "[1] 1.111111\n",
            "\n",
            "\n",
            "\n"
          ]
        }
      ],
      "source": [
        "# XGBOOST\n",
        "set.seed(1408)\n",
        "\n",
        "learner = lrn(\"regr.xgboost\", nrounds = 100) # better 1000 but requires more computational time\n",
        "ml_m = learner$clone()\n",
        "ml_l = learner$clone()\n",
        "\n",
        "dml_xgboost = dml_cre_plr$new(obj_dml_data,\n",
        "                          ml_l = ml_l, ml_m = ml_m,\n",
        "                          score = \"orth-PO\",\n",
        "                          dml_procedure = \"dml2\",\n",
        "                          dml_approach  = \"cre\")\n",
        "\n",
        "dml_obj = dml_cre_plr$new(obj_dml_data,\n",
        "                        ml_l = ml_l, ml_m = ml_m)\n",
        "\n",
        "\n",
        "# ## Hyperparameter tuning\n",
        "param_grid = list(\"ml_l\" = ps(max_depth = p_int(lower = 2, upper = 10),\n",
        "                              lambda = p_dbl(lower = 0, upper = 2)),\n",
        "                  \"ml_m\" = ps(max_depth = p_int(lower = 2, upper = 10),\n",
        "                              lambda = p_dbl(lower = 0, upper = 2)))\n",
        "\n",
        "tune_settings = list(terminator = mlr3tuning::trm(\"evals\", n_evals = 10),\n",
        "                      algorithm = tnr(\"grid_search\"), resolution = 20)\n",
        "\n",
        "dml_xgboost$tune(param_set = param_grid, tune_settings = tune_settings)\n",
        "\n",
        "# Estimate target/causal parameter\n",
        "dml_xgboost$fit()\n",
        "dml_xgboost$print()\n",
        "print(dml_xgboost$params)"
      ]
    },
    {
      "cell_type": "markdown",
      "metadata": {
        "id": "YFyEstL-gh_P"
      },
      "source": [
        "**4.4 LASSO for learning nuisance parameters**"
      ]
    },
    {
      "cell_type": "code",
      "execution_count": null,
      "metadata": {
        "id": "z6nZrIKXZg8q"
      },
      "outputs": [],
      "source": [
        "## __________________________________________________________________________\n",
        "## Polynomial expansion (for Lasso with extensive dictionary)\n",
        "## __________________________________________________________________________\n",
        "polyexp = function(df){\n",
        "  df.polyexp = df\n",
        "  colnames = colnames(df)\n",
        "  for (i in 1:ncol(df)){\n",
        "    for (j in i:ncol(df)){\n",
        "\n",
        "      colnames = c(colnames, paste0(names(df)[i],'.',names(df)[j]))\n",
        "      df.polyexp = cbind(df.polyexp, df[,i]*df[,j])\n",
        "    }\n",
        "    colnames = c(colnames,paste0(names(df)[i],'.',names(df)[i],'.',names(df)[i]))\n",
        "    df.polyexp = cbind(df.polyexp, df[,i]*df[,i]*df[,i])\n",
        "\n",
        "  }\n",
        "\n",
        "  names(df.polyexp) = colnames\n",
        "  return(df.polyexp)\n",
        "}"
      ]
    },
    {
      "cell_type": "code",
      "source": [
        "install.packages(\"tidytable\")\n",
        "library(tidytable)"
      ],
      "metadata": {
        "colab": {
          "base_uri": "https://localhost:8080/"
        },
        "id": "1RINsVBU2Nel",
        "outputId": "a832be6b-9fdc-4bac-bda2-7227cb0f09ea",
        "collapsed": true
      },
      "execution_count": null,
      "outputs": [
        {
          "output_type": "stream",
          "name": "stderr",
          "text": [
            "Installing package into ‘/usr/local/lib/R/site-library’\n",
            "(as ‘lib’ is unspecified)\n",
            "\n",
            "Warning: tidytable was loaded after dplyr.\n",
            "This can lead to most dplyr functions being overwritten by tidytable functions.\n",
            "\n",
            "\n",
            "Attaching package: ‘tidytable’\n",
            "\n",
            "\n",
            "The following object is masked from ‘package:MASS’:\n",
            "\n",
            "    select\n",
            "\n",
            "\n",
            "The following objects are masked from ‘package:mlr3misc’:\n",
            "\n",
            "    cross_join, enframe, map, map_chr, map_dbl, map_int, map_lgl, pmap,\n",
            "    pmap_chr, pmap_dbl, pmap_int, pmap_lgl, unnest, walk\n",
            "\n",
            "\n",
            "The following object is masked from ‘package:xgboost’:\n",
            "\n",
            "    slice\n",
            "\n",
            "\n",
            "The following objects are masked from ‘package:data.table’:\n",
            "\n",
            "    %notin%, between, first, fread, last\n",
            "\n",
            "\n",
            "The following objects are masked from ‘package:tibble’:\n",
            "\n",
            "    enframe, tribble\n",
            "\n",
            "\n",
            "The following objects are masked from ‘package:dplyr’:\n",
            "\n",
            "    across, add_count, add_tally, anti_join, arrange, between,\n",
            "    bind_cols, bind_rows, c_across, case_match, case_when, coalesce,\n",
            "    consecutive_id, count, cross_join, cume_dist, cur_column, cur_data,\n",
            "    cur_group_id, cur_group_rows, dense_rank, desc, distinct, filter,\n",
            "    first, full_join, group_by, group_cols, group_split, group_vars,\n",
            "    if_all, if_any, if_else, inner_join, is_grouped_df, lag, last,\n",
            "    lead, left_join, min_rank, mutate, n, n_distinct, na_if, nest_by,\n",
            "    nest_join, nth, percent_rank, pick, pull, recode, reframe,\n",
            "    relocate, rename, rename_with, right_join, row_number, rowwise,\n",
            "    select, semi_join, slice, slice_head, slice_max, slice_min,\n",
            "    slice_sample, slice_tail, summarise, summarize, tally, top_n,\n",
            "    transmute, tribble, ungroup\n",
            "\n",
            "\n",
            "The following objects are masked from ‘package:stats’:\n",
            "\n",
            "    dt, filter, lag\n",
            "\n",
            "\n",
            "The following object is masked from ‘package:base’:\n",
            "\n",
            "    %in%\n",
            "\n",
            "\n"
          ]
        }
      ]
    },
    {
      "cell_type": "code",
      "execution_count": null,
      "metadata": {
        "id": "I46PJrLZZws1",
        "colab": {
          "base_uri": "https://localhost:8080/"
        },
        "outputId": "d148c41d-1c1e-49b2-b9d2-1fe49d55bcb8",
        "collapsed": true
      },
      "outputs": [
        {
          "output_type": "stream",
          "name": "stderr",
          "text": [
            "Warning message:\n",
            "“\u001b[1m\u001b[22mUsing an external vector in selections was deprecated in tidyselect 1.1.0.\n",
            "\u001b[36mℹ\u001b[39m Please use `all_of()` or `any_of()` instead.\n",
            "  # Was:\n",
            "  data %>% select(xlist)\n",
            "\n",
            "  # Now:\n",
            "  data %>% select(all_of(xlist))\n",
            "\n",
            "See <https://tidyselect.r-lib.org/reference/faq-external-vector.html>.”\n",
            "Warning message:\n",
            "“\u001b[1m\u001b[22mUsing an external vector in selections was deprecated in tidyselect 1.1.0.\n",
            "\u001b[36mℹ\u001b[39m Please use `all_of()` or `any_of()` instead.\n",
            "  # Was:\n",
            "  data %>% select(m_xlist)\n",
            "\n",
            "  # Now:\n",
            "  data %>% select(all_of(m_xlist))\n",
            "\n",
            "See <https://tidyselect.r-lib.org/reference/faq-external-vector.html>.”\n"
          ]
        }
      ],
      "source": [
        "# Create dictionary of non linear terms\n",
        "xlist <- paste0(\"x\", 1:30)\n",
        "m_xlist <- paste0(\"m_x\", 1:30)\n",
        "\n",
        "##lasso-augment\n",
        "dta_x = as.data.frame(select(df, xlist))\n",
        "dta_xbar = as.data.frame(select(df, m_xlist))\n",
        "dta2_x = polyexp(dta_x)\n",
        "dta2_xbar = polyexp(dta_xbar)\n",
        "aa = as.data.frame(c(dta2_x,dta2_xbar))\n",
        "\n",
        "aa$y = df$y\n",
        "aa$id= df$id\n",
        "aa$time = df$time\n",
        "aa$d = df$d\n",
        "aa$m_d = df$m_d\n",
        "\n",
        "df2 <- aa %>% select(c(id,time,y,d,m_d), everything())\n",
        "\n",
        "# Replace NAs with 0s\n",
        "df2[is.na(df2)] <- 0\n",
        "\n",
        "x_cols = names(select(df2, starts_with(\"x\")))\n",
        "xbar_cols = names(select(df2, starts_with(\"m_x\")))\n"
      ]
    },
    {
      "cell_type": "code",
      "source": [
        "library(glmnet)"
      ],
      "metadata": {
        "colab": {
          "base_uri": "https://localhost:8080/"
        },
        "id": "s2KM5DzNQk3k",
        "outputId": "1bbbd0fd-eb9b-4340-86a0-aa328990f9ce"
      },
      "execution_count": null,
      "outputs": [
        {
          "output_type": "stream",
          "name": "stderr",
          "text": [
            "Loading required package: Matrix\n",
            "\n",
            "\n",
            "Attaching package: ‘Matrix’\n",
            "\n",
            "\n",
            "The following object is masked from ‘package:tidytable’:\n",
            "\n",
            "    expand\n",
            "\n",
            "\n",
            "Loaded glmnet 4.1-8\n",
            "\n"
          ]
        }
      ]
    },
    {
      "cell_type": "code",
      "source": [
        "# Dimensions of augmented dataset for LAsso\n",
        "dim(df2)"
      ],
      "metadata": {
        "colab": {
          "base_uri": "https://localhost:8080/",
          "height": 34
        },
        "id": "4m41dXvwQbhj",
        "outputId": "a8457f60-0f15-47ea-9af3-11dc543104eb"
      },
      "execution_count": null,
      "outputs": [
        {
          "output_type": "display_data",
          "data": {
            "text/html": [
              "<style>\n",
              ".list-inline {list-style: none; margin:0; padding: 0}\n",
              ".list-inline>li {display: inline-block}\n",
              ".list-inline>li:not(:last-child)::after {content: \"\\00b7\"; padding: 0 .5ex}\n",
              "</style>\n",
              "<ol class=list-inline><li>2500</li><li>1055</li></ol>\n"
            ],
            "text/markdown": "1. 2500\n2. 1055\n\n\n",
            "text/latex": "\\begin{enumerate*}\n\\item 2500\n\\item 1055\n\\end{enumerate*}\n",
            "text/plain": [
              "[1] 2500 1055"
            ]
          },
          "metadata": {}
        }
      ]
    },
    {
      "cell_type": "code",
      "execution_count": null,
      "metadata": {
        "id": "AkpB-R6xaTe3",
        "colab": {
          "base_uri": "https://localhost:8080/"
        },
        "outputId": "b0edb6e6-7517-467f-d506-1fee0ef4158c"
      },
      "outputs": [
        {
          "output_type": "stream",
          "name": "stderr",
          "text": [
            "No parameters provided for learners. Default values are used.\n",
            "\n",
            "No parameters provided for learners. Default values are used.\n",
            "\n"
          ]
        },
        {
          "output_type": "stream",
          "name": "stdout",
          "text": [
            "================= dml_cre_plr Object ==================\n",
            "\n",
            "\n",
            "\n",
            "------------------ Data summary ------------------\n",
            "Outcome variable: y\n",
            "Treatment variable: d\n",
            "Covariates: x1, x2, x3, x4, x5, x6, x7, x8, x9, x10, x11, x12, x13, x14, x15, x16, x17, x18, x19, x20, x21, x22, x23, x24, x25, x26, x27, x28, x29, x30, x1.x1, x1.x2, x1.x3, x1.x4, x1.x5, x1.x6, x1.x7, x1.x8, x1.x9, x1.x10, x1.x11, x1.x12, x1.x13, x1.x14, x1.x15, x1.x16, x1.x17, x1.x18, x1.x19, x1.x20, x1.x21, x1.x22, x1.x23, x1.x24, x1.x25, x1.x26, x1.x27, x1.x28, x1.x29, x1.x30, x1.x1.x1, x2.x2, x2.x3, x2.x4, x2.x5, x2.x6, x2.x7, x2.x8, x2.x9, x2.x10, x2.x11, x2.x12, x2.x13, x2.x14, x2.x15, x2.x16, x2.x17, x2.x18, x2.x19, x2.x20, x2.x21, x2.x22, x2.x23, x2.x24, x2.x25, x2.x26, x2.x27, x2.x28, x2.x29, x2.x30, x2.x2.x2, x3.x3, x3.x4, x3.x5, x3.x6, x3.x7, x3.x8, x3.x9, x3.x10, x3.x11, x3.x12, x3.x13, x3.x14, x3.x15, x3.x16, x3.x17, x3.x18, x3.x19, x3.x20, x3.x21, x3.x22, x3.x23, x3.x24, x3.x25, x3.x26, x3.x27, x3.x28, x3.x29, x3.x30, x3.x3.x3, x4.x4, x4.x5, x4.x6, x4.x7, x4.x8, x4.x9, x4.x10, x4.x11, x4.x12, x4.x13, x4.x14, x4.x15, x4.x16, x4.x17, x4.x18, x4.x19, x4.x20, x4.x21, x4.x22, x4.x23, x4.x24, x4.x25, x4.x26, x4.x27, x4.x28, x4.x29, x4.x30, x4.x4.x4, x5.x5, x5.x6, x5.x7, x5.x8, x5.x9, x5.x10, x5.x11, x5.x12, x5.x13, x5.x14, x5.x15, x5.x16, x5.x17, x5.x18, x5.x19, x5.x20, x5.x21, x5.x22, x5.x23, x5.x24, x5.x25, x5.x26, x5.x27, x5.x28, x5.x29, x5.x30, x5.x5.x5, x6.x6, x6.x7, x6.x8, x6.x9, x6.x10, x6.x11, x6.x12, x6.x13, x6.x14, x6.x15, x6.x16, x6.x17, x6.x18, x6.x19, x6.x20, x6.x21, x6.x22, x6.x23, x6.x24, x6.x25, x6.x26, x6.x27, x6.x28, x6.x29, x6.x30, x6.x6.x6, x7.x7, x7.x8, x7.x9, x7.x10, x7.x11, x7.x12, x7.x13, x7.x14, x7.x15, x7.x16, x7.x17, x7.x18, x7.x19, x7.x20, x7.x21, x7.x22, x7.x23, x7.x24, x7.x25, x7.x26, x7.x27, x7.x28, x7.x29, x7.x30, x7.x7.x7, x8.x8, x8.x9, x8.x10, x8.x11, x8.x12, x8.x13, x8.x14, x8.x15, x8.x16, x8.x17, x8.x18, x8.x19, x8.x20, x8.x21, x8.x22, x8.x23, x8.x24, x8.x25, x8.x26, x8.x27, x8.x28, x8.x29, x8.x30, x8.x8.x8, x9.x9, x9.x10, x9.x11, x9.x12, x9.x13, x9.x14, x9.x15, x9.x16, x9.x17, x9.x18, x9.x19, x9.x20, x9.x21, x9.x22, x9.x23, x9.x24, x9.x25, x9.x26, x9.x27, x9.x28, x9.x29, x9.x30, x9.x9.x9, x10.x10, x10.x11, x10.x12, x10.x13, x10.x14, x10.x15, x10.x16, x10.x17, x10.x18, x10.x19, x10.x20, x10.x21, x10.x22, x10.x23, x10.x24, x10.x25, x10.x26, x10.x27, x10.x28, x10.x29, x10.x30, x10.x10.x10, x11.x11, x11.x12, x11.x13, x11.x14, x11.x15, x11.x16, x11.x17, x11.x18, x11.x19, x11.x20, x11.x21, x11.x22, x11.x23, x11.x24, x11.x25, x11.x26, x11.x27, x11.x28, x11.x29, x11.x30, x11.x11.x11, x12.x12, x12.x13, x12.x14, x12.x15, x12.x16, x12.x17, x12.x18, x12.x19, x12.x20, x12.x21, x12.x22, x12.x23, x12.x24, x12.x25, x12.x26, x12.x27, x12.x28, x12.x29, x12.x30, x12.x12.x12, x13.x13, x13.x14, x13.x15, x13.x16, x13.x17, x13.x18, x13.x19, x13.x20, x13.x21, x13.x22, x13.x23, x13.x24, x13.x25, x13.x26, x13.x27, x13.x28, x13.x29, x13.x30, x13.x13.x13, x14.x14, x14.x15, x14.x16, x14.x17, x14.x18, x14.x19, x14.x20, x14.x21, x14.x22, x14.x23, x14.x24, x14.x25, x14.x26, x14.x27, x14.x28, x14.x29, x14.x30, x14.x14.x14, x15.x15, x15.x16, x15.x17, x15.x18, x15.x19, x15.x20, x15.x21, x15.x22, x15.x23, x15.x24, x15.x25, x15.x26, x15.x27, x15.x28, x15.x29, x15.x30, x15.x15.x15, x16.x16, x16.x17, x16.x18, x16.x19, x16.x20, x16.x21, x16.x22, x16.x23, x16.x24, x16.x25, x16.x26, x16.x27, x16.x28, x16.x29, x16.x30, x16.x16.x16, x17.x17, x17.x18, x17.x19, x17.x20, x17.x21, x17.x22, x17.x23, x17.x24, x17.x25, x17.x26, x17.x27, x17.x28, x17.x29, x17.x30, x17.x17.x17, x18.x18, x18.x19, x18.x20, x18.x21, x18.x22, x18.x23, x18.x24, x18.x25, x18.x26, x18.x27, x18.x28, x18.x29, x18.x30, x18.x18.x18, x19.x19, x19.x20, x19.x21, x19.x22, x19.x23, x19.x24, x19.x25, x19.x26, x19.x27, x19.x28, x19.x29, x19.x30, x19.x19.x19, x20.x20, x20.x21, x20.x22, x20.x23, x20.x24, x20.x25, x20.x26, x20.x27, x20.x28, x20.x29, x20.x30, x20.x20.x20, x21.x21, x21.x22, x21.x23, x21.x24, x21.x25, x21.x26, x21.x27, x21.x28, x21.x29, x21.x30, x21.x21.x21, x22.x22, x22.x23, x22.x24, x22.x25, x22.x26, x22.x27, x22.x28, x22.x29, x22.x30, x22.x22.x22, x23.x23, x23.x24, x23.x25, x23.x26, x23.x27, x23.x28, x23.x29, x23.x30, x23.x23.x23, x24.x24, x24.x25, x24.x26, x24.x27, x24.x28, x24.x29, x24.x30, x24.x24.x24, x25.x25, x25.x26, x25.x27, x25.x28, x25.x29, x25.x30, x25.x25.x25, x26.x26, x26.x27, x26.x28, x26.x29, x26.x30, x26.x26.x26, x27.x27, x27.x28, x27.x29, x27.x30, x27.x27.x27, x28.x28, x28.x29, x28.x30, x28.x28.x28, x29.x29, x29.x30, x29.x29.x29, x30.x30, x30.x30.x30\n",
            "Means of covariates: m_x1, m_x2, m_x3, m_x4, m_x5, m_x6, m_x7, m_x8, m_x9, m_x10, m_x11, m_x12, m_x13, m_x14, m_x15, m_x16, m_x17, m_x18, m_x19, m_x20, m_x21, m_x22, m_x23, m_x24, m_x25, m_x26, m_x27, m_x28, m_x29, m_x30, m_x1.m_x1, m_x1.m_x2, m_x1.m_x3, m_x1.m_x4, m_x1.m_x5, m_x1.m_x6, m_x1.m_x7, m_x1.m_x8, m_x1.m_x9, m_x1.m_x10, m_x1.m_x11, m_x1.m_x12, m_x1.m_x13, m_x1.m_x14, m_x1.m_x15, m_x1.m_x16, m_x1.m_x17, m_x1.m_x18, m_x1.m_x19, m_x1.m_x20, m_x1.m_x21, m_x1.m_x22, m_x1.m_x23, m_x1.m_x24, m_x1.m_x25, m_x1.m_x26, m_x1.m_x27, m_x1.m_x28, m_x1.m_x29, m_x1.m_x30, m_x1.m_x1.m_x1, m_x2.m_x2, m_x2.m_x3, m_x2.m_x4, m_x2.m_x5, m_x2.m_x6, m_x2.m_x7, m_x2.m_x8, m_x2.m_x9, m_x2.m_x10, m_x2.m_x11, m_x2.m_x12, m_x2.m_x13, m_x2.m_x14, m_x2.m_x15, m_x2.m_x16, m_x2.m_x17, m_x2.m_x18, m_x2.m_x19, m_x2.m_x20, m_x2.m_x21, m_x2.m_x22, m_x2.m_x23, m_x2.m_x24, m_x2.m_x25, m_x2.m_x26, m_x2.m_x27, m_x2.m_x28, m_x2.m_x29, m_x2.m_x30, m_x2.m_x2.m_x2, m_x3.m_x3, m_x3.m_x4, m_x3.m_x5, m_x3.m_x6, m_x3.m_x7, m_x3.m_x8, m_x3.m_x9, m_x3.m_x10, m_x3.m_x11, m_x3.m_x12, m_x3.m_x13, m_x3.m_x14, m_x3.m_x15, m_x3.m_x16, m_x3.m_x17, m_x3.m_x18, m_x3.m_x19, m_x3.m_x20, m_x3.m_x21, m_x3.m_x22, m_x3.m_x23, m_x3.m_x24, m_x3.m_x25, m_x3.m_x26, m_x3.m_x27, m_x3.m_x28, m_x3.m_x29, m_x3.m_x30, m_x3.m_x3.m_x3, m_x4.m_x4, m_x4.m_x5, m_x4.m_x6, m_x4.m_x7, m_x4.m_x8, m_x4.m_x9, m_x4.m_x10, m_x4.m_x11, m_x4.m_x12, m_x4.m_x13, m_x4.m_x14, m_x4.m_x15, m_x4.m_x16, m_x4.m_x17, m_x4.m_x18, m_x4.m_x19, m_x4.m_x20, m_x4.m_x21, m_x4.m_x22, m_x4.m_x23, m_x4.m_x24, m_x4.m_x25, m_x4.m_x26, m_x4.m_x27, m_x4.m_x28, m_x4.m_x29, m_x4.m_x30, m_x4.m_x4.m_x4, m_x5.m_x5, m_x5.m_x6, m_x5.m_x7, m_x5.m_x8, m_x5.m_x9, m_x5.m_x10, m_x5.m_x11, m_x5.m_x12, m_x5.m_x13, m_x5.m_x14, m_x5.m_x15, m_x5.m_x16, m_x5.m_x17, m_x5.m_x18, m_x5.m_x19, m_x5.m_x20, m_x5.m_x21, m_x5.m_x22, m_x5.m_x23, m_x5.m_x24, m_x5.m_x25, m_x5.m_x26, m_x5.m_x27, m_x5.m_x28, m_x5.m_x29, m_x5.m_x30, m_x5.m_x5.m_x5, m_x6.m_x6, m_x6.m_x7, m_x6.m_x8, m_x6.m_x9, m_x6.m_x10, m_x6.m_x11, m_x6.m_x12, m_x6.m_x13, m_x6.m_x14, m_x6.m_x15, m_x6.m_x16, m_x6.m_x17, m_x6.m_x18, m_x6.m_x19, m_x6.m_x20, m_x6.m_x21, m_x6.m_x22, m_x6.m_x23, m_x6.m_x24, m_x6.m_x25, m_x6.m_x26, m_x6.m_x27, m_x6.m_x28, m_x6.m_x29, m_x6.m_x30, m_x6.m_x6.m_x6, m_x7.m_x7, m_x7.m_x8, m_x7.m_x9, m_x7.m_x10, m_x7.m_x11, m_x7.m_x12, m_x7.m_x13, m_x7.m_x14, m_x7.m_x15, m_x7.m_x16, m_x7.m_x17, m_x7.m_x18, m_x7.m_x19, m_x7.m_x20, m_x7.m_x21, m_x7.m_x22, m_x7.m_x23, m_x7.m_x24, m_x7.m_x25, m_x7.m_x26, m_x7.m_x27, m_x7.m_x28, m_x7.m_x29, m_x7.m_x30, m_x7.m_x7.m_x7, m_x8.m_x8, m_x8.m_x9, m_x8.m_x10, m_x8.m_x11, m_x8.m_x12, m_x8.m_x13, m_x8.m_x14, m_x8.m_x15, m_x8.m_x16, m_x8.m_x17, m_x8.m_x18, m_x8.m_x19, m_x8.m_x20, m_x8.m_x21, m_x8.m_x22, m_x8.m_x23, m_x8.m_x24, m_x8.m_x25, m_x8.m_x26, m_x8.m_x27, m_x8.m_x28, m_x8.m_x29, m_x8.m_x30, m_x8.m_x8.m_x8, m_x9.m_x9, m_x9.m_x10, m_x9.m_x11, m_x9.m_x12, m_x9.m_x13, m_x9.m_x14, m_x9.m_x15, m_x9.m_x16, m_x9.m_x17, m_x9.m_x18, m_x9.m_x19, m_x9.m_x20, m_x9.m_x21, m_x9.m_x22, m_x9.m_x23, m_x9.m_x24, m_x9.m_x25, m_x9.m_x26, m_x9.m_x27, m_x9.m_x28, m_x9.m_x29, m_x9.m_x30, m_x9.m_x9.m_x9, m_x10.m_x10, m_x10.m_x11, m_x10.m_x12, m_x10.m_x13, m_x10.m_x14, m_x10.m_x15, m_x10.m_x16, m_x10.m_x17, m_x10.m_x18, m_x10.m_x19, m_x10.m_x20, m_x10.m_x21, m_x10.m_x22, m_x10.m_x23, m_x10.m_x24, m_x10.m_x25, m_x10.m_x26, m_x10.m_x27, m_x10.m_x28, m_x10.m_x29, m_x10.m_x30, m_x10.m_x10.m_x10, m_x11.m_x11, m_x11.m_x12, m_x11.m_x13, m_x11.m_x14, m_x11.m_x15, m_x11.m_x16, m_x11.m_x17, m_x11.m_x18, m_x11.m_x19, m_x11.m_x20, m_x11.m_x21, m_x11.m_x22, m_x11.m_x23, m_x11.m_x24, m_x11.m_x25, m_x11.m_x26, m_x11.m_x27, m_x11.m_x28, m_x11.m_x29, m_x11.m_x30, m_x11.m_x11.m_x11, m_x12.m_x12, m_x12.m_x13, m_x12.m_x14, m_x12.m_x15, m_x12.m_x16, m_x12.m_x17, m_x12.m_x18, m_x12.m_x19, m_x12.m_x20, m_x12.m_x21, m_x12.m_x22, m_x12.m_x23, m_x12.m_x24, m_x12.m_x25, m_x12.m_x26, m_x12.m_x27, m_x12.m_x28, m_x12.m_x29, m_x12.m_x30, m_x12.m_x12.m_x12, m_x13.m_x13, m_x13.m_x14, m_x13.m_x15, m_x13.m_x16, m_x13.m_x17, m_x13.m_x18, m_x13.m_x19, m_x13.m_x20, m_x13.m_x21, m_x13.m_x22, m_x13.m_x23, m_x13.m_x24, m_x13.m_x25, m_x13.m_x26, m_x13.m_x27, m_x13.m_x28, m_x13.m_x29, m_x13.m_x30, m_x13.m_x13.m_x13, m_x14.m_x14, m_x14.m_x15, m_x14.m_x16, m_x14.m_x17, m_x14.m_x18, m_x14.m_x19, m_x14.m_x20, m_x14.m_x21, m_x14.m_x22, m_x14.m_x23, m_x14.m_x24, m_x14.m_x25, m_x14.m_x26, m_x14.m_x27, m_x14.m_x28, m_x14.m_x29, m_x14.m_x30, m_x14.m_x14.m_x14, m_x15.m_x15, m_x15.m_x16, m_x15.m_x17, m_x15.m_x18, m_x15.m_x19, m_x15.m_x20, m_x15.m_x21, m_x15.m_x22, m_x15.m_x23, m_x15.m_x24, m_x15.m_x25, m_x15.m_x26, m_x15.m_x27, m_x15.m_x28, m_x15.m_x29, m_x15.m_x30, m_x15.m_x15.m_x15, m_x16.m_x16, m_x16.m_x17, m_x16.m_x18, m_x16.m_x19, m_x16.m_x20, m_x16.m_x21, m_x16.m_x22, m_x16.m_x23, m_x16.m_x24, m_x16.m_x25, m_x16.m_x26, m_x16.m_x27, m_x16.m_x28, m_x16.m_x29, m_x16.m_x30, m_x16.m_x16.m_x16, m_x17.m_x17, m_x17.m_x18, m_x17.m_x19, m_x17.m_x20, m_x17.m_x21, m_x17.m_x22, m_x17.m_x23, m_x17.m_x24, m_x17.m_x25, m_x17.m_x26, m_x17.m_x27, m_x17.m_x28, m_x17.m_x29, m_x17.m_x30, m_x17.m_x17.m_x17, m_x18.m_x18, m_x18.m_x19, m_x18.m_x20, m_x18.m_x21, m_x18.m_x22, m_x18.m_x23, m_x18.m_x24, m_x18.m_x25, m_x18.m_x26, m_x18.m_x27, m_x18.m_x28, m_x18.m_x29, m_x18.m_x30, m_x18.m_x18.m_x18, m_x19.m_x19, m_x19.m_x20, m_x19.m_x21, m_x19.m_x22, m_x19.m_x23, m_x19.m_x24, m_x19.m_x25, m_x19.m_x26, m_x19.m_x27, m_x19.m_x28, m_x19.m_x29, m_x19.m_x30, m_x19.m_x19.m_x19, m_x20.m_x20, m_x20.m_x21, m_x20.m_x22, m_x20.m_x23, m_x20.m_x24, m_x20.m_x25, m_x20.m_x26, m_x20.m_x27, m_x20.m_x28, m_x20.m_x29, m_x20.m_x30, m_x20.m_x20.m_x20, m_x21.m_x21, m_x21.m_x22, m_x21.m_x23, m_x21.m_x24, m_x21.m_x25, m_x21.m_x26, m_x21.m_x27, m_x21.m_x28, m_x21.m_x29, m_x21.m_x30, m_x21.m_x21.m_x21, m_x22.m_x22, m_x22.m_x23, m_x22.m_x24, m_x22.m_x25, m_x22.m_x26, m_x22.m_x27, m_x22.m_x28, m_x22.m_x29, m_x22.m_x30, m_x22.m_x22.m_x22, m_x23.m_x23, m_x23.m_x24, m_x23.m_x25, m_x23.m_x26, m_x23.m_x27, m_x23.m_x28, m_x23.m_x29, m_x23.m_x30, m_x23.m_x23.m_x23, m_x24.m_x24, m_x24.m_x25, m_x24.m_x26, m_x24.m_x27, m_x24.m_x28, m_x24.m_x29, m_x24.m_x30, m_x24.m_x24.m_x24, m_x25.m_x25, m_x25.m_x26, m_x25.m_x27, m_x25.m_x28, m_x25.m_x29, m_x25.m_x30, m_x25.m_x25.m_x25, m_x26.m_x26, m_x26.m_x27, m_x26.m_x28, m_x26.m_x29, m_x26.m_x30, m_x26.m_x26.m_x26, m_x27.m_x27, m_x27.m_x28, m_x27.m_x29, m_x27.m_x30, m_x27.m_x27.m_x27, m_x28.m_x28, m_x28.m_x29, m_x28.m_x30, m_x28.m_x28.m_x28, m_x29.m_x29, m_x29.m_x30, m_x29.m_x29.m_x29, m_x30.m_x30, m_x30.m_x30.m_x30, m_d\n",
            "Cluster variables: id\n",
            "No. Observations: 2500\n",
            "No. Groups: 250\n",
            "\n",
            "------------------ Score & algorithm ------------------\n",
            "Score function: orth-PO\n",
            "DML algorithm: dml2\n",
            "DML approach: cre\n",
            "DML approach type: non-separable\n",
            "\n",
            "------------------ Machine learner ------------------\n",
            "Learner of nuisance ml_l: regr.cv_glmnet\n",
            "RMSE of nuisance ml_l : 2.67017\n",
            "Learner of nuisance ml_m: regr.cv_glmnet\n",
            "RMSE of nuisance ml_m : 1.57672\n",
            "Model RMSE: 7.21744\n",
            "\n",
            "------------------ Resampling ------------------\n",
            "No. folds: 5\n",
            "No. folds per cluster: 5\n",
            "No. repeated sample splits: 1\n",
            "Apply cross-fitting: TRUE\n",
            "\n",
            "------------------ Fit summary ------------------\n",
            " Estimates and significance testing of the effect of target variables\n",
            "  Estimate. Std. Error t value Pr(>|t|)    \n",
            "d   0.48461    0.08187   5.919 3.23e-09 ***\n",
            "---\n",
            "Signif. codes:  0 ‘***’ 0.001 ‘**’ 0.01 ‘*’ 0.05 ‘.’ 0.1 ‘ ’ 1\n",
            "\n",
            "\n",
            "$ml_l\n",
            "$ml_l$d\n",
            "NULL\n",
            "\n",
            "\n",
            "$ml_m\n",
            "$ml_m$d\n",
            "NULL\n",
            "\n",
            "\n"
          ]
        }
      ],
      "source": [
        "set.seed(1408)\n",
        "\n",
        "# set up data for DML procedure\n",
        "obj_dml_data_lasso = dml_cre_data_from_data_frame(df2,\n",
        "                            x_cols = x_cols,  y_col = \"y\", d_cols = \"d\",\n",
        "                            xbar_cols = xbar_cols, dbar_cols = \"m_d\",\n",
        "                            cluster_cols = \"id\")\n",
        "# Choose CV-LASSO\n",
        "learner = lrn(\"regr.cv_glmnet\", s=\"lambda.min\")\n",
        "ml_m = learner$clone()\n",
        "ml_l = learner$clone()\n",
        "\n",
        "# Initialize DML\n",
        "dml_lasso = dml_cre_plr$new(obj_dml_data_lasso,\n",
        "                          ml_l = ml_l, ml_m = ml_m)\n",
        "\n",
        "# Estimate target/causal parameter\n",
        "dml_lasso$fit()\n",
        "dml_lasso$print()\n",
        "print(dml_lasso$params)"
      ]
    },
    {
      "cell_type": "markdown",
      "source": [
        "### **5. Extract DML estimates and compare them**"
      ],
      "metadata": {
        "id": "y1yzIgKfk3Gd"
      }
    },
    {
      "cell_type": "code",
      "source": [
        "# 6. Display table that compares results\n",
        "library(xtable)\n",
        "\n",
        "table = matrix(0, 4, 6)\n",
        "table[1,] = cbind(dml_rpart$coef_theta,dml_rpart$se_theta,dml_rpart$pval_theta,dml_rpart$model_rmse,as.numeric(dml_rpart$rmses[\"ml_l\"]),as.numeric(dml_rpart$rmses[\"ml_m\"]))\n",
        "table[2,] = cbind(dml_rf$coef_theta,dml_rf$se_theta,dml_rf$pval_theta,dml_rf$model_rmse,as.numeric(dml_rf$rmses[\"ml_l\"]),as.numeric(dml_rf$rmses[\"ml_m\"]))\n",
        "table[3,] = cbind(dml_xgboost$coef_theta, dml_xgboost$se_theta, dml_xgboost$pval_theta,dml_xgboost$model_rmse,as.numeric(dml_xgboost$rmses[\"ml_l\"]),as.numeric(dml_xgboost$rmses[\"ml_m\"]))\n",
        "table[4,] = cbind(dml_lasso$coef_theta, dml_lasso$se_theta, dml_lasso$pval_theta,dml_lasso$model_rmse,as.numeric(dml_lasso$rmses[\"ml_l\"]),as.numeric(dml_lasso$rmses[\"ml_m\"]))\n",
        "\n",
        "colnames(table)= c(\"Estimate\", \"Std. Error\", \"P-value\", \"Model RMSE\", \"MSE of l\", \"MSE of m\")\n",
        "rownames(table)= c(\"DML-CART\", \"DML-RF\" , \"DML-XGBOOST\", \"DML-LASSO\")\n",
        "tab = xtable(table)\n",
        "tab"
      ],
      "metadata": {
        "colab": {
          "base_uri": "https://localhost:8080/",
          "height": 224
        },
        "id": "PnSP9GeklEK4",
        "outputId": "fc20f411-1232-4667-c8e5-9f4111f870ca"
      },
      "execution_count": null,
      "outputs": [
        {
          "output_type": "display_data",
          "data": {
            "text/html": [
              "<table class=\"dataframe\">\n",
              "<caption>A xtable: 4 × 6</caption>\n",
              "<thead>\n",
              "\t<tr><th></th><th scope=col>Estimate</th><th scope=col>Std. Error</th><th scope=col>P-value</th><th scope=col>Model RMSE</th><th scope=col>MSE of l</th><th scope=col>MSE of m</th></tr>\n",
              "\t<tr><th></th><th scope=col>&lt;dbl&gt;</th><th scope=col>&lt;dbl&gt;</th><th scope=col>&lt;dbl&gt;</th><th scope=col>&lt;dbl&gt;</th><th scope=col>&lt;dbl&gt;</th><th scope=col>&lt;dbl&gt;</th></tr>\n",
              "</thead>\n",
              "<tbody>\n",
              "\t<tr><th scope=row>DML-CART</th><td>0.4481896</td><td>0.04535392</td><td>4.980380e-23</td><td>22.277467</td><td>7.366749</td><td>6.429422</td></tr>\n",
              "\t<tr><th scope=row>DML-RF</th><td>1.1036854</td><td>0.07120158</td><td>3.423019e-54</td><td> 9.985436</td><td>4.936983</td><td>3.240568</td></tr>\n",
              "\t<tr><th scope=row>DML-XGBOOST</th><td>0.7686004</td><td>0.08556428</td><td>2.641436e-19</td><td>11.821798</td><td>5.324304</td><td>3.521133</td></tr>\n",
              "\t<tr><th scope=row>DML-LASSO</th><td>0.4846126</td><td>0.08187007</td><td>3.233369e-09</td><td> 7.217440</td><td>2.670172</td><td>1.576719</td></tr>\n",
              "</tbody>\n",
              "</table>\n"
            ],
            "text/markdown": "\nA xtable: 4 × 6\n\n| <!--/--> | Estimate &lt;dbl&gt; | Std. Error &lt;dbl&gt; | P-value &lt;dbl&gt; | Model RMSE &lt;dbl&gt; | MSE of l &lt;dbl&gt; | MSE of m &lt;dbl&gt; |\n|---|---|---|---|---|---|---|\n| DML-CART | 0.4481896 | 0.04535392 | 4.980380e-23 | 22.277467 | 7.366749 | 6.429422 |\n| DML-RF | 1.1036854 | 0.07120158 | 3.423019e-54 |  9.985436 | 4.936983 | 3.240568 |\n| DML-XGBOOST | 0.7686004 | 0.08556428 | 2.641436e-19 | 11.821798 | 5.324304 | 3.521133 |\n| DML-LASSO | 0.4846126 | 0.08187007 | 3.233369e-09 |  7.217440 | 2.670172 | 1.576719 |\n\n",
            "text/latex": "A xtable: 4 × 6\n\\begin{tabular}{r|llllll}\n  & Estimate & Std. Error & P-value & Model RMSE & MSE of l & MSE of m\\\\\n  & <dbl> & <dbl> & <dbl> & <dbl> & <dbl> & <dbl>\\\\\n\\hline\n\tDML-CART & 0.4481896 & 0.04535392 & 4.980380e-23 & 22.277467 & 7.366749 & 6.429422\\\\\n\tDML-RF & 1.1036854 & 0.07120158 & 3.423019e-54 &  9.985436 & 4.936983 & 3.240568\\\\\n\tDML-XGBOOST & 0.7686004 & 0.08556428 & 2.641436e-19 & 11.821798 & 5.324304 & 3.521133\\\\\n\tDML-LASSO & 0.4846126 & 0.08187007 & 3.233369e-09 &  7.217440 & 2.670172 & 1.576719\\\\\n\\end{tabular}\n",
            "text/plain": [
              "            Estimate  Std. Error P-value      Model RMSE MSE of l MSE of m\n",
              "DML-CART    0.4481896 0.04535392 4.980380e-23 22.277467  7.366749 6.429422\n",
              "DML-RF      1.1036854 0.07120158 3.423019e-54  9.985436  4.936983 3.240568\n",
              "DML-XGBOOST 0.7686004 0.08556428 2.641436e-19 11.821798  5.324304 3.521133\n",
              "DML-LASSO   0.4846126 0.08187007 3.233369e-09  7.217440  2.670172 1.576719"
            ]
          },
          "metadata": {}
        }
      ]
    }
  ],
  "metadata": {
    "colab": {
      "provenance": [],
      "authorship_tag": "ABX9TyM7NWyQrC8tQ1pBdEN/fpAd",
      "include_colab_link": true
    },
    "kernelspec": {
      "display_name": "R",
      "name": "ir"
    },
    "language_info": {
      "name": "R"
    }
  },
  "nbformat": 4,
  "nbformat_minor": 0
}